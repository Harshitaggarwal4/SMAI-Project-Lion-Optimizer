{
  "cells": [
    {
      "cell_type": "markdown",
      "metadata": {
        "id": "35PZ4G7G40qh"
      },
      "source": [
        "# Load Dataset"
      ]
    },
    {
      "cell_type": "code",
      "execution_count": 1,
      "metadata": {
        "colab": {
          "base_uri": "https://localhost:8080/",
          "height": 643,
          "referenced_widgets": [
            "1fc115bbcec2416c98dea7ea57c4afe9",
            "04b1d4331de6494293da279857ddf425",
            "902f73ed1225450bafad1708de6496c5",
            "5e5624fdf7fd4b3bba742cd6d40e43d7",
            "da2d551d7d0b44f58d7c4a65c9b4f508",
            "4f75cd78c83e48e6900315881fc3c0d2",
            "1f9281415672426187db4615ada9d9e0",
            "6b370e279f3045dbbc3abb2b4d2f043d",
            "f859905534e3465caedda141a02a45a9",
            "03d1996bb4694d008a666cb39d265503",
            "8c300a8d600042ae871dabbb3fd8a75a",
            "d9a80df378b649b18efe88ca04d2ac46",
            "f36cebc6d0ed42218d2f4decf3c681f5",
            "5d8d48cce6224feba3b827ec8ef39c04",
            "d6165b537c1941edacc8a96b94e27e76",
            "37da46cc1dba4cadbc32718d85589fb7",
            "a82c5053929846928c32d4ac17763781",
            "5af92c0b54b44ce9ac92a1d59bb83c23",
            "68acde3714b742d3ac489e0006e2b7df",
            "7fa8cef90216461b90ad021173e5136d",
            "15005108681e43c0995bab2037da8d84",
            "f5f52d60f39f4ff6b860c0c63f4312cc",
            "13b6d8be92384e5fa32c3b4bdbb41623",
            "50c7ca8214154392bc50dc5d43a93825",
            "fe43da2a8b2c4327858bc67e5dee14f2",
            "b74e6af9da7f49f6bc856fc4fd82b605",
            "ea40f80a458f4b4ea5aedca7903302b2",
            "37a9c79d4f9e43cdaa10cadf1da3b53b",
            "402dd67e5a6c40a3b5e9086603ee3792",
            "885345f70ae04917b414a372ff80cc52",
            "6cad9749cc0041d783928e7440ce0fb9",
            "f0027ccbc87944a6aa09a906736430bf",
            "8158c3c8d4a54bd983d889e38d7dd421",
            "9282bba456494d7f9cd4e65b2ec6808c",
            "63a0d79dc9794915b6b14ed81a7a3bcf",
            "965121b6de334c9b80699f1552421aef",
            "f27f0e9e6c284adfa49fca3284ad01b8",
            "518e2d57e3cc42c7992c58f790540f53",
            "193befd758744b5d9fead771abc18971",
            "538bdfe5f5654c26945ba1cd003f99cc",
            "ffb9ec954aa24e04bc99107665aa4f56",
            "4de910cd2d55454d964efd569fefc9b4",
            "39e4d01034b94bd6ada1ee6f041934e8",
            "cf73b7e9a0254b1b9a56e471c373c6c8",
            "2b260756d03646fc96057ce7c8567d52",
            "12b6928e80f9428880c965b6a75a0077",
            "f4738b13a11643a5bde854384d2b762f",
            "c448027889a14b73928e243fd442772f",
            "416fc939230d41b784d5de9d9b0c7430",
            "52ed4350b22e419397772cec7fab0d50",
            "49af2bde0ffe464a90cb72dd50096172",
            "d7ae28ba02a04c3e8594f505400cdbdb",
            "ed77186c30dc43279236350029379fd0",
            "c16ad16546234eae8601134fb55f8b72",
            "6be7cb27614b45a1bbecd2728c161b81",
            "12fb32d92f094abeb9b1278df84ebfa0",
            "2789a323dc7c4b33916a1a8d781d3a01",
            "6bd3c0ae89ab433ab13e1e8dd91d96bf",
            "801fc1ff55884d2ea43b8bbe6d01325f",
            "35622f0ed82a4a2aac670014e166ebd7",
            "a674433ac6cd462886eff4b313727a23",
            "fdf21c2c812d489daf926d7415fb3563",
            "1cc0b5767e7a4f79b0c2b5fb131a1fe2",
            "35d9f78dbd5c4a9186e19e7d5a1bbf0b",
            "f0d89f39bdbc4af78d8696ee17f8f91e",
            "e377186058564f3d9e7f22f546ff27c4",
            "d6869be67180450b87d78f0a1deb0074",
            "bd16c54ffe694ce096489c1e06a2102a",
            "a8ebe8c5de2741aeb5595c2944896e66",
            "4816fd94c7724342bb22d3416038626a",
            "69a0f737527e42c7910e86fcac7913e2",
            "7235eb91b41a45878691c9070c22f586",
            "c6fe03d2faab41b695ef2a24ed30d23b",
            "28b2231c10af48ed960a2ed31fa58432",
            "9e4212959d154f249105a833f36a01f3",
            "4335b452a646465da0425a8a1013a18e",
            "5e66e730afde4996bbde446074c68831"
          ]
        },
        "id": "U4gCLIXB0JF6",
        "outputId": "2f0905df-f5de-48ac-bef6-c55769f9f6b2"
      },
      "outputs": [],
      "source": [
        "!pip install -q datasets\n",
        "\n",
        "from datasets import load_dataset \n"
      ]
    },
    {
      "cell_type": "code",
      "execution_count": 2,
      "metadata": {},
      "outputs": [
        {
          "name": "stderr",
          "output_type": "stream",
          "text": [
            "Found cached dataset imagenet_sketch (/home/yash/.cache/huggingface/datasets/imagenet_sketch/default/0.0.0/9bbda26372327ae1daa792112c8bbd2545a91b9f397ea6f285576add0a70ab6e)\n"
          ]
        },
        {
          "data": {
            "application/vnd.jupyter.widget-view+json": {
              "model_id": "8afd07eeae524723a66beba0dce3c91a",
              "version_major": 2,
              "version_minor": 0
            },
            "text/plain": [
              "  0%|          | 0/1 [00:00<?, ?it/s]"
            ]
          },
          "metadata": {},
          "output_type": "display_data"
        },
        {
          "name": "stderr",
          "output_type": "stream",
          "text": [
            "Loading cached split indices for dataset at /home/yash/.cache/huggingface/datasets/imagenet_sketch/default/0.0.0/9bbda26372327ae1daa792112c8bbd2545a91b9f397ea6f285576add0a70ab6e/cache-1e2c743a1b8e94f4.arrow and /home/yash/.cache/huggingface/datasets/imagenet_sketch/default/0.0.0/9bbda26372327ae1daa792112c8bbd2545a91b9f397ea6f285576add0a70ab6e/cache-42fafcef8adc75b2.arrow\n",
            "Loading cached split indices for dataset at /home/yash/.cache/huggingface/datasets/imagenet_sketch/default/0.0.0/9bbda26372327ae1daa792112c8bbd2545a91b9f397ea6f285576add0a70ab6e/cache-fc63262862d24131.arrow and /home/yash/.cache/huggingface/datasets/imagenet_sketch/default/0.0.0/9bbda26372327ae1daa792112c8bbd2545a91b9f397ea6f285576add0a70ab6e/cache-f2442f13ad24f47d.arrow\n"
          ]
        }
      ],
      "source": [
        "# Load dataset\n",
        "seed = 42\n",
        "dataset = load_dataset(\"imagenet_sketch\")\n",
        "\n",
        "train_dev_test_split = dataset['train'].train_test_split(test_size=0.3, seed=seed)\n",
        "dev_test_split = train_dev_test_split['test'].train_test_split(test_size=0.5, seed=seed)\n",
        "\n",
        "train_dataset = train_dev_test_split['train']\n",
        "dev_dataset = dev_test_split['train']\n",
        "test_dataset = dev_test_split['test']"
      ]
    },
    {
      "cell_type": "code",
      "execution_count": 3,
      "metadata": {
        "colab": {
          "base_uri": "https://localhost:8080/"
        },
        "id": "wx6I55Qd37U2",
        "outputId": "67ff439c-d28a-4c27-f00e-c2982b8bd2a6"
      },
      "outputs": [
        {
          "name": "stdout",
          "output_type": "stream",
          "text": [
            "{'tench, Tinca tinca': 0, 'goldfish, Carassius auratus': 1, 'great white shark, white shark, man-eater, man-eating shark, Carcharodon carcharias': 2, 'tiger shark, Galeocerdo cuvieri': 3, 'hammerhead, hammerhead shark': 4, 'electric ray, crampfish, numbfish, torpedo': 5, 'stingray': 6, 'cock': 7, 'hen': 8, 'ostrich, Struthio camelus': 9, 'brambling, Fringilla montifringilla': 10, 'goldfinch, Carduelis carduelis': 11, 'house finch, linnet, Carpodacus mexicanus': 12, 'junco, snowbird': 13, 'indigo bunting, indigo finch, indigo bird, Passerina cyanea': 14, 'robin, American robin, Turdus migratorius': 15, 'bulbul': 16, 'jay': 17, 'magpie': 18, 'chickadee': 19, 'water ouzel, dipper': 20, 'kite': 21, 'bald eagle, American eagle, Haliaeetus leucocephalus': 22, 'vulture': 23, 'great grey owl, great gray owl, Strix nebulosa': 24, 'European fire salamander, Salamandra salamandra': 25, 'common newt, Triturus vulgaris': 26, 'eft': 27, 'spotted salamander, Ambystoma maculatum': 28, 'axolotl, mud puppy, Ambystoma mexicanum': 29, 'bullfrog, Rana catesbeiana': 30, 'tree frog, tree-frog': 31, 'tailed frog, bell toad, ribbed toad, tailed toad, Ascaphus trui': 32, 'loggerhead, loggerhead turtle, Caretta caretta': 33, 'leatherback turtle, leatherback, leathery turtle, Dermochelys coriacea': 34, 'mud turtle': 35, 'terrapin': 36, 'box turtle, box tortoise': 37, 'banded gecko': 38, 'common iguana, iguana, Iguana iguana': 39, 'American chameleon, anole, Anolis carolinensis': 40, 'whiptail, whiptail lizard': 41, 'agama': 42, 'frilled lizard, Chlamydosaurus kingi': 43, 'alligator lizard': 44, 'Gila monster, Heloderma suspectum': 45, 'green lizard, Lacerta viridis': 46, 'African chameleon, Chamaeleo chamaeleon': 47, 'Komodo dragon, Komodo lizard, dragon lizard, giant lizard, Varanus komodoensis': 48, 'African crocodile, Nile crocodile, Crocodylus niloticus': 49, 'American alligator, Alligator mississipiensis': 50, 'triceratops': 51, 'thunder snake, worm snake, Carphophis amoenus': 52, 'ringneck snake, ring-necked snake, ring snake': 53, 'hognose snake, puff adder, sand viper': 54, 'green snake, grass snake': 55, 'king snake, kingsnake': 56, 'garter snake, grass snake': 57, 'water snake': 58, 'vine snake': 59, 'night snake, Hypsiglena torquata': 60, 'boa constrictor, Constrictor constrictor': 61, 'rock python, rock snake, Python sebae': 62, 'Indian cobra, Naja naja': 63, 'green mamba': 64, 'sea snake': 65, 'horned viper, cerastes, sand viper, horned asp, Cerastes cornutus': 66, 'diamondback, diamondback rattlesnake, Crotalus adamanteus': 67, 'sidewinder, horned rattlesnake, Crotalus cerastes': 68, 'trilobite': 69, 'harvestman, daddy longlegs, Phalangium opilio': 70, 'scorpion': 71, 'black and gold garden spider, Argiope aurantia': 72, 'barn spider, Araneus cavaticus': 73, 'garden spider, Aranea diademata': 74, 'black widow, Latrodectus mactans': 75, 'tarantula': 76, 'wolf spider, hunting spider': 77, 'tick': 78, 'centipede': 79, 'black grouse': 80, 'ptarmigan': 81, 'ruffed grouse, partridge, Bonasa umbellus': 82, 'prairie chicken, prairie grouse, prairie fowl': 83, 'peacock': 84, 'quail': 85, 'partridge': 86, 'African grey, African gray, Psittacus erithacus': 87, 'macaw': 88, 'sulphur-crested cockatoo, Kakatoe galerita, Cacatua galerita': 89, 'lorikeet': 90, 'coucal': 91, 'bee eater': 92, 'hornbill': 93, 'hummingbird': 94, 'jacamar': 95, 'toucan': 96, 'drake': 97, 'red-breasted merganser, Mergus serrator': 98, 'goose': 99, 'black swan, Cygnus atratus': 100, 'tusker': 101, 'echidna, spiny anteater, anteater': 102, 'platypus, duckbill, duckbilled platypus, duck-billed platypus, Ornithorhynchus anatinus': 103, 'wallaby, brush kangaroo': 104, 'koala, koala bear, kangaroo bear, native bear, Phascolarctos cinereus': 105, 'wombat': 106, 'jellyfish': 107, 'sea anemone, anemone': 108, 'brain coral': 109, 'flatworm, platyhelminth': 110, 'nematode, nematode worm, roundworm': 111, 'conch': 112, 'snail': 113, 'slug': 114, 'sea slug, nudibranch': 115, 'chiton, coat-of-mail shell, sea cradle, polyplacophore': 116, 'chambered nautilus, pearly nautilus, nautilus': 117, 'Dungeness crab, Cancer magister': 118, 'rock crab, Cancer irroratus': 119, 'fiddler crab': 120, 'king crab, Alaska crab, Alaskan king crab, Alaska king crab, Paralithodes camtschatica': 121, 'American lobster, Northern lobster, Maine lobster, Homarus americanus': 122, 'spiny lobster, langouste, rock lobster, crawfish, crayfish, sea crawfish': 123, 'crayfish, crawfish, crawdad, crawdaddy': 124, 'hermit crab': 125, 'isopod': 126, 'white stork, Ciconia ciconia': 127, 'black stork, Ciconia nigra': 128, 'spoonbill': 129, 'flamingo': 130, 'little blue heron, Egretta caerulea': 131, 'American egret, great white heron, Egretta albus': 132, 'bittern': 133, 'crane': 134, 'limpkin, Aramus pictus': 135, 'European gallinule, Porphyrio porphyrio': 136, 'American coot, marsh hen, mud hen, water hen, Fulica americana': 137, 'bustard': 138, 'ruddy turnstone, Arenaria interpres': 139, 'red-backed sandpiper, dunlin, Erolia alpina': 140, 'redshank, Tringa totanus': 141, 'dowitcher': 142, 'oystercatcher, oyster catcher': 143, 'pelican': 144, 'king penguin, Aptenodytes patagonica': 145, 'albatross, mollymawk': 146, 'grey whale, gray whale, devilfish, Eschrichtius gibbosus, Eschrichtius robustus': 147, 'killer whale, killer, orca, grampus, sea wolf, Orcinus orca': 148, 'dugong, Dugong dugon': 149, 'sea lion': 150, 'Chihuahua': 151, 'Japanese spaniel': 152, 'Maltese dog, Maltese terrier, Maltese': 153, 'Pekinese, Pekingese, Peke': 154, 'Shih-Tzu': 155, 'Blenheim spaniel': 156, 'papillon': 157, 'toy terrier': 158, 'Rhodesian ridgeback': 159, 'Afghan hound, Afghan': 160, 'basset, basset hound': 161, 'beagle': 162, 'bloodhound, sleuthhound': 163, 'bluetick': 164, 'black-and-tan coonhound': 165, 'Walker hound, Walker foxhound': 166, 'English foxhound': 167, 'redbone': 168, 'borzoi, Russian wolfhound': 169, 'Irish wolfhound': 170, 'Italian greyhound': 171, 'whippet': 172, 'Ibizan hound, Ibizan Podenco': 173, 'Norwegian elkhound, elkhound': 174, 'otterhound, otter hound': 175, 'Saluki, gazelle hound': 176, 'Scottish deerhound, deerhound': 177, 'Weimaraner': 178, 'Staffordshire bullterrier, Staffordshire bull terrier': 179, 'American Staffordshire terrier, Staffordshire terrier, American pit bull terrier, pit bull terrier': 180, 'Bedlington terrier': 181, 'Border terrier': 182, 'Kerry blue terrier': 183, 'Irish terrier': 184, 'Norfolk terrier': 185, 'Norwich terrier': 186, 'Yorkshire terrier': 187, 'wire-haired fox terrier': 188, 'Lakeland terrier': 189, 'Sealyham terrier, Sealyham': 190, 'Airedale, Airedale terrier': 191, 'cairn, cairn terrier': 192, 'Australian terrier': 193, 'Dandie Dinmont, Dandie Dinmont terrier': 194, 'Boston bull, Boston terrier': 195, 'miniature schnauzer': 196, 'giant schnauzer': 197, 'standard schnauzer': 198, 'Scotch terrier, Scottish terrier, Scottie': 199, 'Tibetan terrier, chrysanthemum dog': 200, 'silky terrier, Sydney silky': 201, 'soft-coated wheaten terrier': 202, 'West Highland white terrier': 203, 'Lhasa, Lhasa apso': 204, 'flat-coated retriever': 205, 'curly-coated retriever': 206, 'golden retriever': 207, 'Labrador retriever': 208, 'Chesapeake Bay retriever': 209, 'German short-haired pointer': 210, 'vizsla, Hungarian pointer': 211, 'English setter': 212, 'Irish setter, red setter': 213, 'Gordon setter': 214, 'Brittany spaniel': 215, 'clumber, clumber spaniel': 216, 'English springer, English springer spaniel': 217, 'Welsh springer spaniel': 218, 'cocker spaniel, English cocker spaniel, cocker': 219, 'Sussex spaniel': 220, 'Irish water spaniel': 221, 'kuvasz': 222, 'schipperke': 223, 'groenendael': 224, 'malinois': 225, 'briard': 226, 'kelpie': 227, 'komondor': 228, 'Old English sheepdog, bobtail': 229, 'Shetland sheepdog, Shetland sheep dog, Shetland': 230, 'collie': 231, 'Border collie': 232, 'Bouvier des Flandres, Bouviers des Flandres': 233, 'Rottweiler': 234, 'German shepherd, German shepherd dog, German police dog, alsatian': 235, 'Doberman, Doberman pinscher': 236, 'miniature pinscher': 237, 'Greater Swiss Mountain dog': 238, 'Bernese mountain dog': 239, 'Appenzeller': 240, 'EntleBucher': 241, 'boxer': 242, 'bull mastiff': 243, 'Tibetan mastiff': 244, 'French bulldog': 245, 'Great Dane': 246, 'Saint Bernard, St Bernard': 247, 'Eskimo dog, husky': 248, 'malamute, malemute, Alaskan malamute': 249, 'Siberian husky': 250, 'dalmatian, coach dog, carriage dog': 251, 'affenpinscher, monkey pinscher, monkey dog': 252, 'basenji': 253, 'pug, pug-dog': 254, 'Leonberg': 255, 'Newfoundland, Newfoundland dog': 256, 'Great Pyrenees': 257, 'Samoyed, Samoyede': 258, 'Pomeranian': 259, 'chow, chow chow': 260, 'keeshond': 261, 'Brabancon griffon': 262, 'Pembroke, Pembroke Welsh corgi': 263, 'Cardigan, Cardigan Welsh corgi': 264, 'toy poodle': 265, 'miniature poodle': 266, 'standard poodle': 267, 'Mexican hairless': 268, 'timber wolf, grey wolf, gray wolf, Canis lupus': 269, 'white wolf, Arctic wolf, Canis lupus tundrarum': 270, 'red wolf, maned wolf, Canis rufus, Canis niger': 271, 'coyote, prairie wolf, brush wolf, Canis latrans': 272, 'dingo, warrigal, warragal, Canis dingo': 273, 'dhole, Cuon alpinus': 274, 'African hunting dog, hyena dog, Cape hunting dog, Lycaon pictus': 275, 'hyena, hyaena': 276, 'red fox, Vulpes vulpes': 277, 'kit fox, Vulpes macrotis': 278, 'Arctic fox, white fox, Alopex lagopus': 279, 'grey fox, gray fox, Urocyon cinereoargenteus': 280, 'tabby, tabby cat': 281, 'tiger cat': 282, 'Persian cat': 283, 'Siamese cat, Siamese': 284, 'Egyptian cat': 285, 'cougar, puma, catamount, mountain lion, painter, panther, Felis concolor': 286, 'lynx, catamount': 287, 'leopard, Panthera pardus': 288, 'snow leopard, ounce, Panthera uncia': 289, 'jaguar, panther, Panthera onca, Felis onca': 290, 'lion, king of beasts, Panthera leo': 291, 'tiger, Panthera tigris': 292, 'cheetah, chetah, Acinonyx jubatus': 293, 'brown bear, bruin, Ursus arctos': 294, 'American black bear, black bear, Ursus americanus, Euarctos americanus': 295, 'ice bear, polar bear, Ursus Maritimus, Thalarctos maritimus': 296, 'sloth bear, Melursus ursinus, Ursus ursinus': 297, 'mongoose': 298, 'meerkat, mierkat': 299, 'tiger beetle': 300, 'ladybug, ladybeetle, lady beetle, ladybird, ladybird beetle': 301, 'ground beetle, carabid beetle': 302, 'long-horned beetle, longicorn, longicorn beetle': 303, 'leaf beetle, chrysomelid': 304, 'dung beetle': 305, 'rhinoceros beetle': 306, 'weevil': 307, 'fly': 308, 'bee': 309, 'ant, emmet, pismire': 310, 'grasshopper, hopper': 311, 'cricket': 312, 'walking stick, walkingstick, stick insect': 313, 'cockroach, roach': 314, 'mantis, mantid': 315, 'cicada, cicala': 316, 'leafhopper': 317, 'lacewing, lacewing fly': 318, \"dragonfly, darning needle, devil's darning needle, sewing needle, snake feeder, snake doctor, mosquito hawk, skeeter hawk\": 319, 'damselfly': 320, 'admiral': 321, 'ringlet, ringlet butterfly': 322, 'monarch, monarch butterfly, milkweed butterfly, Danaus plexippus': 323, 'cabbage butterfly': 324, 'sulphur butterfly, sulfur butterfly': 325, 'lycaenid, lycaenid butterfly': 326, 'starfish, sea star': 327, 'sea urchin': 328, 'sea cucumber, holothurian': 329, 'wood rabbit, cottontail, cottontail rabbit': 330, 'hare': 331, 'Angora, Angora rabbit': 332, 'hamster': 333, 'porcupine, hedgehog': 334, 'fox squirrel, eastern fox squirrel, Sciurus niger': 335, 'marmot': 336, 'beaver': 337, 'guinea pig, Cavia cobaya': 338, 'sorrel': 339, 'zebra': 340, 'hog, pig, grunter, squealer, Sus scrofa': 341, 'wild boar, boar, Sus scrofa': 342, 'warthog': 343, 'hippopotamus, hippo, river horse, Hippopotamus amphibius': 344, 'ox': 345, 'water buffalo, water ox, Asiatic buffalo, Bubalus bubalis': 346, 'bison': 347, 'ram, tup': 348, 'bighorn, bighorn sheep, cimarron, Rocky Mountain bighorn, Rocky Mountain sheep, Ovis canadensis': 349, 'ibex, Capra ibex': 350, 'hartebeest': 351, 'impala, Aepyceros melampus': 352, 'gazelle': 353, 'Arabian camel, dromedary, Camelus dromedarius': 354, 'llama': 355, 'weasel': 356, 'mink': 357, 'polecat, fitch, foulmart, foumart, Mustela putorius': 358, 'black-footed ferret, ferret, Mustela nigripes': 359, 'otter': 360, 'skunk, polecat, wood pussy': 361, 'badger': 362, 'armadillo': 363, 'three-toed sloth, ai, Bradypus tridactylus': 364, 'orangutan, orang, orangutang, Pongo pygmaeus': 365, 'gorilla, Gorilla gorilla': 366, 'chimpanzee, chimp, Pan troglodytes': 367, 'gibbon, Hylobates lar': 368, 'siamang, Hylobates syndactylus, Symphalangus syndactylus': 369, 'guenon, guenon monkey': 370, 'patas, hussar monkey, Erythrocebus patas': 371, 'baboon': 372, 'macaque': 373, 'langur': 374, 'colobus, colobus monkey': 375, 'proboscis monkey, Nasalis larvatus': 376, 'marmoset': 377, 'capuchin, ringtail, Cebus capucinus': 378, 'howler monkey, howler': 379, 'titi, titi monkey': 380, 'spider monkey, Ateles geoffroyi': 381, 'squirrel monkey, Saimiri sciureus': 382, 'Madagascar cat, ring-tailed lemur, Lemur catta': 383, 'indri, indris, Indri indri, Indri brevicaudatus': 384, 'Indian elephant, Elephas maximus': 385, 'African elephant, Loxodonta africana': 386, 'lesser panda, red panda, panda, bear cat, cat bear, Ailurus fulgens': 387, 'giant panda, panda, panda bear, coon bear, Ailuropoda melanoleuca': 388, 'barracouta, snoek': 389, 'eel': 390, 'coho, cohoe, coho salmon, blue jack, silver salmon, Oncorhynchus kisutch': 391, 'rock beauty, Holocanthus tricolor': 392, 'anemone fish': 393, 'sturgeon': 394, 'gar, garfish, garpike, billfish, Lepisosteus osseus': 395, 'lionfish': 396, 'puffer, pufferfish, blowfish, globefish': 397, 'abacus': 398, 'abaya': 399, \"academic gown, academic robe, judge's robe\": 400, 'accordion, piano accordion, squeeze box': 401, 'acoustic guitar': 402, 'aircraft carrier, carrier, flattop, attack aircraft carrier': 403, 'airliner': 404, 'airship, dirigible': 405, 'altar': 406, 'ambulance': 407, 'amphibian, amphibious vehicle': 408, 'analog clock': 409, 'apiary, bee house': 410, 'apron': 411, 'ashcan, trash can, garbage can, wastebin, ash bin, ash-bin, ashbin, dustbin, trash barrel, trash bin': 412, 'assault rifle, assault gun': 413, 'backpack, back pack, knapsack, packsack, rucksack, haversack': 414, 'bakery, bakeshop, bakehouse': 415, 'balance beam, beam': 416, 'balloon': 417, 'ballpoint, ballpoint pen, ballpen, Biro': 418, 'Band Aid': 419, 'banjo': 420, 'bannister, banister, balustrade, balusters, handrail': 421, 'barbell': 422, 'barber chair': 423, 'barbershop': 424, 'barn': 425, 'barometer': 426, 'barrel, cask': 427, 'barrow, garden cart, lawn cart, wheelbarrow': 428, 'baseball': 429, 'basketball': 430, 'bassinet': 431, 'bassoon': 432, 'bathing cap, swimming cap': 433, 'bath towel': 434, 'bathtub, bathing tub, bath, tub': 435, 'beach wagon, station wagon, wagon, estate car, beach waggon, station waggon, waggon': 436, 'beacon, lighthouse, beacon light, pharos': 437, 'beaker': 438, 'bearskin, busby, shako': 439, 'beer bottle': 440, 'beer glass': 441, 'bell cote, bell cot': 442, 'bib': 443, 'bicycle-built-for-two, tandem bicycle, tandem': 444, 'bikini, two-piece': 445, 'binder, ring-binder': 446, 'binoculars, field glasses, opera glasses': 447, 'birdhouse': 448, 'boathouse': 449, 'bobsled, bobsleigh, bob': 450, 'bolo tie, bolo, bola tie, bola': 451, 'bonnet, poke bonnet': 452, 'bookcase': 453, 'bookshop, bookstore, bookstall': 454, 'bottlecap': 455, 'bow': 456, 'bow tie, bow-tie, bowtie': 457, 'brass, memorial tablet, plaque': 458, 'brassiere, bra, bandeau': 459, 'breakwater, groin, groyne, mole, bulwark, seawall, jetty': 460, 'breastplate, aegis, egis': 461, 'broom': 462, 'bucket, pail': 463, 'buckle': 464, 'bulletproof vest': 465, 'bullet train, bullet': 466, 'butcher shop, meat market': 467, 'cab, hack, taxi, taxicab': 468, 'caldron, cauldron': 469, 'candle, taper, wax light': 470, 'cannon': 471, 'canoe': 472, 'can opener, tin opener': 473, 'cardigan': 474, 'car mirror': 475, 'carousel, carrousel, merry-go-round, roundabout, whirligig': 476, \"carpenter's kit, tool kit\": 477, 'carton': 478, 'car wheel': 479, 'cash machine, cash dispenser, automated teller machine, automatic teller machine, automated teller, automatic teller, ATM': 480, 'cassette': 481, 'cassette player': 482, 'castle': 483, 'catamaran': 484, 'CD player': 485, 'cello, violoncello': 486, 'cellular telephone, cellular phone, cellphone, cell, mobile phone': 487, 'chain': 488, 'chainlink fence': 489, 'chain mail, ring mail, mail, chain armor, chain armour, ring armor, ring armour': 490, 'chain saw, chainsaw': 491, 'chest': 492, 'chiffonier, commode': 493, 'chime, bell, gong': 494, 'china cabinet, china closet': 495, 'Christmas stocking': 496, 'church, church building': 497, 'cinema, movie theater, movie theatre, movie house, picture palace': 498, 'cleaver, meat cleaver, chopper': 499, 'cliff dwelling': 500, 'cloak': 501, 'clog, geta, patten, sabot': 502, 'cocktail shaker': 503, 'coffee mug': 504, 'coffeepot': 505, 'coil, spiral, volute, whorl, helix': 506, 'combination lock': 507, 'computer keyboard, keypad': 508, 'confectionery, confectionary, candy store': 509, 'container ship, containership, container vessel': 510, 'convertible': 511, 'corkscrew, bottle screw': 512, 'cornet, horn, trumpet, trump': 513, 'cowboy boot': 514, 'cowboy hat, ten-gallon hat': 515, 'cradle': 516, 'crane2': 517, 'crash helmet': 518, 'crate': 519, 'crib, cot': 520, 'Crock Pot': 521, 'croquet ball': 522, 'crutch': 523, 'cuirass': 524, 'dam, dike, dyke': 525, 'desk': 526, 'desktop computer': 527, 'dial telephone, dial phone': 528, 'diaper, nappy, napkin': 529, 'digital clock': 530, 'digital watch': 531, 'dining table, board': 532, 'dishrag, dishcloth': 533, 'dishwasher, dish washer, dishwashing machine': 534, 'disk brake, disc brake': 535, 'dock, dockage, docking facility': 536, 'dogsled, dog sled, dog sleigh': 537, 'dome': 538, 'doormat, welcome mat': 539, 'drilling platform, offshore rig': 540, 'drum, membranophone, tympan': 541, 'drumstick': 542, 'dumbbell': 543, 'Dutch oven': 544, 'electric fan, blower': 545, 'electric guitar': 546, 'electric locomotive': 547, 'entertainment center': 548, 'envelope': 549, 'espresso maker': 550, 'face powder': 551, 'feather boa, boa': 552, 'file, file cabinet, filing cabinet': 553, 'fireboat': 554, 'fire engine, fire truck': 555, 'fire screen, fireguard': 556, 'flagpole, flagstaff': 557, 'flute, transverse flute': 558, 'folding chair': 559, 'football helmet': 560, 'forklift': 561, 'fountain': 562, 'fountain pen': 563, 'four-poster': 564, 'freight car': 565, 'French horn, horn': 566, 'frying pan, frypan, skillet': 567, 'fur coat': 568, 'garbage truck, dustcart': 569, 'gasmask, respirator, gas helmet': 570, 'gas pump, gasoline pump, petrol pump, island dispenser': 571, 'goblet': 572, 'go-kart': 573, 'golf ball': 574, 'golfcart, golf cart': 575, 'gondola': 576, 'gong, tam-tam': 577, 'gown': 578, 'grand piano, grand': 579, 'greenhouse, nursery, glasshouse': 580, 'grille, radiator grille': 581, 'grocery store, grocery, food market, market': 582, 'guillotine': 583, 'hair slide': 584, 'hair spray': 585, 'half track': 586, 'hammer': 587, 'hamper': 588, 'hand blower, blow dryer, blow drier, hair dryer, hair drier': 589, 'hand-held computer, hand-held microcomputer': 590, 'handkerchief, hankie, hanky, hankey': 591, 'hard disc, hard disk, fixed disk': 592, 'harmonica, mouth organ, harp, mouth harp': 593, 'harp': 594, 'harvester, reaper': 595, 'hatchet': 596, 'holster': 597, 'home theater, home theatre': 598, 'honeycomb': 599, 'hook, claw': 600, 'hoopskirt, crinoline': 601, 'horizontal bar, high bar': 602, 'horse cart, horse-cart': 603, 'hourglass': 604, 'iPod': 605, 'iron, smoothing iron': 606, \"jack-o'-lantern\": 607, 'jean, blue jean, denim': 608, 'jeep, landrover': 609, 'jersey, T-shirt, tee shirt': 610, 'jigsaw puzzle': 611, 'jinrikisha, ricksha, rickshaw': 612, 'joystick': 613, 'kimono': 614, 'knee pad': 615, 'knot': 616, 'lab coat, laboratory coat': 617, 'ladle': 618, 'lampshade, lamp shade': 619, 'laptop, laptop computer': 620, 'lawn mower, mower': 621, 'lens cap, lens cover': 622, 'letter opener, paper knife, paperknife': 623, 'library': 624, 'lifeboat': 625, 'lighter, light, igniter, ignitor': 626, 'limousine, limo': 627, 'liner, ocean liner': 628, 'lipstick, lip rouge': 629, 'Loafer': 630, 'lotion': 631, 'loudspeaker, speaker, speaker unit, loudspeaker system, speaker system': 632, \"loupe, jeweler's loupe\": 633, 'lumbermill, sawmill': 634, 'magnetic compass': 635, 'mailbag, postbag': 636, 'mailbox, letter box': 637, 'maillot': 638, 'maillot, tank suit': 639, 'manhole cover': 640, 'maraca': 641, 'marimba, xylophone': 642, 'mask': 643, 'matchstick': 644, 'maypole': 645, 'maze, labyrinth': 646, 'measuring cup': 647, 'medicine chest, medicine cabinet': 648, 'megalith, megalithic structure': 649, 'microphone, mike': 650, 'microwave, microwave oven': 651, 'military uniform': 652, 'milk can': 653, 'minibus': 654, 'miniskirt, mini': 655, 'minivan': 656, 'missile': 657, 'mitten': 658, 'mixing bowl': 659, 'mobile home, manufactured home': 660, 'Model T': 661, 'modem': 662, 'monastery': 663, 'monitor': 664, 'moped': 665, 'mortar': 666, 'mortarboard': 667, 'mosque': 668, 'mosquito net': 669, 'motor scooter, scooter': 670, 'mountain bike, all-terrain bike, off-roader': 671, 'mountain tent': 672, 'mouse, computer mouse': 673, 'mousetrap': 674, 'moving van': 675, 'muzzle': 676, 'nail': 677, 'neck brace': 678, 'necklace': 679, 'nipple': 680, 'notebook, notebook computer': 681, 'obelisk': 682, 'oboe, hautboy, hautbois': 683, 'ocarina, sweet potato': 684, 'odometer, hodometer, mileometer, milometer': 685, 'oil filter': 686, 'organ, pipe organ': 687, 'oscilloscope, scope, cathode-ray oscilloscope, CRO': 688, 'overskirt': 689, 'oxcart': 690, 'oxygen mask': 691, 'packet': 692, 'paddle, boat paddle': 693, 'paddlewheel, paddle wheel': 694, 'padlock': 695, 'paintbrush': 696, \"pajama, pyjama, pj's, jammies\": 697, 'palace': 698, 'panpipe, pandean pipe, syrinx': 699, 'paper towel': 700, 'parachute, chute': 701, 'parallel bars, bars': 702, 'park bench': 703, 'parking meter': 704, 'passenger car, coach, carriage': 705, 'patio, terrace': 706, 'pay-phone, pay-station': 707, 'pedestal, plinth, footstall': 708, 'pencil box, pencil case': 709, 'pencil sharpener': 710, 'perfume, essence': 711, 'Petri dish': 712, 'photocopier': 713, 'pick, plectrum, plectron': 714, 'pickelhaube': 715, 'picket fence, paling': 716, 'pickup, pickup truck': 717, 'pier': 718, 'piggy bank, penny bank': 719, 'pill bottle': 720, 'pillow': 721, 'ping-pong ball': 722, 'pinwheel': 723, 'pirate, pirate ship': 724, 'pitcher, ewer': 725, \"plane, carpenter's plane, woodworking plane\": 726, 'planetarium': 727, 'plastic bag': 728, 'plate rack': 729, 'plow, plough': 730, \"plunger, plumber's helper\": 731, 'Polaroid camera, Polaroid Land camera': 732, 'pole': 733, 'police van, police wagon, paddy wagon, patrol wagon, wagon, black Maria': 734, 'poncho': 735, 'pool table, billiard table, snooker table': 736, 'pop bottle, soda bottle': 737, 'pot, flowerpot': 738, \"potter's wheel\": 739, 'power drill': 740, 'prayer rug, prayer mat': 741, 'printer': 742, 'prison, prison house': 743, 'projectile, missile': 744, 'projector': 745, 'puck, hockey puck': 746, 'punching bag, punch bag, punching ball, punchball': 747, 'purse': 748, 'quill, quill pen': 749, 'quilt, comforter, comfort, puff': 750, 'racer, race car, racing car': 751, 'racket, racquet': 752, 'radiator': 753, 'radio, wireless': 754, 'radio telescope, radio reflector': 755, 'rain barrel': 756, 'recreational vehicle, RV, R.V.': 757, 'reel': 758, 'reflex camera': 759, 'refrigerator, icebox': 760, 'remote control, remote': 761, 'restaurant, eating house, eating place, eatery': 762, 'revolver, six-gun, six-shooter': 763, 'rifle': 764, 'rocking chair, rocker': 765, 'rotisserie': 766, 'rubber eraser, rubber, pencil eraser': 767, 'rugby ball': 768, 'rule, ruler': 769, 'running shoe': 770, 'safe': 771, 'safety pin': 772, 'saltshaker, salt shaker': 773, 'sandal': 774, 'sarong': 775, 'sax, saxophone': 776, 'scabbard': 777, 'scale, weighing machine': 778, 'school bus': 779, 'schooner': 780, 'scoreboard': 781, 'screen, CRT screen': 782, 'screw': 783, 'screwdriver': 784, 'seat belt, seatbelt': 785, 'sewing machine': 786, 'shield, buckler': 787, 'shoe shop, shoe-shop, shoe store': 788, 'shoji': 789, 'shopping basket': 790, 'shopping cart': 791, 'shovel': 792, 'shower cap': 793, 'shower curtain': 794, 'ski': 795, 'ski mask': 796, 'sleeping bag': 797, 'slide rule, slipstick': 798, 'sliding door': 799, 'slot, one-armed bandit': 800, 'snorkel': 801, 'snowmobile': 802, 'snowplow, snowplough': 803, 'soap dispenser': 804, 'soccer ball': 805, 'sock': 806, 'solar dish, solar collector, solar furnace': 807, 'sombrero': 808, 'soup bowl': 809, 'space bar': 810, 'space heater': 811, 'space shuttle': 812, 'spatula': 813, 'speedboat': 814, \"spider web, spider's web\": 815, 'spindle': 816, 'sports car, sport car': 817, 'spotlight, spot': 818, 'stage': 819, 'steam locomotive': 820, 'steel arch bridge': 821, 'steel drum': 822, 'stethoscope': 823, 'stole': 824, 'stone wall': 825, 'stopwatch, stop watch': 826, 'stove': 827, 'strainer': 828, 'streetcar, tram, tramcar, trolley, trolley car': 829, 'stretcher': 830, 'studio couch, day bed': 831, 'stupa, tope': 832, 'submarine, pigboat, sub, U-boat': 833, 'suit, suit of clothes': 834, 'sundial': 835, 'sunglass': 836, 'sunglasses, dark glasses, shades': 837, 'sunscreen, sunblock, sun blocker': 838, 'suspension bridge': 839, 'swab, swob, mop': 840, 'sweatshirt': 841, 'swimming trunks, bathing trunks': 842, 'swing': 843, 'switch, electric switch, electrical switch': 844, 'syringe': 845, 'table lamp': 846, 'tank, army tank, armored combat vehicle, armoured combat vehicle': 847, 'tape player': 848, 'teapot': 849, 'teddy, teddy bear': 850, 'television, television system': 851, 'tennis ball': 852, 'thatch, thatched roof': 853, 'theater curtain, theatre curtain': 854, 'thimble': 855, 'thresher, thrasher, threshing machine': 856, 'throne': 857, 'tile roof': 858, 'toaster': 859, 'tobacco shop, tobacconist shop, tobacconist': 860, 'toilet seat': 861, 'torch': 862, 'totem pole': 863, 'tow truck, tow car, wrecker': 864, 'toyshop': 865, 'tractor': 866, 'trailer truck, tractor trailer, trucking rig, rig, articulated lorry, semi': 867, 'tray': 868, 'trench coat': 869, 'tricycle, trike, velocipede': 870, 'trimaran': 871, 'tripod': 872, 'triumphal arch': 873, 'trolleybus, trolley coach, trackless trolley': 874, 'trombone': 875, 'tub, vat': 876, 'turnstile': 877, 'typewriter keyboard': 878, 'umbrella': 879, 'unicycle, monocycle': 880, 'upright, upright piano': 881, 'vacuum, vacuum cleaner': 882, 'vase': 883, 'vault': 884, 'velvet': 885, 'vending machine': 886, 'vestment': 887, 'viaduct': 888, 'violin, fiddle': 889, 'volleyball': 890, 'waffle iron': 891, 'wall clock': 892, 'wallet, billfold, notecase, pocketbook': 893, 'wardrobe, closet, press': 894, 'warplane, military plane': 895, 'washbasin, handbasin, washbowl, lavabo, wash-hand basin': 896, 'washer, automatic washer, washing machine': 897, 'water bottle': 898, 'water jug': 899, 'water tower': 900, 'whiskey jug': 901, 'whistle': 902, 'wig': 903, 'window screen': 904, 'window shade': 905, 'Windsor tie': 906, 'wine bottle': 907, 'wing': 908, 'wok': 909, 'wooden spoon': 910, 'wool, woolen, woollen': 911, 'worm fence, snake fence, snake-rail fence, Virginia fence': 912, 'wreck': 913, 'yawl': 914, 'yurt': 915, 'web site, website, internet site, site': 916, 'comic book': 917, 'crossword puzzle, crossword': 918, 'street sign': 919, 'traffic light, traffic signal, stoplight': 920, 'book jacket, dust cover, dust jacket, dust wrapper': 921, 'menu': 922, 'plate': 923, 'guacamole': 924, 'consomme': 925, 'hot pot, hotpot': 926, 'trifle': 927, 'ice cream, icecream': 928, 'ice lolly, lolly, lollipop, popsicle': 929, 'French loaf': 930, 'bagel, beigel': 931, 'pretzel': 932, 'cheeseburger': 933, 'hotdog, hot dog, red hot': 934, 'mashed potato': 935, 'head cabbage': 936, 'broccoli': 937, 'cauliflower': 938, 'zucchini, courgette': 939, 'spaghetti squash': 940, 'acorn squash': 941, 'butternut squash': 942, 'cucumber, cuke': 943, 'artichoke, globe artichoke': 944, 'bell pepper': 945, 'cardoon': 946, 'mushroom': 947, 'Granny Smith': 948, 'strawberry': 949, 'orange': 950, 'lemon': 951, 'fig': 952, 'pineapple, ananas': 953, 'banana': 954, 'jackfruit, jak, jack': 955, 'custard apple': 956, 'pomegranate': 957, 'hay': 958, 'carbonara': 959, 'chocolate sauce, chocolate syrup': 960, 'dough': 961, 'meat loaf, meatloaf': 962, 'pizza, pizza pie': 963, 'potpie': 964, 'burrito': 965, 'red wine': 966, 'espresso': 967, 'cup': 968, 'eggnog': 969, 'alp': 970, 'bubble': 971, 'cliff, drop, drop-off': 972, 'coral reef': 973, 'geyser': 974, 'lakeside, lakeshore': 975, 'promontory, headland, head, foreland': 976, 'sandbar, sand bar': 977, 'seashore, coast, seacoast, sea-coast': 978, 'valley, vale': 979, 'volcano': 980, 'ballplayer, baseball player': 981, 'groom, bridegroom': 982, 'scuba diver': 983, 'rapeseed': 984, 'daisy': 985, \"yellow lady's slipper, yellow lady-slipper, Cypripedium calceolus, Cypripedium parviflorum\": 986, 'corn': 987, 'acorn': 988, 'hip, rose hip, rosehip': 989, 'buckeye, horse chestnut, conker': 990, 'coral fungus': 991, 'agaric': 992, 'gyromitra': 993, 'stinkhorn, carrion fungus': 994, 'earthstar': 995, 'hen-of-the-woods, hen of the woods, Polyporus frondosus, Grifola frondosa': 996, 'bolete': 997, 'ear, spike, capitulum': 998, 'toilet tissue, toilet paper, bathroom tissue': 999}\n",
            "{0: 'tench, Tinca tinca', 1: 'goldfish, Carassius auratus', 2: 'great white shark, white shark, man-eater, man-eating shark, Carcharodon carcharias', 3: 'tiger shark, Galeocerdo cuvieri', 4: 'hammerhead, hammerhead shark', 5: 'electric ray, crampfish, numbfish, torpedo', 6: 'stingray', 7: 'cock', 8: 'hen', 9: 'ostrich, Struthio camelus', 10: 'brambling, Fringilla montifringilla', 11: 'goldfinch, Carduelis carduelis', 12: 'house finch, linnet, Carpodacus mexicanus', 13: 'junco, snowbird', 14: 'indigo bunting, indigo finch, indigo bird, Passerina cyanea', 15: 'robin, American robin, Turdus migratorius', 16: 'bulbul', 17: 'jay', 18: 'magpie', 19: 'chickadee', 20: 'water ouzel, dipper', 21: 'kite', 22: 'bald eagle, American eagle, Haliaeetus leucocephalus', 23: 'vulture', 24: 'great grey owl, great gray owl, Strix nebulosa', 25: 'European fire salamander, Salamandra salamandra', 26: 'common newt, Triturus vulgaris', 27: 'eft', 28: 'spotted salamander, Ambystoma maculatum', 29: 'axolotl, mud puppy, Ambystoma mexicanum', 30: 'bullfrog, Rana catesbeiana', 31: 'tree frog, tree-frog', 32: 'tailed frog, bell toad, ribbed toad, tailed toad, Ascaphus trui', 33: 'loggerhead, loggerhead turtle, Caretta caretta', 34: 'leatherback turtle, leatherback, leathery turtle, Dermochelys coriacea', 35: 'mud turtle', 36: 'terrapin', 37: 'box turtle, box tortoise', 38: 'banded gecko', 39: 'common iguana, iguana, Iguana iguana', 40: 'American chameleon, anole, Anolis carolinensis', 41: 'whiptail, whiptail lizard', 42: 'agama', 43: 'frilled lizard, Chlamydosaurus kingi', 44: 'alligator lizard', 45: 'Gila monster, Heloderma suspectum', 46: 'green lizard, Lacerta viridis', 47: 'African chameleon, Chamaeleo chamaeleon', 48: 'Komodo dragon, Komodo lizard, dragon lizard, giant lizard, Varanus komodoensis', 49: 'African crocodile, Nile crocodile, Crocodylus niloticus', 50: 'American alligator, Alligator mississipiensis', 51: 'triceratops', 52: 'thunder snake, worm snake, Carphophis amoenus', 53: 'ringneck snake, ring-necked snake, ring snake', 54: 'hognose snake, puff adder, sand viper', 55: 'green snake, grass snake', 56: 'king snake, kingsnake', 57: 'garter snake, grass snake', 58: 'water snake', 59: 'vine snake', 60: 'night snake, Hypsiglena torquata', 61: 'boa constrictor, Constrictor constrictor', 62: 'rock python, rock snake, Python sebae', 63: 'Indian cobra, Naja naja', 64: 'green mamba', 65: 'sea snake', 66: 'horned viper, cerastes, sand viper, horned asp, Cerastes cornutus', 67: 'diamondback, diamondback rattlesnake, Crotalus adamanteus', 68: 'sidewinder, horned rattlesnake, Crotalus cerastes', 69: 'trilobite', 70: 'harvestman, daddy longlegs, Phalangium opilio', 71: 'scorpion', 72: 'black and gold garden spider, Argiope aurantia', 73: 'barn spider, Araneus cavaticus', 74: 'garden spider, Aranea diademata', 75: 'black widow, Latrodectus mactans', 76: 'tarantula', 77: 'wolf spider, hunting spider', 78: 'tick', 79: 'centipede', 80: 'black grouse', 81: 'ptarmigan', 82: 'ruffed grouse, partridge, Bonasa umbellus', 83: 'prairie chicken, prairie grouse, prairie fowl', 84: 'peacock', 85: 'quail', 86: 'partridge', 87: 'African grey, African gray, Psittacus erithacus', 88: 'macaw', 89: 'sulphur-crested cockatoo, Kakatoe galerita, Cacatua galerita', 90: 'lorikeet', 91: 'coucal', 92: 'bee eater', 93: 'hornbill', 94: 'hummingbird', 95: 'jacamar', 96: 'toucan', 97: 'drake', 98: 'red-breasted merganser, Mergus serrator', 99: 'goose', 100: 'black swan, Cygnus atratus', 101: 'tusker', 102: 'echidna, spiny anteater, anteater', 103: 'platypus, duckbill, duckbilled platypus, duck-billed platypus, Ornithorhynchus anatinus', 104: 'wallaby, brush kangaroo', 105: 'koala, koala bear, kangaroo bear, native bear, Phascolarctos cinereus', 106: 'wombat', 107: 'jellyfish', 108: 'sea anemone, anemone', 109: 'brain coral', 110: 'flatworm, platyhelminth', 111: 'nematode, nematode worm, roundworm', 112: 'conch', 113: 'snail', 114: 'slug', 115: 'sea slug, nudibranch', 116: 'chiton, coat-of-mail shell, sea cradle, polyplacophore', 117: 'chambered nautilus, pearly nautilus, nautilus', 118: 'Dungeness crab, Cancer magister', 119: 'rock crab, Cancer irroratus', 120: 'fiddler crab', 121: 'king crab, Alaska crab, Alaskan king crab, Alaska king crab, Paralithodes camtschatica', 122: 'American lobster, Northern lobster, Maine lobster, Homarus americanus', 123: 'spiny lobster, langouste, rock lobster, crawfish, crayfish, sea crawfish', 124: 'crayfish, crawfish, crawdad, crawdaddy', 125: 'hermit crab', 126: 'isopod', 127: 'white stork, Ciconia ciconia', 128: 'black stork, Ciconia nigra', 129: 'spoonbill', 130: 'flamingo', 131: 'little blue heron, Egretta caerulea', 132: 'American egret, great white heron, Egretta albus', 133: 'bittern', 134: 'crane', 135: 'limpkin, Aramus pictus', 136: 'European gallinule, Porphyrio porphyrio', 137: 'American coot, marsh hen, mud hen, water hen, Fulica americana', 138: 'bustard', 139: 'ruddy turnstone, Arenaria interpres', 140: 'red-backed sandpiper, dunlin, Erolia alpina', 141: 'redshank, Tringa totanus', 142: 'dowitcher', 143: 'oystercatcher, oyster catcher', 144: 'pelican', 145: 'king penguin, Aptenodytes patagonica', 146: 'albatross, mollymawk', 147: 'grey whale, gray whale, devilfish, Eschrichtius gibbosus, Eschrichtius robustus', 148: 'killer whale, killer, orca, grampus, sea wolf, Orcinus orca', 149: 'dugong, Dugong dugon', 150: 'sea lion', 151: 'Chihuahua', 152: 'Japanese spaniel', 153: 'Maltese dog, Maltese terrier, Maltese', 154: 'Pekinese, Pekingese, Peke', 155: 'Shih-Tzu', 156: 'Blenheim spaniel', 157: 'papillon', 158: 'toy terrier', 159: 'Rhodesian ridgeback', 160: 'Afghan hound, Afghan', 161: 'basset, basset hound', 162: 'beagle', 163: 'bloodhound, sleuthhound', 164: 'bluetick', 165: 'black-and-tan coonhound', 166: 'Walker hound, Walker foxhound', 167: 'English foxhound', 168: 'redbone', 169: 'borzoi, Russian wolfhound', 170: 'Irish wolfhound', 171: 'Italian greyhound', 172: 'whippet', 173: 'Ibizan hound, Ibizan Podenco', 174: 'Norwegian elkhound, elkhound', 175: 'otterhound, otter hound', 176: 'Saluki, gazelle hound', 177: 'Scottish deerhound, deerhound', 178: 'Weimaraner', 179: 'Staffordshire bullterrier, Staffordshire bull terrier', 180: 'American Staffordshire terrier, Staffordshire terrier, American pit bull terrier, pit bull terrier', 181: 'Bedlington terrier', 182: 'Border terrier', 183: 'Kerry blue terrier', 184: 'Irish terrier', 185: 'Norfolk terrier', 186: 'Norwich terrier', 187: 'Yorkshire terrier', 188: 'wire-haired fox terrier', 189: 'Lakeland terrier', 190: 'Sealyham terrier, Sealyham', 191: 'Airedale, Airedale terrier', 192: 'cairn, cairn terrier', 193: 'Australian terrier', 194: 'Dandie Dinmont, Dandie Dinmont terrier', 195: 'Boston bull, Boston terrier', 196: 'miniature schnauzer', 197: 'giant schnauzer', 198: 'standard schnauzer', 199: 'Scotch terrier, Scottish terrier, Scottie', 200: 'Tibetan terrier, chrysanthemum dog', 201: 'silky terrier, Sydney silky', 202: 'soft-coated wheaten terrier', 203: 'West Highland white terrier', 204: 'Lhasa, Lhasa apso', 205: 'flat-coated retriever', 206: 'curly-coated retriever', 207: 'golden retriever', 208: 'Labrador retriever', 209: 'Chesapeake Bay retriever', 210: 'German short-haired pointer', 211: 'vizsla, Hungarian pointer', 212: 'English setter', 213: 'Irish setter, red setter', 214: 'Gordon setter', 215: 'Brittany spaniel', 216: 'clumber, clumber spaniel', 217: 'English springer, English springer spaniel', 218: 'Welsh springer spaniel', 219: 'cocker spaniel, English cocker spaniel, cocker', 220: 'Sussex spaniel', 221: 'Irish water spaniel', 222: 'kuvasz', 223: 'schipperke', 224: 'groenendael', 225: 'malinois', 226: 'briard', 227: 'kelpie', 228: 'komondor', 229: 'Old English sheepdog, bobtail', 230: 'Shetland sheepdog, Shetland sheep dog, Shetland', 231: 'collie', 232: 'Border collie', 233: 'Bouvier des Flandres, Bouviers des Flandres', 234: 'Rottweiler', 235: 'German shepherd, German shepherd dog, German police dog, alsatian', 236: 'Doberman, Doberman pinscher', 237: 'miniature pinscher', 238: 'Greater Swiss Mountain dog', 239: 'Bernese mountain dog', 240: 'Appenzeller', 241: 'EntleBucher', 242: 'boxer', 243: 'bull mastiff', 244: 'Tibetan mastiff', 245: 'French bulldog', 246: 'Great Dane', 247: 'Saint Bernard, St Bernard', 248: 'Eskimo dog, husky', 249: 'malamute, malemute, Alaskan malamute', 250: 'Siberian husky', 251: 'dalmatian, coach dog, carriage dog', 252: 'affenpinscher, monkey pinscher, monkey dog', 253: 'basenji', 254: 'pug, pug-dog', 255: 'Leonberg', 256: 'Newfoundland, Newfoundland dog', 257: 'Great Pyrenees', 258: 'Samoyed, Samoyede', 259: 'Pomeranian', 260: 'chow, chow chow', 261: 'keeshond', 262: 'Brabancon griffon', 263: 'Pembroke, Pembroke Welsh corgi', 264: 'Cardigan, Cardigan Welsh corgi', 265: 'toy poodle', 266: 'miniature poodle', 267: 'standard poodle', 268: 'Mexican hairless', 269: 'timber wolf, grey wolf, gray wolf, Canis lupus', 270: 'white wolf, Arctic wolf, Canis lupus tundrarum', 271: 'red wolf, maned wolf, Canis rufus, Canis niger', 272: 'coyote, prairie wolf, brush wolf, Canis latrans', 273: 'dingo, warrigal, warragal, Canis dingo', 274: 'dhole, Cuon alpinus', 275: 'African hunting dog, hyena dog, Cape hunting dog, Lycaon pictus', 276: 'hyena, hyaena', 277: 'red fox, Vulpes vulpes', 278: 'kit fox, Vulpes macrotis', 279: 'Arctic fox, white fox, Alopex lagopus', 280: 'grey fox, gray fox, Urocyon cinereoargenteus', 281: 'tabby, tabby cat', 282: 'tiger cat', 283: 'Persian cat', 284: 'Siamese cat, Siamese', 285: 'Egyptian cat', 286: 'cougar, puma, catamount, mountain lion, painter, panther, Felis concolor', 287: 'lynx, catamount', 288: 'leopard, Panthera pardus', 289: 'snow leopard, ounce, Panthera uncia', 290: 'jaguar, panther, Panthera onca, Felis onca', 291: 'lion, king of beasts, Panthera leo', 292: 'tiger, Panthera tigris', 293: 'cheetah, chetah, Acinonyx jubatus', 294: 'brown bear, bruin, Ursus arctos', 295: 'American black bear, black bear, Ursus americanus, Euarctos americanus', 296: 'ice bear, polar bear, Ursus Maritimus, Thalarctos maritimus', 297: 'sloth bear, Melursus ursinus, Ursus ursinus', 298: 'mongoose', 299: 'meerkat, mierkat', 300: 'tiger beetle', 301: 'ladybug, ladybeetle, lady beetle, ladybird, ladybird beetle', 302: 'ground beetle, carabid beetle', 303: 'long-horned beetle, longicorn, longicorn beetle', 304: 'leaf beetle, chrysomelid', 305: 'dung beetle', 306: 'rhinoceros beetle', 307: 'weevil', 308: 'fly', 309: 'bee', 310: 'ant, emmet, pismire', 311: 'grasshopper, hopper', 312: 'cricket', 313: 'walking stick, walkingstick, stick insect', 314: 'cockroach, roach', 315: 'mantis, mantid', 316: 'cicada, cicala', 317: 'leafhopper', 318: 'lacewing, lacewing fly', 319: \"dragonfly, darning needle, devil's darning needle, sewing needle, snake feeder, snake doctor, mosquito hawk, skeeter hawk\", 320: 'damselfly', 321: 'admiral', 322: 'ringlet, ringlet butterfly', 323: 'monarch, monarch butterfly, milkweed butterfly, Danaus plexippus', 324: 'cabbage butterfly', 325: 'sulphur butterfly, sulfur butterfly', 326: 'lycaenid, lycaenid butterfly', 327: 'starfish, sea star', 328: 'sea urchin', 329: 'sea cucumber, holothurian', 330: 'wood rabbit, cottontail, cottontail rabbit', 331: 'hare', 332: 'Angora, Angora rabbit', 333: 'hamster', 334: 'porcupine, hedgehog', 335: 'fox squirrel, eastern fox squirrel, Sciurus niger', 336: 'marmot', 337: 'beaver', 338: 'guinea pig, Cavia cobaya', 339: 'sorrel', 340: 'zebra', 341: 'hog, pig, grunter, squealer, Sus scrofa', 342: 'wild boar, boar, Sus scrofa', 343: 'warthog', 344: 'hippopotamus, hippo, river horse, Hippopotamus amphibius', 345: 'ox', 346: 'water buffalo, water ox, Asiatic buffalo, Bubalus bubalis', 347: 'bison', 348: 'ram, tup', 349: 'bighorn, bighorn sheep, cimarron, Rocky Mountain bighorn, Rocky Mountain sheep, Ovis canadensis', 350: 'ibex, Capra ibex', 351: 'hartebeest', 352: 'impala, Aepyceros melampus', 353: 'gazelle', 354: 'Arabian camel, dromedary, Camelus dromedarius', 355: 'llama', 356: 'weasel', 357: 'mink', 358: 'polecat, fitch, foulmart, foumart, Mustela putorius', 359: 'black-footed ferret, ferret, Mustela nigripes', 360: 'otter', 361: 'skunk, polecat, wood pussy', 362: 'badger', 363: 'armadillo', 364: 'three-toed sloth, ai, Bradypus tridactylus', 365: 'orangutan, orang, orangutang, Pongo pygmaeus', 366: 'gorilla, Gorilla gorilla', 367: 'chimpanzee, chimp, Pan troglodytes', 368: 'gibbon, Hylobates lar', 369: 'siamang, Hylobates syndactylus, Symphalangus syndactylus', 370: 'guenon, guenon monkey', 371: 'patas, hussar monkey, Erythrocebus patas', 372: 'baboon', 373: 'macaque', 374: 'langur', 375: 'colobus, colobus monkey', 376: 'proboscis monkey, Nasalis larvatus', 377: 'marmoset', 378: 'capuchin, ringtail, Cebus capucinus', 379: 'howler monkey, howler', 380: 'titi, titi monkey', 381: 'spider monkey, Ateles geoffroyi', 382: 'squirrel monkey, Saimiri sciureus', 383: 'Madagascar cat, ring-tailed lemur, Lemur catta', 384: 'indri, indris, Indri indri, Indri brevicaudatus', 385: 'Indian elephant, Elephas maximus', 386: 'African elephant, Loxodonta africana', 387: 'lesser panda, red panda, panda, bear cat, cat bear, Ailurus fulgens', 388: 'giant panda, panda, panda bear, coon bear, Ailuropoda melanoleuca', 389: 'barracouta, snoek', 390: 'eel', 391: 'coho, cohoe, coho salmon, blue jack, silver salmon, Oncorhynchus kisutch', 392: 'rock beauty, Holocanthus tricolor', 393: 'anemone fish', 394: 'sturgeon', 395: 'gar, garfish, garpike, billfish, Lepisosteus osseus', 396: 'lionfish', 397: 'puffer, pufferfish, blowfish, globefish', 398: 'abacus', 399: 'abaya', 400: \"academic gown, academic robe, judge's robe\", 401: 'accordion, piano accordion, squeeze box', 402: 'acoustic guitar', 403: 'aircraft carrier, carrier, flattop, attack aircraft carrier', 404: 'airliner', 405: 'airship, dirigible', 406: 'altar', 407: 'ambulance', 408: 'amphibian, amphibious vehicle', 409: 'analog clock', 410: 'apiary, bee house', 411: 'apron', 412: 'ashcan, trash can, garbage can, wastebin, ash bin, ash-bin, ashbin, dustbin, trash barrel, trash bin', 413: 'assault rifle, assault gun', 414: 'backpack, back pack, knapsack, packsack, rucksack, haversack', 415: 'bakery, bakeshop, bakehouse', 416: 'balance beam, beam', 417: 'balloon', 418: 'ballpoint, ballpoint pen, ballpen, Biro', 419: 'Band Aid', 420: 'banjo', 421: 'bannister, banister, balustrade, balusters, handrail', 422: 'barbell', 423: 'barber chair', 424: 'barbershop', 425: 'barn', 426: 'barometer', 427: 'barrel, cask', 428: 'barrow, garden cart, lawn cart, wheelbarrow', 429: 'baseball', 430: 'basketball', 431: 'bassinet', 432: 'bassoon', 433: 'bathing cap, swimming cap', 434: 'bath towel', 435: 'bathtub, bathing tub, bath, tub', 436: 'beach wagon, station wagon, wagon, estate car, beach waggon, station waggon, waggon', 437: 'beacon, lighthouse, beacon light, pharos', 438: 'beaker', 439: 'bearskin, busby, shako', 440: 'beer bottle', 441: 'beer glass', 442: 'bell cote, bell cot', 443: 'bib', 444: 'bicycle-built-for-two, tandem bicycle, tandem', 445: 'bikini, two-piece', 446: 'binder, ring-binder', 447: 'binoculars, field glasses, opera glasses', 448: 'birdhouse', 449: 'boathouse', 450: 'bobsled, bobsleigh, bob', 451: 'bolo tie, bolo, bola tie, bola', 452: 'bonnet, poke bonnet', 453: 'bookcase', 454: 'bookshop, bookstore, bookstall', 455: 'bottlecap', 456: 'bow', 457: 'bow tie, bow-tie, bowtie', 458: 'brass, memorial tablet, plaque', 459: 'brassiere, bra, bandeau', 460: 'breakwater, groin, groyne, mole, bulwark, seawall, jetty', 461: 'breastplate, aegis, egis', 462: 'broom', 463: 'bucket, pail', 464: 'buckle', 465: 'bulletproof vest', 466: 'bullet train, bullet', 467: 'butcher shop, meat market', 468: 'cab, hack, taxi, taxicab', 469: 'caldron, cauldron', 470: 'candle, taper, wax light', 471: 'cannon', 472: 'canoe', 473: 'can opener, tin opener', 474: 'cardigan', 475: 'car mirror', 476: 'carousel, carrousel, merry-go-round, roundabout, whirligig', 477: \"carpenter's kit, tool kit\", 478: 'carton', 479: 'car wheel', 480: 'cash machine, cash dispenser, automated teller machine, automatic teller machine, automated teller, automatic teller, ATM', 481: 'cassette', 482: 'cassette player', 483: 'castle', 484: 'catamaran', 485: 'CD player', 486: 'cello, violoncello', 487: 'cellular telephone, cellular phone, cellphone, cell, mobile phone', 488: 'chain', 489: 'chainlink fence', 490: 'chain mail, ring mail, mail, chain armor, chain armour, ring armor, ring armour', 491: 'chain saw, chainsaw', 492: 'chest', 493: 'chiffonier, commode', 494: 'chime, bell, gong', 495: 'china cabinet, china closet', 496: 'Christmas stocking', 497: 'church, church building', 498: 'cinema, movie theater, movie theatre, movie house, picture palace', 499: 'cleaver, meat cleaver, chopper', 500: 'cliff dwelling', 501: 'cloak', 502: 'clog, geta, patten, sabot', 503: 'cocktail shaker', 504: 'coffee mug', 505: 'coffeepot', 506: 'coil, spiral, volute, whorl, helix', 507: 'combination lock', 508: 'computer keyboard, keypad', 509: 'confectionery, confectionary, candy store', 510: 'container ship, containership, container vessel', 511: 'convertible', 512: 'corkscrew, bottle screw', 513: 'cornet, horn, trumpet, trump', 514: 'cowboy boot', 515: 'cowboy hat, ten-gallon hat', 516: 'cradle', 517: 'crane2', 518: 'crash helmet', 519: 'crate', 520: 'crib, cot', 521: 'Crock Pot', 522: 'croquet ball', 523: 'crutch', 524: 'cuirass', 525: 'dam, dike, dyke', 526: 'desk', 527: 'desktop computer', 528: 'dial telephone, dial phone', 529: 'diaper, nappy, napkin', 530: 'digital clock', 531: 'digital watch', 532: 'dining table, board', 533: 'dishrag, dishcloth', 534: 'dishwasher, dish washer, dishwashing machine', 535: 'disk brake, disc brake', 536: 'dock, dockage, docking facility', 537: 'dogsled, dog sled, dog sleigh', 538: 'dome', 539: 'doormat, welcome mat', 540: 'drilling platform, offshore rig', 541: 'drum, membranophone, tympan', 542: 'drumstick', 543: 'dumbbell', 544: 'Dutch oven', 545: 'electric fan, blower', 546: 'electric guitar', 547: 'electric locomotive', 548: 'entertainment center', 549: 'envelope', 550: 'espresso maker', 551: 'face powder', 552: 'feather boa, boa', 553: 'file, file cabinet, filing cabinet', 554: 'fireboat', 555: 'fire engine, fire truck', 556: 'fire screen, fireguard', 557: 'flagpole, flagstaff', 558: 'flute, transverse flute', 559: 'folding chair', 560: 'football helmet', 561: 'forklift', 562: 'fountain', 563: 'fountain pen', 564: 'four-poster', 565: 'freight car', 566: 'French horn, horn', 567: 'frying pan, frypan, skillet', 568: 'fur coat', 569: 'garbage truck, dustcart', 570: 'gasmask, respirator, gas helmet', 571: 'gas pump, gasoline pump, petrol pump, island dispenser', 572: 'goblet', 573: 'go-kart', 574: 'golf ball', 575: 'golfcart, golf cart', 576: 'gondola', 577: 'gong, tam-tam', 578: 'gown', 579: 'grand piano, grand', 580: 'greenhouse, nursery, glasshouse', 581: 'grille, radiator grille', 582: 'grocery store, grocery, food market, market', 583: 'guillotine', 584: 'hair slide', 585: 'hair spray', 586: 'half track', 587: 'hammer', 588: 'hamper', 589: 'hand blower, blow dryer, blow drier, hair dryer, hair drier', 590: 'hand-held computer, hand-held microcomputer', 591: 'handkerchief, hankie, hanky, hankey', 592: 'hard disc, hard disk, fixed disk', 593: 'harmonica, mouth organ, harp, mouth harp', 594: 'harp', 595: 'harvester, reaper', 596: 'hatchet', 597: 'holster', 598: 'home theater, home theatre', 599: 'honeycomb', 600: 'hook, claw', 601: 'hoopskirt, crinoline', 602: 'horizontal bar, high bar', 603: 'horse cart, horse-cart', 604: 'hourglass', 605: 'iPod', 606: 'iron, smoothing iron', 607: \"jack-o'-lantern\", 608: 'jean, blue jean, denim', 609: 'jeep, landrover', 610: 'jersey, T-shirt, tee shirt', 611: 'jigsaw puzzle', 612: 'jinrikisha, ricksha, rickshaw', 613: 'joystick', 614: 'kimono', 615: 'knee pad', 616: 'knot', 617: 'lab coat, laboratory coat', 618: 'ladle', 619: 'lampshade, lamp shade', 620: 'laptop, laptop computer', 621: 'lawn mower, mower', 622: 'lens cap, lens cover', 623: 'letter opener, paper knife, paperknife', 624: 'library', 625: 'lifeboat', 626: 'lighter, light, igniter, ignitor', 627: 'limousine, limo', 628: 'liner, ocean liner', 629: 'lipstick, lip rouge', 630: 'Loafer', 631: 'lotion', 632: 'loudspeaker, speaker, speaker unit, loudspeaker system, speaker system', 633: \"loupe, jeweler's loupe\", 634: 'lumbermill, sawmill', 635: 'magnetic compass', 636: 'mailbag, postbag', 637: 'mailbox, letter box', 638: 'maillot', 639: 'maillot, tank suit', 640: 'manhole cover', 641: 'maraca', 642: 'marimba, xylophone', 643: 'mask', 644: 'matchstick', 645: 'maypole', 646: 'maze, labyrinth', 647: 'measuring cup', 648: 'medicine chest, medicine cabinet', 649: 'megalith, megalithic structure', 650: 'microphone, mike', 651: 'microwave, microwave oven', 652: 'military uniform', 653: 'milk can', 654: 'minibus', 655: 'miniskirt, mini', 656: 'minivan', 657: 'missile', 658: 'mitten', 659: 'mixing bowl', 660: 'mobile home, manufactured home', 661: 'Model T', 662: 'modem', 663: 'monastery', 664: 'monitor', 665: 'moped', 666: 'mortar', 667: 'mortarboard', 668: 'mosque', 669: 'mosquito net', 670: 'motor scooter, scooter', 671: 'mountain bike, all-terrain bike, off-roader', 672: 'mountain tent', 673: 'mouse, computer mouse', 674: 'mousetrap', 675: 'moving van', 676: 'muzzle', 677: 'nail', 678: 'neck brace', 679: 'necklace', 680: 'nipple', 681: 'notebook, notebook computer', 682: 'obelisk', 683: 'oboe, hautboy, hautbois', 684: 'ocarina, sweet potato', 685: 'odometer, hodometer, mileometer, milometer', 686: 'oil filter', 687: 'organ, pipe organ', 688: 'oscilloscope, scope, cathode-ray oscilloscope, CRO', 689: 'overskirt', 690: 'oxcart', 691: 'oxygen mask', 692: 'packet', 693: 'paddle, boat paddle', 694: 'paddlewheel, paddle wheel', 695: 'padlock', 696: 'paintbrush', 697: \"pajama, pyjama, pj's, jammies\", 698: 'palace', 699: 'panpipe, pandean pipe, syrinx', 700: 'paper towel', 701: 'parachute, chute', 702: 'parallel bars, bars', 703: 'park bench', 704: 'parking meter', 705: 'passenger car, coach, carriage', 706: 'patio, terrace', 707: 'pay-phone, pay-station', 708: 'pedestal, plinth, footstall', 709: 'pencil box, pencil case', 710: 'pencil sharpener', 711: 'perfume, essence', 712: 'Petri dish', 713: 'photocopier', 714: 'pick, plectrum, plectron', 715: 'pickelhaube', 716: 'picket fence, paling', 717: 'pickup, pickup truck', 718: 'pier', 719: 'piggy bank, penny bank', 720: 'pill bottle', 721: 'pillow', 722: 'ping-pong ball', 723: 'pinwheel', 724: 'pirate, pirate ship', 725: 'pitcher, ewer', 726: \"plane, carpenter's plane, woodworking plane\", 727: 'planetarium', 728: 'plastic bag', 729: 'plate rack', 730: 'plow, plough', 731: \"plunger, plumber's helper\", 732: 'Polaroid camera, Polaroid Land camera', 733: 'pole', 734: 'police van, police wagon, paddy wagon, patrol wagon, wagon, black Maria', 735: 'poncho', 736: 'pool table, billiard table, snooker table', 737: 'pop bottle, soda bottle', 738: 'pot, flowerpot', 739: \"potter's wheel\", 740: 'power drill', 741: 'prayer rug, prayer mat', 742: 'printer', 743: 'prison, prison house', 744: 'projectile, missile', 745: 'projector', 746: 'puck, hockey puck', 747: 'punching bag, punch bag, punching ball, punchball', 748: 'purse', 749: 'quill, quill pen', 750: 'quilt, comforter, comfort, puff', 751: 'racer, race car, racing car', 752: 'racket, racquet', 753: 'radiator', 754: 'radio, wireless', 755: 'radio telescope, radio reflector', 756: 'rain barrel', 757: 'recreational vehicle, RV, R.V.', 758: 'reel', 759: 'reflex camera', 760: 'refrigerator, icebox', 761: 'remote control, remote', 762: 'restaurant, eating house, eating place, eatery', 763: 'revolver, six-gun, six-shooter', 764: 'rifle', 765: 'rocking chair, rocker', 766: 'rotisserie', 767: 'rubber eraser, rubber, pencil eraser', 768: 'rugby ball', 769: 'rule, ruler', 770: 'running shoe', 771: 'safe', 772: 'safety pin', 773: 'saltshaker, salt shaker', 774: 'sandal', 775: 'sarong', 776: 'sax, saxophone', 777: 'scabbard', 778: 'scale, weighing machine', 779: 'school bus', 780: 'schooner', 781: 'scoreboard', 782: 'screen, CRT screen', 783: 'screw', 784: 'screwdriver', 785: 'seat belt, seatbelt', 786: 'sewing machine', 787: 'shield, buckler', 788: 'shoe shop, shoe-shop, shoe store', 789: 'shoji', 790: 'shopping basket', 791: 'shopping cart', 792: 'shovel', 793: 'shower cap', 794: 'shower curtain', 795: 'ski', 796: 'ski mask', 797: 'sleeping bag', 798: 'slide rule, slipstick', 799: 'sliding door', 800: 'slot, one-armed bandit', 801: 'snorkel', 802: 'snowmobile', 803: 'snowplow, snowplough', 804: 'soap dispenser', 805: 'soccer ball', 806: 'sock', 807: 'solar dish, solar collector, solar furnace', 808: 'sombrero', 809: 'soup bowl', 810: 'space bar', 811: 'space heater', 812: 'space shuttle', 813: 'spatula', 814: 'speedboat', 815: \"spider web, spider's web\", 816: 'spindle', 817: 'sports car, sport car', 818: 'spotlight, spot', 819: 'stage', 820: 'steam locomotive', 821: 'steel arch bridge', 822: 'steel drum', 823: 'stethoscope', 824: 'stole', 825: 'stone wall', 826: 'stopwatch, stop watch', 827: 'stove', 828: 'strainer', 829: 'streetcar, tram, tramcar, trolley, trolley car', 830: 'stretcher', 831: 'studio couch, day bed', 832: 'stupa, tope', 833: 'submarine, pigboat, sub, U-boat', 834: 'suit, suit of clothes', 835: 'sundial', 836: 'sunglass', 837: 'sunglasses, dark glasses, shades', 838: 'sunscreen, sunblock, sun blocker', 839: 'suspension bridge', 840: 'swab, swob, mop', 841: 'sweatshirt', 842: 'swimming trunks, bathing trunks', 843: 'swing', 844: 'switch, electric switch, electrical switch', 845: 'syringe', 846: 'table lamp', 847: 'tank, army tank, armored combat vehicle, armoured combat vehicle', 848: 'tape player', 849: 'teapot', 850: 'teddy, teddy bear', 851: 'television, television system', 852: 'tennis ball', 853: 'thatch, thatched roof', 854: 'theater curtain, theatre curtain', 855: 'thimble', 856: 'thresher, thrasher, threshing machine', 857: 'throne', 858: 'tile roof', 859: 'toaster', 860: 'tobacco shop, tobacconist shop, tobacconist', 861: 'toilet seat', 862: 'torch', 863: 'totem pole', 864: 'tow truck, tow car, wrecker', 865: 'toyshop', 866: 'tractor', 867: 'trailer truck, tractor trailer, trucking rig, rig, articulated lorry, semi', 868: 'tray', 869: 'trench coat', 870: 'tricycle, trike, velocipede', 871: 'trimaran', 872: 'tripod', 873: 'triumphal arch', 874: 'trolleybus, trolley coach, trackless trolley', 875: 'trombone', 876: 'tub, vat', 877: 'turnstile', 878: 'typewriter keyboard', 879: 'umbrella', 880: 'unicycle, monocycle', 881: 'upright, upright piano', 882: 'vacuum, vacuum cleaner', 883: 'vase', 884: 'vault', 885: 'velvet', 886: 'vending machine', 887: 'vestment', 888: 'viaduct', 889: 'violin, fiddle', 890: 'volleyball', 891: 'waffle iron', 892: 'wall clock', 893: 'wallet, billfold, notecase, pocketbook', 894: 'wardrobe, closet, press', 895: 'warplane, military plane', 896: 'washbasin, handbasin, washbowl, lavabo, wash-hand basin', 897: 'washer, automatic washer, washing machine', 898: 'water bottle', 899: 'water jug', 900: 'water tower', 901: 'whiskey jug', 902: 'whistle', 903: 'wig', 904: 'window screen', 905: 'window shade', 906: 'Windsor tie', 907: 'wine bottle', 908: 'wing', 909: 'wok', 910: 'wooden spoon', 911: 'wool, woolen, woollen', 912: 'worm fence, snake fence, snake-rail fence, Virginia fence', 913: 'wreck', 914: 'yawl', 915: 'yurt', 916: 'web site, website, internet site, site', 917: 'comic book', 918: 'crossword puzzle, crossword', 919: 'street sign', 920: 'traffic light, traffic signal, stoplight', 921: 'book jacket, dust cover, dust jacket, dust wrapper', 922: 'menu', 923: 'plate', 924: 'guacamole', 925: 'consomme', 926: 'hot pot, hotpot', 927: 'trifle', 928: 'ice cream, icecream', 929: 'ice lolly, lolly, lollipop, popsicle', 930: 'French loaf', 931: 'bagel, beigel', 932: 'pretzel', 933: 'cheeseburger', 934: 'hotdog, hot dog, red hot', 935: 'mashed potato', 936: 'head cabbage', 937: 'broccoli', 938: 'cauliflower', 939: 'zucchini, courgette', 940: 'spaghetti squash', 941: 'acorn squash', 942: 'butternut squash', 943: 'cucumber, cuke', 944: 'artichoke, globe artichoke', 945: 'bell pepper', 946: 'cardoon', 947: 'mushroom', 948: 'Granny Smith', 949: 'strawberry', 950: 'orange', 951: 'lemon', 952: 'fig', 953: 'pineapple, ananas', 954: 'banana', 955: 'jackfruit, jak, jack', 956: 'custard apple', 957: 'pomegranate', 958: 'hay', 959: 'carbonara', 960: 'chocolate sauce, chocolate syrup', 961: 'dough', 962: 'meat loaf, meatloaf', 963: 'pizza, pizza pie', 964: 'potpie', 965: 'burrito', 966: 'red wine', 967: 'espresso', 968: 'cup', 969: 'eggnog', 970: 'alp', 971: 'bubble', 972: 'cliff, drop, drop-off', 973: 'coral reef', 974: 'geyser', 975: 'lakeside, lakeshore', 976: 'promontory, headland, head, foreland', 977: 'sandbar, sand bar', 978: 'seashore, coast, seacoast, sea-coast', 979: 'valley, vale', 980: 'volcano', 981: 'ballplayer, baseball player', 982: 'groom, bridegroom', 983: 'scuba diver', 984: 'rapeseed', 985: 'daisy', 986: \"yellow lady's slipper, yellow lady-slipper, Cypripedium calceolus, Cypripedium parviflorum\", 987: 'corn', 988: 'acorn', 989: 'hip, rose hip, rosehip', 990: 'buckeye, horse chestnut, conker', 991: 'coral fungus', 992: 'agaric', 993: 'gyromitra', 994: 'stinkhorn, carrion fungus', 995: 'earthstar', 996: 'hen-of-the-woods, hen of the woods, Polyporus frondosus, Grifola frondosa', 997: 'bolete', 998: 'ear, spike, capitulum', 999: 'toilet tissue, toilet paper, bathroom tissue'}\n"
          ]
        }
      ],
      "source": [
        "labels = train_dataset.features[\"label\"].names\n",
        "num_labels = len(train_dataset.features[\"label\"].names)\n",
        "label2id, id2label = dict(), dict()\n",
        "for i, label in enumerate(labels):\n",
        "    label2id[label] = i\n",
        "    id2label[i] = label\n",
        "\n",
        "print(label2id)\n",
        "print(id2label)"
      ]
    },
    {
      "cell_type": "code",
      "execution_count": 4,
      "metadata": {},
      "outputs": [
        {
          "name": "stdout",
          "output_type": "stream",
          "text": [
            "858\n"
          ]
        }
      ],
      "source": [
        "labels = train_dataset[0]['label']\n",
        "print(labels)"
      ]
    },
    {
      "cell_type": "code",
      "execution_count": 7,
      "metadata": {},
      "outputs": [
        {
          "data": {
            "text/plain": [
              "{'image': <PIL.JpegImagePlugin.JpegImageFile image mode=RGB size=1009x1024>,\n",
              " 'label': 416}"
            ]
          },
          "execution_count": 7,
          "metadata": {},
          "output_type": "execute_result"
        }
      ],
      "source": [
        "train_dataset[135]"
      ]
    },
    {
      "cell_type": "code",
      "execution_count": 8,
      "metadata": {},
      "outputs": [
        {
          "data": {
            "text/plain": [
              "{'image': <PIL.JpegImagePlugin.JpegImageFile image mode=RGB size=1144x1144>,\n",
              " 'label': 590}"
            ]
          },
          "execution_count": 8,
          "metadata": {},
          "output_type": "execute_result"
        }
      ],
      "source": [
        "dev_dataset[152]"
      ]
    },
    {
      "cell_type": "markdown",
      "metadata": {
        "id": "oXx7nVTn1zWa"
      },
      "source": [
        "# Forward Pass ViT Model with a Toy Image"
      ]
    },
    {
      "cell_type": "code",
      "execution_count": 10,
      "metadata": {
        "colab": {
          "base_uri": "https://localhost:8080/",
          "height": 53
        },
        "id": "2SHjVtfJ0pRY",
        "outputId": "220e5d53-c1a3-4296-e326-ce183829b155"
      },
      "outputs": [
        {
          "name": "stdout",
          "output_type": "stream",
          "text": [
            "Original image size: torch.Size([1, 3, 48, 48])\n",
            "Size after projection: torch.Size([1, 768, 3, 3])\n"
          ]
        }
      ],
      "source": [
        "import torch\n",
        "import torch.nn as nn\n",
        "\n",
        "# Create toy image with dim (batch x channel x width x height)\n",
        "toy_img = torch.rand(1, 3, 48, 48)\n",
        "\n",
        "# Define conv layer parameters\n",
        "num_channels = 3\n",
        "hidden_size = 768  # or emb_dimension\n",
        "patch_size = 16\n",
        "\n",
        "# Conv 2D layer\n",
        "projection = nn.Conv2d(num_channels, hidden_size, kernel_size=patch_size,\n",
        "                       stride=patch_size)\n",
        "\n",
        "# Forward pass toy img\n",
        "out_projection = projection(toy_img)\n",
        "\n",
        "print(f'Original image size: {toy_img.size()}')\n",
        "print(f'Size after projection: {out_projection.size()}')"
      ]
    },
    {
      "cell_type": "code",
      "execution_count": 11,
      "metadata": {
        "colab": {
          "base_uri": "https://localhost:8080/"
        },
        "id": "YsiOIhU40qwI",
        "outputId": "7f8d143c-cede-4c2c-9be4-3d58fce3c8a9"
      },
      "outputs": [
        {
          "name": "stdout",
          "output_type": "stream",
          "text": [
            "Patch embedding size: torch.Size([1, 9, 768])\n"
          ]
        }
      ],
      "source": [
        "# Flatten the output after projection with Conv2D layer\n",
        "\n",
        "patch_embeddings = out_projection.flatten(2).transpose(1, 2)\n",
        "print(f'Patch embedding size: {patch_embeddings.size()}')"
      ]
    },
    {
      "cell_type": "code",
      "execution_count": 12,
      "metadata": {
        "colab": {
          "base_uri": "https://localhost:8080/"
        },
        "id": "TE6f09yD0uSI",
        "outputId": "1a1a886d-7850-42bd-d5a7-9987c608ef69"
      },
      "outputs": [
        {
          "name": "stdout",
          "output_type": "stream",
          "text": [
            "Patch embedding size: torch.Size([1, 10, 768])\n"
          ]
        }
      ],
      "source": [
        "# Define [CLS] token embedding with the same emb dimension as the patches\n",
        "batch_size = 1\n",
        "cls_token = nn.Parameter(torch.randn(1, 1, hidden_size))\n",
        "cls_tokens = cls_token.expand(batch_size, -1, -1)\n",
        "\n",
        "# Prepend [CLS] token in the beginning of patch embedding\n",
        "patch_embeddings = torch.cat((cls_tokens, patch_embeddings), dim=1)\n",
        "print(f'Patch embedding size: {patch_embeddings.size()}')"
      ]
    },
    {
      "cell_type": "code",
      "execution_count": 13,
      "metadata": {
        "colab": {
          "base_uri": "https://localhost:8080/"
        },
        "id": "SzQwcKkB0wzP",
        "outputId": "93ec5c5f-4b41-4747-c5d1-10cdda7ba0bf"
      },
      "outputs": [
        {
          "name": "stdout",
          "output_type": "stream",
          "text": [
            "Input embedding size: torch.Size([1, 10, 768])\n"
          ]
        }
      ],
      "source": [
        "# Define position embedding with the same dimension as the patch embedding\n",
        "position_embeddings = nn.Parameter(torch.randn(batch_size, 10, hidden_size))\n",
        "\n",
        "# Add position embedding into patch embedding\n",
        "input_embeddings = patch_embeddings + position_embeddings\n",
        "print(f'Input embedding size: {input_embeddings.size()}')"
      ]
    },
    {
      "cell_type": "code",
      "execution_count": 14,
      "metadata": {
        "colab": {
          "base_uri": "https://localhost:8080/"
        },
        "id": "8rU_UMIi09p_",
        "outputId": "4a42efa8-faef-4806-9d4b-79f24cc809cf"
      },
      "outputs": [
        {
          "name": "stdout",
          "output_type": "stream",
          "text": [
            " Output embedding size: torch.Size([1, 10, 768])\n"
          ]
        }
      ],
      "source": [
        "# Define parameters for ViT-base (example)\n",
        "num_heads = 12\n",
        "num_layers = 12\n",
        "\n",
        "# Define Transformer encoders' stack\n",
        "transformer_encoder_layer = nn.TransformerEncoderLayer(\n",
        "    d_model=hidden_size, nhead=num_heads,\n",
        "    dim_feedforward=int(hidden_size * 4),\n",
        "    dropout=0.1)\n",
        "transformer_encoder = nn.TransformerEncoder(\n",
        "    encoder_layer=transformer_encoder_layer,\n",
        "    num_layers=num_layers)\n",
        "\n",
        "# Forward pass\n",
        "output_embeddings = transformer_encoder(input_embeddings)\n",
        "print(f' Output embedding size: {output_embeddings.size()}')"
      ]
    },
    {
      "cell_type": "code",
      "execution_count": 15,
      "metadata": {
        "colab": {
          "base_uri": "https://localhost:8080/",
          "height": 708,
          "referenced_widgets": [
            "f8388358a23d4ebfa852e7ed66815d2b",
            "806585e5e8db466f9063e5b6081ae3d8",
            "eb3572613c4f441db5716122cad328dc",
            "469372dce758440090a59766eaca2333",
            "26b35450bc494c49a86fd46c36b9ab9c",
            "fbe1126194c34764b21fe98ae8b66a32",
            "5942c8f3a8ee4082998d0020ca277ed5",
            "5377803e43224421b8c8935fa9121413",
            "e611614a9cb543d79438bf87b878f4a9",
            "2d4c85c6f2904d72b683e690d1c9361b",
            "8d23d0470afd46e18e42d66aa36bc38f",
            "9f6cba51712d4f89a300d582c996c13f",
            "ef4d0e75cdbe45dba1f8104d21ba7ced",
            "e19df927c0c14b79bf9db87be8649330",
            "f5e032448cfc4dbaa8b3d711eb276312",
            "d72e9efddd0547328b7fa1e1f7468332",
            "d4e4662a846b47599c3cbe8cfbe1a11f",
            "3bf2d708e6354f3487c299fbe6b0d86c",
            "fbddfb1d7f4540fda5a161d587acb337",
            "410b0aff282044cb8e291afe80ce54da",
            "eebf47fa01354da3a8c39ec1ae3149c6",
            "a2a7d879333f4090b278c96336b4df27"
          ]
        },
        "id": "tHW6iNV91ArP",
        "outputId": "adfddfa0-ba5e-40a7-d6db-fc0129cf31f7"
      },
      "outputs": [
        {
          "name": "stdout",
          "output_type": "stream",
          "text": [
            "Defaulting to user installation because normal site-packages is not writeable\n",
            "Requirement already satisfied: transformers in /home/yash/.local/lib/python3.10/site-packages (4.34.1)\n",
            "Requirement already satisfied: tokenizers<0.15,>=0.14 in /home/yash/.local/lib/python3.10/site-packages (from transformers) (0.14.1)\n",
            "Requirement already satisfied: safetensors>=0.3.1 in /home/yash/.local/lib/python3.10/site-packages (from transformers) (0.3.1)\n",
            "Requirement already satisfied: packaging>=20.0 in /home/yash/.local/lib/python3.10/site-packages (from transformers) (23.1)\n",
            "Requirement already satisfied: numpy>=1.17 in /home/yash/.local/lib/python3.10/site-packages (from transformers) (1.24.4)\n",
            "Requirement already satisfied: pyyaml>=5.1 in /home/yash/.local/lib/python3.10/site-packages (from transformers) (6.0.1)\n",
            "Requirement already satisfied: huggingface-hub<1.0,>=0.16.4 in /home/yash/.local/lib/python3.10/site-packages (from transformers) (0.16.4)\n",
            "Requirement already satisfied: regex!=2019.12.17 in /home/yash/.local/lib/python3.10/site-packages (from transformers) (2023.5.5)\n",
            "Requirement already satisfied: requests in /home/yash/.local/lib/python3.10/site-packages (from transformers) (2.30.0)\n",
            "Requirement already satisfied: tqdm>=4.27 in /home/yash/.local/lib/python3.10/site-packages (from transformers) (4.65.0)\n",
            "Requirement already satisfied: filelock in /home/yash/.local/lib/python3.10/site-packages (from transformers) (3.12.0)\n",
            "Requirement already satisfied: fsspec in /home/yash/.local/lib/python3.10/site-packages (from huggingface-hub<1.0,>=0.16.4->transformers) (2023.5.0)\n",
            "Requirement already satisfied: typing-extensions>=3.7.4.3 in /home/yash/.local/lib/python3.10/site-packages (from huggingface-hub<1.0,>=0.16.4->transformers) (4.5.0)\n",
            "Requirement already satisfied: idna<4,>=2.5 in /home/yash/.local/lib/python3.10/site-packages (from requests->transformers) (2.10)\n",
            "Requirement already satisfied: charset-normalizer<4,>=2 in /home/yash/.local/lib/python3.10/site-packages (from requests->transformers) (3.1.0)\n",
            "Requirement already satisfied: urllib3<3,>=1.21.1 in /home/yash/.local/lib/python3.10/site-packages (from requests->transformers) (1.26.16)\n",
            "Requirement already satisfied: certifi>=2017.4.17 in /home/yash/.local/lib/python3.10/site-packages (from requests->transformers) (2023.5.7)\n"
          ]
        },
        {
          "name": "stderr",
          "output_type": "stream",
          "text": [
            "Some weights of the model checkpoint at google/vit-base-patch16-224-in21k were not used when initializing ViTModel: ['pooler.dense.bias', 'pooler.dense.weight']\n",
            "- This IS expected if you are initializing ViTModel from the checkpoint of a model trained on another task or with another architecture (e.g. initializing a BertForSequenceClassification model from a BertForPreTraining model).\n",
            "- This IS NOT expected if you are initializing ViTModel from the checkpoint of a model that you expect to be exactly identical (initializing a BertForSequenceClassification model from a BertForSequenceClassification model).\n"
          ]
        },
        {
          "name": "stdout",
          "output_type": "stream",
          "text": [
            "BaseModelOutputWithPooling(last_hidden_state=tensor([[[ 0.0852, -0.2270,  0.0562,  ...,  0.2189,  0.0376, -0.3539],\n",
            "         [ 0.1680,  0.0264, -0.0255,  ..., -0.0811,  0.1672, -0.2500],\n",
            "         [ 0.1187, -0.2603,  0.0697,  ..., -0.0060,  0.2914, -0.3653],\n",
            "         ...,\n",
            "         [ 0.1554, -0.1587, -0.0487,  ..., -0.0326,  0.1318, -0.3420],\n",
            "         [-0.0882, -0.3626, -0.0761,  ...,  0.1686,  0.0089, -0.3452],\n",
            "         [ 0.1589, -0.0966, -0.0008,  ..., -0.0107,  0.0970, -0.2761]]],\n",
            "       grad_fn=<NativeLayerNormBackward0>), pooler_output=None, hidden_states=None, attentions=None)\n",
            "Ouput embedding size: torch.Size([1, 197, 768])\n"
          ]
        }
      ],
      "source": [
        "!pip install transformers\n",
        "\n",
        "from transformers import ViTModel\n",
        "\n",
        "# Load pretrained model\n",
        "model_checkpoint = 'google/vit-base-patch16-224-in21k'\n",
        "model = ViTModel.from_pretrained(model_checkpoint, add_pooling_layer=False)\n",
        "\n",
        "# Example input image\n",
        "input_img = torch.rand(batch_size, num_channels, 224, 224)\n",
        "\n",
        "# Forward pass input image\n",
        "output_embedding = model(input_img)\n",
        "print(output_embedding)\n",
        "print(f\"Ouput embedding size: {output_embedding['last_hidden_state'].size()}\")"
      ]
    },
    {
      "cell_type": "code",
      "execution_count": 16,
      "metadata": {
        "colab": {
          "base_uri": "https://localhost:8080/"
        },
        "id": "Pv1kBP0e1D4H",
        "outputId": "568d2357-e7fb-4764-9a32-b7244cc33948"
      },
      "outputs": [
        {
          "name": "stdout",
          "output_type": "stream",
          "text": [
            "Output embedding size: torch.Size([1, 35622])\n"
          ]
        }
      ],
      "source": [
        "num_labels = train_dataset.num_rows\n",
        "\n",
        "# Define linear classifier layer\n",
        "classifier = nn.Linear(hidden_size, num_labels)\n",
        "\n",
        "# Forward pass on the output embedding of [CLS] token\n",
        "output_classification = classifier(\n",
        "    output_embedding['last_hidden_state'][:, 0, :])\n",
        "print(f\"Output embedding size: {output_classification.size()}\")"
      ]
    },
    {
      "cell_type": "markdown",
      "metadata": {
        "id": "tffHI6bX1kWL"
      },
      "source": [
        "# Fine Tuning ViT Impelementation"
      ]
    },
    {
      "cell_type": "code",
      "execution_count": 17,
      "metadata": {
        "id": "lCck41H41QKn"
      },
      "outputs": [],
      "source": [
        "import numpy as np\n",
        "import torch\n",
        "import cv2\n",
        "import torch.nn as nn\n",
        "from transformers import ViTModel, ViTConfig\n",
        "from torchvision import transforms\n",
        "from torch.optim import Adam, AdamW\n",
        "from torch.utils.data import DataLoader\n",
        "from tqdm import tqdm\n"
      ]
    },
    {
      "cell_type": "code",
      "execution_count": 18,
      "metadata": {
        "id": "RbGzoR181Uxv"
      },
      "outputs": [],
      "source": [
        "from PIL import Image\n",
        "\n",
        "\n",
        "class ImageDataset(torch.utils.data.Dataset):\n",
        "\n",
        "    def __init__(self, input_data):\n",
        "\n",
        "        self.input_data = input_data\n",
        "        # Transform input data\n",
        "        self.transform = transforms.Compose([\n",
        "            transforms.ToTensor(),\n",
        "            transforms.Resize((224, 224), antialias=True),\n",
        "            transforms.Normalize(mean=[0.5, 0.5, 0.5],\n",
        "                                 std=[0.5, 0.5, 0.5])\n",
        "        ])\n",
        "\n",
        "    def __len__(self):\n",
        "        return len(self.input_data)\n",
        "\n",
        "    def get_images(self, idx):\n",
        "        image_data = self.input_data[idx]['image']\n",
        "        if not isinstance(image_data, Image.Image):\n",
        "            image_data = Image.fromarray(image_data)\n",
        "        \n",
        "        # Convert grayscale to RGB\n",
        "        if image_data.mode != 'RGB':\n",
        "            image_data = image_data.convert('RGB')\n",
        "\n",
        "        return self.transform(image_data)\n",
        "\n",
        "    def get_labels(self, idx):\n",
        "        return self.input_data[idx]['label']\n",
        "\n",
        "    def __getitem__(self, idx):\n",
        "        train_images = self.get_images(idx)\n",
        "        train_labels = self.get_labels(idx)\n",
        "        return train_images, train_labels"
      ]
    },
    {
      "cell_type": "markdown",
      "metadata": {},
      "source": [
        "# VIT Transformers Model"
      ]
    },
    {
      "cell_type": "code",
      "execution_count": 19,
      "metadata": {
        "id": "xlIfg7ar1Ybn"
      },
      "outputs": [],
      "source": [
        "class ViT(nn.Module):\n",
        "\n",
        "    def __init__(self, config=ViTConfig(), num_labels=train_dataset.num_rows,\n",
        "                 model_checkpoint='google/vit-base-patch16-224-in21k'):\n",
        "\n",
        "        super(ViT, self).__init__()\n",
        "\n",
        "        self.vit = ViTModel.from_pretrained(\n",
        "            model_checkpoint, add_pooling_layer=False)\n",
        "        self.classifier = (\n",
        "            nn.Linear(config.hidden_size, num_labels)\n",
        "        )\n",
        "\n",
        "    def forward(self, x):\n",
        "\n",
        "        x = self.vit(x)['last_hidden_state']\n",
        "        # Use the embedding of [CLS] token\n",
        "        output = self.classifier(x[:, 0, :])\n",
        "\n",
        "        return output"
      ]
    },
    {
      "cell_type": "code",
      "execution_count": 20,
      "metadata": {},
      "outputs": [],
      "source": [
        "# from lion_pytorch import Lion"
      ]
    },
    {
      "cell_type": "code",
      "execution_count": 21,
      "metadata": {},
      "outputs": [],
      "source": [
        "class lion_optimizer(torch.optim.Optimizer): \n",
        "\n",
        "    def __init__(self, params, learning_rate = 1e-3, beta1 = 0.9, beta2 = 0.99, lambdaa = 1):\n",
        "        super(lion_optimizer, self).__init__(params, defaults={'lr': learning_rate})\n",
        "        self.state = dict()\n",
        "        self.beta1 = beta1\n",
        "        self.beta2 = beta2\n",
        "        self.lambdaa = lambdaa\n",
        "        for group in self.param_groups:\n",
        "            for p in group['params']:\n",
        "                self.state[p] = dict(momentum = torch.zeros_like(p.data))\n",
        "\n",
        "    def step(self): \n",
        "        for group in self.param_groups:\n",
        "            for p in group['params']:\n",
        "                if p not in self.state: \n",
        "                    self.state[p] = dict(momentum = torch.zeros_like(p.data))\n",
        "                m = self.beta1 * self.state[p]['momentum'] + (1 - self.beta1) * p.grad.data\n",
        "                p.data -= group['lr'] * (torch.sign(m) + self.lambdaa * p.data)\n",
        "                m = self.beta2 * self.state[p]['momentum'] + (1 - self.beta2) * p.grad.data\n",
        "                self.state[p]['momentum'] = m"
      ]
    },
    {
      "cell_type": "code",
      "execution_count": 22,
      "metadata": {},
      "outputs": [],
      "source": [
        "import torch.optim.adamw"
      ]
    },
    {
      "cell_type": "markdown",
      "metadata": {},
      "source": [
        "# Training Loop"
      ]
    },
    {
      "cell_type": "code",
      "execution_count": 23,
      "metadata": {
        "colab": {
          "base_uri": "https://localhost:8080/"
        },
        "id": "LERuTE-m1a6Q",
        "outputId": "002c5e7a-42e5-4a5a-df5b-eb1e15cedbae"
      },
      "outputs": [
        {
          "name": "stderr",
          "output_type": "stream",
          "text": [
            "Some weights of the model checkpoint at google/vit-base-patch16-224-in21k were not used when initializing ViTModel: ['pooler.dense.bias', 'pooler.dense.weight']\n",
            "- This IS expected if you are initializing ViTModel from the checkpoint of a model trained on another task or with another architecture (e.g. initializing a BertForSequenceClassification model from a BertForPreTraining model).\n",
            "- This IS NOT expected if you are initializing ViTModel from the checkpoint of a model that you expect to be exactly identical (initializing a BertForSequenceClassification model from a BertForSequenceClassification model).\n",
            "100%|██████████| 1114/1114 [16:22<00:00,  1.13it/s]\n"
          ]
        },
        {
          "name": "stdout",
          "output_type": "stream",
          "text": [
            "Epoch: 1 | Training Loss:  0.226688 | Training Accuracy:  0.005727 | Dev Loss:  0.188079 | Dev Accuracy:  0.022141 | Test Loss:  0.188412 | Test Accuracy:  0.020304\n"
          ]
        },
        {
          "name": "stderr",
          "output_type": "stream",
          "text": [
            "100%|██████████| 1114/1114 [16:21<00:00,  1.13it/s]\n"
          ]
        },
        {
          "name": "stdout",
          "output_type": "stream",
          "text": [
            "Epoch: 2 | Training Loss:  0.162663 | Training Accuracy:  0.077059 | Dev Loss:  0.141183 | Dev Accuracy:  0.147124 | Test Loss:  0.141099 | Test Accuracy:  0.144878\n"
          ]
        },
        {
          "name": "stderr",
          "output_type": "stream",
          "text": [
            "100%|██████████| 1114/1114 [16:21<00:00,  1.14it/s]\n"
          ]
        },
        {
          "name": "stdout",
          "output_type": "stream",
          "text": [
            "Epoch: 3 | Training Loss:  0.104520 | Training Accuracy:  0.325698 | Dev Loss:  0.091269 | Dev Accuracy:  0.384384 | Test Loss:  0.091256 | Test Accuracy:  0.383154\n"
          ]
        },
        {
          "name": "stderr",
          "output_type": "stream",
          "text": [
            "100%|██████████| 1114/1114 [16:23<00:00,  1.13it/s]\n"
          ]
        },
        {
          "name": "stdout",
          "output_type": "stream",
          "text": [
            "Epoch: 4 | Training Loss:  0.051604 | Training Accuracy:  0.629695 | Dev Loss:  0.065128 | Dev Accuracy:  0.533080 | Test Loss:  0.064363 | Test Accuracy:  0.533796\n"
          ]
        },
        {
          "name": "stderr",
          "output_type": "stream",
          "text": [
            "100%|██████████| 1114/1114 [14:51<00:00,  1.25it/s]\n"
          ]
        },
        {
          "name": "stdout",
          "output_type": "stream",
          "text": [
            "Epoch: 5 | Training Loss:  0.023868 | Training Accuracy:  0.819185 | Dev Loss:  0.057816 | Dev Accuracy:  0.589676 | Test Loss:  0.058575 | Test Accuracy:  0.582133\n"
          ]
        },
        {
          "name": "stderr",
          "output_type": "stream",
          "text": [
            "100%|██████████| 1114/1114 [14:48<00:00,  1.25it/s]\n"
          ]
        },
        {
          "name": "stdout",
          "output_type": "stream",
          "text": [
            "Epoch: 6 | Training Loss:  0.014169 | Training Accuracy:  0.888889 | Dev Loss:  0.059128 | Dev Accuracy:  0.601336 | Test Loss:  0.058614 | Test Accuracy:  0.596935\n"
          ]
        },
        {
          "name": "stderr",
          "output_type": "stream",
          "text": [
            "100%|██████████| 1114/1114 [14:51<00:00,  1.25it/s]\n"
          ]
        },
        {
          "name": "stdout",
          "output_type": "stream",
          "text": [
            "Epoch: 7 | Training Loss:  0.011402 | Training Accuracy:  0.910561 | Dev Loss:  0.061094 | Dev Accuracy:  0.607101 | Test Loss:  0.061845 | Test Accuracy:  0.602567\n"
          ]
        },
        {
          "name": "stderr",
          "output_type": "stream",
          "text": [
            "100%|██████████| 1114/1114 [13:44<00:00,  1.35it/s]\n"
          ]
        },
        {
          "name": "stdout",
          "output_type": "stream",
          "text": [
            "Epoch: 8 | Training Loss:  0.010675 | Training Accuracy:  0.917298 | Dev Loss:  0.064498 | Dev Accuracy:  0.601336 | Test Loss:  0.064194 | Test Accuracy:  0.600734\n"
          ]
        },
        {
          "name": "stderr",
          "output_type": "stream",
          "text": [
            "100%|██████████| 1114/1114 [13:41<00:00,  1.36it/s]\n"
          ]
        },
        {
          "name": "stdout",
          "output_type": "stream",
          "text": [
            "Epoch: 9 | Training Loss:  0.010247 | Training Accuracy:  0.919881 | Dev Loss:  0.066946 | Dev Accuracy:  0.597930 | Test Loss:  0.067111 | Test Accuracy:  0.595232\n"
          ]
        },
        {
          "name": "stderr",
          "output_type": "stream",
          "text": [
            "100%|██████████| 1114/1114 [13:44<00:00,  1.35it/s]\n"
          ]
        },
        {
          "name": "stdout",
          "output_type": "stream",
          "text": [
            "Epoch: 10 | Training Loss:  0.009883 | Training Accuracy:  0.922127 | Dev Loss:  0.068404 | Dev Accuracy:  0.596882 | Test Loss:  0.069040 | Test Accuracy:  0.592874\n"
          ]
        },
        {
          "name": "stderr",
          "output_type": "stream",
          "text": [
            "100%|██████████| 1114/1114 [13:40<00:00,  1.36it/s]\n"
          ]
        },
        {
          "name": "stdout",
          "output_type": "stream",
          "text": [
            "Epoch: 11 | Training Loss:  0.009236 | Training Accuracy:  0.926815 | Dev Loss:  0.069738 | Dev Accuracy:  0.595703 | Test Loss:  0.069375 | Test Accuracy:  0.586979\n"
          ]
        },
        {
          "name": "stderr",
          "output_type": "stream",
          "text": [
            "100%|██████████| 1114/1114 [13:37<00:00,  1.36it/s]\n"
          ]
        },
        {
          "name": "stdout",
          "output_type": "stream",
          "text": [
            "Epoch: 12 | Training Loss:  0.008959 | Training Accuracy:  0.931784 | Dev Loss:  0.070562 | Dev Accuracy:  0.601729 | Test Loss:  0.069857 | Test Accuracy:  0.599162\n"
          ]
        },
        {
          "name": "stderr",
          "output_type": "stream",
          "text": [
            "100%|██████████| 1114/1114 [13:39<00:00,  1.36it/s]\n"
          ]
        },
        {
          "name": "stdout",
          "output_type": "stream",
          "text": [
            "Epoch: 13 | Training Loss:  0.008496 | Training Accuracy:  0.934675 | Dev Loss:  0.071277 | Dev Accuracy:  0.600157 | Test Loss:  0.070260 | Test Accuracy:  0.606366\n"
          ]
        },
        {
          "name": "stderr",
          "output_type": "stream",
          "text": [
            "100%|██████████| 1114/1114 [13:38<00:00,  1.36it/s]\n"
          ]
        },
        {
          "name": "stdout",
          "output_type": "stream",
          "text": [
            "Epoch: 14 | Training Loss:  0.008195 | Training Accuracy:  0.936360 | Dev Loss:  0.069447 | Dev Accuracy:  0.609983 | Test Loss:  0.070724 | Test Accuracy:  0.607021\n"
          ]
        },
        {
          "name": "stderr",
          "output_type": "stream",
          "text": [
            "100%|██████████| 1114/1114 [13:44<00:00,  1.35it/s]\n"
          ]
        },
        {
          "name": "stdout",
          "output_type": "stream",
          "text": [
            "Epoch: 15 | Training Loss:  0.007690 | Training Accuracy:  0.940935 | Dev Loss:  0.075325 | Dev Accuracy:  0.587056 | Test Loss:  0.074313 | Test Accuracy:  0.597983\n"
          ]
        }
      ],
      "source": [
        "import torch\n",
        "from torch.utils.data import DataLoader\n",
        "from tqdm import tqdm\n",
        "\n",
        "def evaluate_model(model, dataset, criterion, device):\n",
        "    dataset = ImageDataset(dataset)\n",
        "    dataloader = DataLoader(dataset, num_workers=1, batch_size=BATCH_SIZE, shuffle=True)\n",
        "    total_acc, total_loss = 0.0, 0.0\n",
        "\n",
        "    model.eval()  # Set the model to evaluation mode\n",
        "    with torch.no_grad():\n",
        "        for images, labels in dataloader:\n",
        "            images, labels = images.to(device), labels.to(device)\n",
        "            outputs = model(images)\n",
        "            loss = criterion(outputs, labels)\n",
        "            acc = (outputs.argmax(dim=1) == labels).sum().item()\n",
        "\n",
        "            total_acc += acc\n",
        "            total_loss += loss.item()\n",
        "\n",
        "    avg_loss = total_loss / len(dataset)\n",
        "    avg_acc = total_acc / len(dataset)\n",
        "    return avg_loss, avg_acc\n",
        "\n",
        "def model_train(train_dataset, dev_dataset, test_dataset, epochs, learning_rate, bs):\n",
        "\n",
        "    use_cuda = torch.cuda.is_available()\n",
        "    device = torch.device(\"cuda\" if use_cuda else \"cpu\")\n",
        "    # device = torch.device(\"cpu\")\n",
        "\n",
        "    # Load nodel, loss function, and optimizer\n",
        "    model = ViT().to(device)\n",
        "    criterion = nn.CrossEntropyLoss().to(device)\n",
        "    optimizer = lion_optimizer(model.parameters(), learning_rate=0.00005, beta1 = 0.9, beta2 = 0.99, lambdaa = 0.01)\n",
        "\n",
        "    # Load batch image\n",
        "    train_dataset = ImageDataset(train_dataset)\n",
        "    train_dataloader = DataLoader(\n",
        "        train_dataset, num_workers=1, batch_size=bs, shuffle=True)\n",
        "\n",
        "    # Fine tuning loop\n",
        "    for i in range(epochs):\n",
        "        total_acc_train = 0\n",
        "        total_loss_train = 0.0\n",
        "\n",
        "        model.train()  # Set the model to training mode\n",
        "\n",
        "        for train_image, train_label in tqdm(train_dataloader):\n",
        "            output = model(train_image.to(device))\n",
        "            loss = criterion(output, train_label.to(device))\n",
        "            acc = (output.argmax(dim=1) == train_label.to(device)).sum().item()\n",
        "            total_acc_train += acc\n",
        "            total_loss_train += loss.item()\n",
        "\n",
        "            loss.backward()\n",
        "            optimizer.step()\n",
        "            optimizer.zero_grad()\n",
        "\n",
        "        dev_loss, dev_acc = evaluate_model(model, dev_dataset, criterion, device)\n",
        "        test_loss, test_acc = evaluate_model(model, test_dataset, criterion, device)\n",
        "\n",
        "        # print(f'Epoch: {i + 1} | Training Loss: {total_loss_train / len(train_dataset): .3f} | Training Accuracy: {total_acc_train / len(train_dataset): .6f} | Dev Accuracy: {dev_acc: .6f} | Test Accuracy: {test_acc: .6f}')\n",
        "        print(f'Epoch: {i + 1} | Training Loss: {total_loss_train / len(train_dataset): .6f} | Training Accuracy: {total_acc_train / len(train_dataset): .6f} | Dev Loss: {dev_loss: .6f} | Dev Accuracy: {dev_acc: .6f} | Test Loss: {test_loss: .6f} | Test Accuracy: {test_acc: .6f}')\n",
        "\n",
        "    return model\n",
        "\n",
        "\n",
        "# Hyperparameters\n",
        "EPOCHS = 15\n",
        "LEARNING_RATE = 1e-3\n",
        "BATCH_SIZE = 32\n",
        "\n",
        "# Train the model\n",
        "trained_model = model_train(\n",
        "    train_dataset, dev_dataset, test_dataset, EPOCHS, LEARNING_RATE, BATCH_SIZE)"
      ]
    },
    {
      "cell_type": "markdown",
      "metadata": {},
      "source": [
        "# Inbuilt AdamW"
      ]
    },
    {
      "cell_type": "code",
      "execution_count": 24,
      "metadata": {},
      "outputs": [],
      "source": [
        "torch.save(model.state_dict(), 'ImageNet_Lion_Custom.pth')"
      ]
    },
    {
      "cell_type": "markdown",
      "metadata": {
        "id": "_Zpry7cS2YVU"
      },
      "source": [
        "# Model Prediction"
      ]
    },
    {
      "cell_type": "code",
      "execution_count": 25,
      "metadata": {
        "id": "NREckUyN1eQ-"
      },
      "outputs": [],
      "source": [
        "def predict(img):\n",
        "\n",
        "    use_cuda = torch.cuda.is_available()\n",
        "    device = torch.device(\"cuda\" if use_cuda else \"cpu\")\n",
        "    transform = transforms.Compose([\n",
        "        transforms.ToTensor(),\n",
        "        transforms.Resize((224, 224)),\n",
        "        transforms.Normalize(mean=[0.5, 0.5, 0.5],\n",
        "                             std=[0.5, 0.5, 0.5])\n",
        "    ])\n",
        "\n",
        "    img = transform(img)\n",
        "    output = trained_model(img.unsqueeze(0).to(device))\n",
        "    prediction = output.argmax(dim=1).item()\n",
        "\n",
        "    return id2label[prediction]"
      ]
    },
    {
      "cell_type": "code",
      "execution_count": null,
      "metadata": {
        "colab": {
          "base_uri": "https://localhost:8080/"
        },
        "id": "6ViYzRp98XBU",
        "outputId": "7bda2d95-810c-4752-c4fc-95082547aaf9"
      },
      "outputs": [
        {
          "name": "stdout",
          "output_type": "stream",
          "text": [
            "axolotl, mud puppy, Ambystoma mexicanum\n"
          ]
        },
        {
          "name": "stderr",
          "output_type": "stream",
          "text": [
            "/home/yash/.local/lib/python3.10/site-packages/torchvision/transforms/functional.py:1603: UserWarning: The default value of the antialias parameter of all the resizing transforms (Resize(), RandomResizedCrop(), etc.) will change from None to True in v0.17, in order to be consistent across the PIL and Tensor backends. To suppress this warning, directly pass antialias=True (recommended, future default), antialias=None (current default, which means False for Tensors and True for PIL), or antialias=False (only works on Tensors - PIL will still use antialiasing). This also applies if you are using the inference transforms from the models weights: update the call to weights.transforms(antialias=True).\n",
            "  warnings.warn(\n"
          ]
        }
      ],
      "source": [
        "print(predict(dataset['test'][900]['image']))"
      ]
    },
    {
      "cell_type": "code",
      "execution_count": null,
      "metadata": {
        "colab": {
          "base_uri": "https://localhost:8080/",
          "height": 273
        },
        "id": "gpmQSP1n72-Y",
        "outputId": "43ba8260-2212-4b65-ed04-23ed27feed64"
      },
      "outputs": [
        {
          "data": {
            "image/png": "[encoded data removed]",
            "text/plain": [
              "<PIL.JpegImagePlugin.JpegImageFile image mode=RGB size=765x1024>"
            ]
          },
          "execution_count": 26,
          "metadata": {},
          "output_type": "execute_result"
        }
      ],
      "source": [
        "dataset['test'][250]['image']"
      ]
    },
    {
      "cell_type": "code",
      "execution_count": null,
      "metadata": {
        "colab": {
          "base_uri": "https://localhost:8080/"
        },
        "id": "nwxGv6lg8Vz_",
        "outputId": "8f1abc4b-1ec7-4ad4-c2f1-9cee774efaa1"
      },
      "outputs": [
        {
          "name": "stdout",
          "output_type": "stream",
          "text": [
            "redshank, Tringa totanus\n"
          ]
        }
      ],
      "source": [
        "print(predict(dataset['test'][250]['image']))"
      ]
    },
    {
      "cell_type": "code",
      "execution_count": null,
      "metadata": {
        "id": "Fk66FO208jXI"
      },
      "outputs": [],
      "source": []
    },
    {
      "cell_type": "code",
      "execution_count": null,
      "metadata": {},
      "outputs": [],
      "source": []
    }
  ],
  "metadata": {
    "accelerator": "GPU",
    "colab": {
      "provenance": []
    },
    "gpuClass": "standard",
    "kernelspec": {
      "display_name": "Python 3",
      "name": "python3"
    },
    "language_info": {
      "codemirror_mode": {
        "name": "ipython",
        "version": 3
      },
      "file_extension": ".py",
      "mimetype": "text/x-python",
      "name": "python",
      "nbconvert_exporter": "python",
      "pygments_lexer": "ipython3",
      "version": "3.10.12"
    },
    "widgets": {
      "application/vnd.jupyter.widget-state+json": {
        "03d1996bb4694d008a666cb39d265503": {
          "model_module": "@jupyter-widgets/base",
          "model_module_version": "1.2.0",
          "model_name": "LayoutModel",
          "state": {
            "_model_module": "@jupyter-widgets/base",
            "_model_module_version": "1.2.0",
            "_model_name": "LayoutModel",
            "_view_count": null,
            "_view_module": "@jupyter-widgets/base",
            "_view_module_version": "1.2.0",
            "_view_name": "LayoutView",
            "align_content": null,
            "align_items": null,
            "align_self": null,
            "border": null,
            "bottom": null,
            "display": null,
            "flex": null,
            "flex_flow": null,
            "grid_area": null,
            "grid_auto_columns": null,
            "grid_auto_flow": null,
            "grid_auto_rows": null,
            "grid_column": null,
            "grid_gap": null,
            "grid_row": null,
            "grid_template_areas": null,
            "grid_template_columns": null,
            "grid_template_rows": null,
            "height": null,
            "justify_content": null,
            "justify_items": null,
            "left": null,
            "margin": null,
            "max_height": null,
            "max_width": null,
            "min_height": null,
            "min_width": null,
            "object_fit": null,
            "object_position": null,
            "order": null,
            "overflow": null,
            "overflow_x": null,
            "overflow_y": null,
            "padding": null,
            "right": null,
            "top": null,
            "visibility": null,
            "width": null
          }
        },
        "04b1d4331de6494293da279857ddf425": {
          "model_module": "@jupyter-widgets/controls",
          "model_module_version": "1.5.0",
          "model_name": "HTMLModel",
          "state": {
            "_dom_classes": [],
            "_model_module": "@jupyter-widgets/controls",
            "_model_module_version": "1.5.0",
            "_model_name": "HTMLModel",
            "_view_count": null,
            "_view_module": "@jupyter-widgets/controls",
            "_view_module_version": "1.5.0",
            "_view_name": "HTMLView",
            "description": "",
            "description_tooltip": null,
            "layout": "IPY_MODEL_4f75cd78c83e48e6900315881fc3c0d2",
            "placeholder": "​",
            "style": "IPY_MODEL_1f9281415672426187db4615ada9d9e0",
            "value": "Downloading builder script: 100%"
          }
        },
        "12b6928e80f9428880c965b6a75a0077": {
          "model_module": "@jupyter-widgets/controls",
          "model_module_version": "1.5.0",
          "model_name": "HTMLModel",
          "state": {
            "_dom_classes": [],
            "_model_module": "@jupyter-widgets/controls",
            "_model_module_version": "1.5.0",
            "_model_name": "HTMLModel",
            "_view_count": null,
            "_view_module": "@jupyter-widgets/controls",
            "_view_module_version": "1.5.0",
            "_view_name": "HTMLView",
            "description": "",
            "description_tooltip": null,
            "layout": "IPY_MODEL_52ed4350b22e419397772cec7fab0d50",
            "placeholder": "​",
            "style": "IPY_MODEL_49af2bde0ffe464a90cb72dd50096172",
            "value": "Generating test split: "
          }
        },
        "12fb32d92f094abeb9b1278df84ebfa0": {
          "model_module": "@jupyter-widgets/controls",
          "model_module_version": "1.5.0",
          "model_name": "HBoxModel",
          "state": {
            "_dom_classes": [],
            "_model_module": "@jupyter-widgets/controls",
            "_model_module_version": "1.5.0",
            "_model_name": "HBoxModel",
            "_view_count": null,
            "_view_module": "@jupyter-widgets/controls",
            "_view_module_version": "1.5.0",
            "_view_name": "HBoxView",
            "box_style": "",
            "children": [
              "IPY_MODEL_2789a323dc7c4b33916a1a8d781d3a01",
              "IPY_MODEL_6bd3c0ae89ab433ab13e1e8dd91d96bf",
              "IPY_MODEL_801fc1ff55884d2ea43b8bbe6d01325f"
            ],
            "layout": "IPY_MODEL_35622f0ed82a4a2aac670014e166ebd7"
          }
        },
        "13b6d8be92384e5fa32c3b4bdbb41623": {
          "model_module": "@jupyter-widgets/controls",
          "model_module_version": "1.5.0",
          "model_name": "HBoxModel",
          "state": {
            "_dom_classes": [],
            "_model_module": "@jupyter-widgets/controls",
            "_model_module_version": "1.5.0",
            "_model_name": "HBoxModel",
            "_view_count": null,
            "_view_module": "@jupyter-widgets/controls",
            "_view_module_version": "1.5.0",
            "_view_name": "HBoxView",
            "box_style": "",
            "children": [
              "IPY_MODEL_50c7ca8214154392bc50dc5d43a93825",
              "IPY_MODEL_fe43da2a8b2c4327858bc67e5dee14f2",
              "IPY_MODEL_b74e6af9da7f49f6bc856fc4fd82b605"
            ],
            "layout": "IPY_MODEL_ea40f80a458f4b4ea5aedca7903302b2"
          }
        },
        "15005108681e43c0995bab2037da8d84": {
          "model_module": "@jupyter-widgets/base",
          "model_module_version": "1.2.0",
          "model_name": "LayoutModel",
          "state": {
            "_model_module": "@jupyter-widgets/base",
            "_model_module_version": "1.2.0",
            "_model_name": "LayoutModel",
            "_view_count": null,
            "_view_module": "@jupyter-widgets/base",
            "_view_module_version": "1.2.0",
            "_view_name": "LayoutView",
            "align_content": null,
            "align_items": null,
            "align_self": null,
            "border": null,
            "bottom": null,
            "display": null,
            "flex": null,
            "flex_flow": null,
            "grid_area": null,
            "grid_auto_columns": null,
            "grid_auto_flow": null,
            "grid_auto_rows": null,
            "grid_column": null,
            "grid_gap": null,
            "grid_row": null,
            "grid_template_areas": null,
            "grid_template_columns": null,
            "grid_template_rows": null,
            "height": null,
            "justify_content": null,
            "justify_items": null,
            "left": null,
            "margin": null,
            "max_height": null,
            "max_width": null,
            "min_height": null,
            "min_width": null,
            "object_fit": null,
            "object_position": null,
            "order": null,
            "overflow": null,
            "overflow_x": null,
            "overflow_y": null,
            "padding": null,
            "right": null,
            "top": null,
            "visibility": null,
            "width": null
          }
        },
        "193befd758744b5d9fead771abc18971": {
          "model_module": "@jupyter-widgets/base",
          "model_module_version": "1.2.0",
          "model_name": "LayoutModel",
          "state": {
            "_model_module": "@jupyter-widgets/base",
            "_model_module_version": "1.2.0",
            "_model_name": "LayoutModel",
            "_view_count": null,
            "_view_module": "@jupyter-widgets/base",
            "_view_module_version": "1.2.0",
            "_view_name": "LayoutView",
            "align_content": null,
            "align_items": null,
            "align_self": null,
            "border": null,
            "bottom": null,
            "display": null,
            "flex": null,
            "flex_flow": null,
            "grid_area": null,
            "grid_auto_columns": null,
            "grid_auto_flow": null,
            "grid_auto_rows": null,
            "grid_column": null,
            "grid_gap": null,
            "grid_row": null,
            "grid_template_areas": null,
            "grid_template_columns": null,
            "grid_template_rows": null,
            "height": null,
            "justify_content": null,
            "justify_items": null,
            "left": null,
            "margin": null,
            "max_height": null,
            "max_width": null,
            "min_height": null,
            "min_width": null,
            "object_fit": null,
            "object_position": null,
            "order": null,
            "overflow": null,
            "overflow_x": null,
            "overflow_y": null,
            "padding": null,
            "right": null,
            "top": null,
            "visibility": null,
            "width": null
          }
        },
        "1cc0b5767e7a4f79b0c2b5fb131a1fe2": {
          "model_module": "@jupyter-widgets/base",
          "model_module_version": "1.2.0",
          "model_name": "LayoutModel",
          "state": {
            "_model_module": "@jupyter-widgets/base",
            "_model_module_version": "1.2.0",
            "_model_name": "LayoutModel",
            "_view_count": null,
            "_view_module": "@jupyter-widgets/base",
            "_view_module_version": "1.2.0",
            "_view_name": "LayoutView",
            "align_content": null,
            "align_items": null,
            "align_self": null,
            "border": null,
            "bottom": null,
            "display": null,
            "flex": null,
            "flex_flow": null,
            "grid_area": null,
            "grid_auto_columns": null,
            "grid_auto_flow": null,
            "grid_auto_rows": null,
            "grid_column": null,
            "grid_gap": null,
            "grid_row": null,
            "grid_template_areas": null,
            "grid_template_columns": null,
            "grid_template_rows": null,
            "height": null,
            "justify_content": null,
            "justify_items": null,
            "left": null,
            "margin": null,
            "max_height": null,
            "max_width": null,
            "min_height": null,
            "min_width": null,
            "object_fit": null,
            "object_position": null,
            "order": null,
            "overflow": null,
            "overflow_x": null,
            "overflow_y": null,
            "padding": null,
            "right": null,
            "top": null,
            "visibility": null,
            "width": "20px"
          }
        },
        "1f9281415672426187db4615ada9d9e0": {
          "model_module": "@jupyter-widgets/controls",
          "model_module_version": "1.5.0",
          "model_name": "DescriptionStyleModel",
          "state": {
            "_model_module": "@jupyter-widgets/controls",
            "_model_module_version": "1.5.0",
            "_model_name": "DescriptionStyleModel",
            "_view_count": null,
            "_view_module": "@jupyter-widgets/base",
            "_view_module_version": "1.2.0",
            "_view_name": "StyleView",
            "description_width": ""
          }
        },
        "1fc115bbcec2416c98dea7ea57c4afe9": {
          "model_module": "@jupyter-widgets/controls",
          "model_module_version": "1.5.0",
          "model_name": "HBoxModel",
          "state": {
            "_dom_classes": [],
            "_model_module": "@jupyter-widgets/controls",
            "_model_module_version": "1.5.0",
            "_model_name": "HBoxModel",
            "_view_count": null,
            "_view_module": "@jupyter-widgets/controls",
            "_view_module_version": "1.5.0",
            "_view_name": "HBoxView",
            "box_style": "",
            "children": [
              "IPY_MODEL_04b1d4331de6494293da279857ddf425",
              "IPY_MODEL_902f73ed1225450bafad1708de6496c5",
              "IPY_MODEL_5e5624fdf7fd4b3bba742cd6d40e43d7"
            ],
            "layout": "IPY_MODEL_da2d551d7d0b44f58d7c4a65c9b4f508"
          }
        },
        "26b35450bc494c49a86fd46c36b9ab9c": {
          "model_module": "@jupyter-widgets/base",
          "model_module_version": "1.2.0",
          "model_name": "LayoutModel",
          "state": {
            "_model_module": "@jupyter-widgets/base",
            "_model_module_version": "1.2.0",
            "_model_name": "LayoutModel",
            "_view_count": null,
            "_view_module": "@jupyter-widgets/base",
            "_view_module_version": "1.2.0",
            "_view_name": "LayoutView",
            "align_content": null,
            "align_items": null,
            "align_self": null,
            "border": null,
            "bottom": null,
            "display": null,
            "flex": null,
            "flex_flow": null,
            "grid_area": null,
            "grid_auto_columns": null,
            "grid_auto_flow": null,
            "grid_auto_rows": null,
            "grid_column": null,
            "grid_gap": null,
            "grid_row": null,
            "grid_template_areas": null,
            "grid_template_columns": null,
            "grid_template_rows": null,
            "height": null,
            "justify_content": null,
            "justify_items": null,
            "left": null,
            "margin": null,
            "max_height": null,
            "max_width": null,
            "min_height": null,
            "min_width": null,
            "object_fit": null,
            "object_position": null,
            "order": null,
            "overflow": null,
            "overflow_x": null,
            "overflow_y": null,
            "padding": null,
            "right": null,
            "top": null,
            "visibility": null,
            "width": null
          }
        },
        "2789a323dc7c4b33916a1a8d781d3a01": {
          "model_module": "@jupyter-widgets/controls",
          "model_module_version": "1.5.0",
          "model_name": "HTMLModel",
          "state": {
            "_dom_classes": [],
            "_model_module": "@jupyter-widgets/controls",
            "_model_module_version": "1.5.0",
            "_model_name": "HTMLModel",
            "_view_count": null,
            "_view_module": "@jupyter-widgets/controls",
            "_view_module_version": "1.5.0",
            "_view_name": "HTMLView",
            "description": "",
            "description_tooltip": null,
            "layout": "IPY_MODEL_a674433ac6cd462886eff4b313727a23",
            "placeholder": "​",
            "style": "IPY_MODEL_fdf21c2c812d489daf926d7415fb3563",
            "value": "Generating validation split: "
          }
        },
        "28b2231c10af48ed960a2ed31fa58432": {
          "model_module": "@jupyter-widgets/base",
          "model_module_version": "1.2.0",
          "model_name": "LayoutModel",
          "state": {
            "_model_module": "@jupyter-widgets/base",
            "_model_module_version": "1.2.0",
            "_model_name": "LayoutModel",
            "_view_count": null,
            "_view_module": "@jupyter-widgets/base",
            "_view_module_version": "1.2.0",
            "_view_name": "LayoutView",
            "align_content": null,
            "align_items": null,
            "align_self": null,
            "border": null,
            "bottom": null,
            "display": null,
            "flex": null,
            "flex_flow": null,
            "grid_area": null,
            "grid_auto_columns": null,
            "grid_auto_flow": null,
            "grid_auto_rows": null,
            "grid_column": null,
            "grid_gap": null,
            "grid_row": null,
            "grid_template_areas": null,
            "grid_template_columns": null,
            "grid_template_rows": null,
            "height": null,
            "justify_content": null,
            "justify_items": null,
            "left": null,
            "margin": null,
            "max_height": null,
            "max_width": null,
            "min_height": null,
            "min_width": null,
            "object_fit": null,
            "object_position": null,
            "order": null,
            "overflow": null,
            "overflow_x": null,
            "overflow_y": null,
            "padding": null,
            "right": null,
            "top": null,
            "visibility": null,
            "width": null
          }
        },
        "2b260756d03646fc96057ce7c8567d52": {
          "model_module": "@jupyter-widgets/controls",
          "model_module_version": "1.5.0",
          "model_name": "HBoxModel",
          "state": {
            "_dom_classes": [],
            "_model_module": "@jupyter-widgets/controls",
            "_model_module_version": "1.5.0",
            "_model_name": "HBoxModel",
            "_view_count": null,
            "_view_module": "@jupyter-widgets/controls",
            "_view_module_version": "1.5.0",
            "_view_name": "HBoxView",
            "box_style": "",
            "children": [
              "IPY_MODEL_12b6928e80f9428880c965b6a75a0077",
              "IPY_MODEL_f4738b13a11643a5bde854384d2b762f",
              "IPY_MODEL_c448027889a14b73928e243fd442772f"
            ],
            "layout": "IPY_MODEL_416fc939230d41b784d5de9d9b0c7430"
          }
        },
        "2d4c85c6f2904d72b683e690d1c9361b": {
          "model_module": "@jupyter-widgets/base",
          "model_module_version": "1.2.0",
          "model_name": "LayoutModel",
          "state": {
            "_model_module": "@jupyter-widgets/base",
            "_model_module_version": "1.2.0",
            "_model_name": "LayoutModel",
            "_view_count": null,
            "_view_module": "@jupyter-widgets/base",
            "_view_module_version": "1.2.0",
            "_view_name": "LayoutView",
            "align_content": null,
            "align_items": null,
            "align_self": null,
            "border": null,
            "bottom": null,
            "display": null,
            "flex": null,
            "flex_flow": null,
            "grid_area": null,
            "grid_auto_columns": null,
            "grid_auto_flow": null,
            "grid_auto_rows": null,
            "grid_column": null,
            "grid_gap": null,
            "grid_row": null,
            "grid_template_areas": null,
            "grid_template_columns": null,
            "grid_template_rows": null,
            "height": null,
            "justify_content": null,
            "justify_items": null,
            "left": null,
            "margin": null,
            "max_height": null,
            "max_width": null,
            "min_height": null,
            "min_width": null,
            "object_fit": null,
            "object_position": null,
            "order": null,
            "overflow": null,
            "overflow_x": null,
            "overflow_y": null,
            "padding": null,
            "right": null,
            "top": null,
            "visibility": null,
            "width": null
          }
        },
        "35622f0ed82a4a2aac670014e166ebd7": {
          "model_module": "@jupyter-widgets/base",
          "model_module_version": "1.2.0",
          "model_name": "LayoutModel",
          "state": {
            "_model_module": "@jupyter-widgets/base",
            "_model_module_version": "1.2.0",
            "_model_name": "LayoutModel",
            "_view_count": null,
            "_view_module": "@jupyter-widgets/base",
            "_view_module_version": "1.2.0",
            "_view_name": "LayoutView",
            "align_content": null,
            "align_items": null,
            "align_self": null,
            "border": null,
            "bottom": null,
            "display": null,
            "flex": null,
            "flex_flow": null,
            "grid_area": null,
            "grid_auto_columns": null,
            "grid_auto_flow": null,
            "grid_auto_rows": null,
            "grid_column": null,
            "grid_gap": null,
            "grid_row": null,
            "grid_template_areas": null,
            "grid_template_columns": null,
            "grid_template_rows": null,
            "height": null,
            "justify_content": null,
            "justify_items": null,
            "left": null,
            "margin": null,
            "max_height": null,
            "max_width": null,
            "min_height": null,
            "min_width": null,
            "object_fit": null,
            "object_position": null,
            "order": null,
            "overflow": null,
            "overflow_x": null,
            "overflow_y": null,
            "padding": null,
            "right": null,
            "top": null,
            "visibility": "hidden",
            "width": null
          }
        },
        "35d9f78dbd5c4a9186e19e7d5a1bbf0b": {
          "model_module": "@jupyter-widgets/controls",
          "model_module_version": "1.5.0",
          "model_name": "ProgressStyleModel",
          "state": {
            "_model_module": "@jupyter-widgets/controls",
            "_model_module_version": "1.5.0",
            "_model_name": "ProgressStyleModel",
            "_view_count": null,
            "_view_module": "@jupyter-widgets/base",
            "_view_module_version": "1.2.0",
            "_view_name": "StyleView",
            "bar_color": null,
            "description_width": ""
          }
        },
        "37a9c79d4f9e43cdaa10cadf1da3b53b": {
          "model_module": "@jupyter-widgets/base",
          "model_module_version": "1.2.0",
          "model_name": "LayoutModel",
          "state": {
            "_model_module": "@jupyter-widgets/base",
            "_model_module_version": "1.2.0",
            "_model_name": "LayoutModel",
            "_view_count": null,
            "_view_module": "@jupyter-widgets/base",
            "_view_module_version": "1.2.0",
            "_view_name": "LayoutView",
            "align_content": null,
            "align_items": null,
            "align_self": null,
            "border": null,
            "bottom": null,
            "display": null,
            "flex": null,
            "flex_flow": null,
            "grid_area": null,
            "grid_auto_columns": null,
            "grid_auto_flow": null,
            "grid_auto_rows": null,
            "grid_column": null,
            "grid_gap": null,
            "grid_row": null,
            "grid_template_areas": null,
            "grid_template_columns": null,
            "grid_template_rows": null,
            "height": null,
            "justify_content": null,
            "justify_items": null,
            "left": null,
            "margin": null,
            "max_height": null,
            "max_width": null,
            "min_height": null,
            "min_width": null,
            "object_fit": null,
            "object_position": null,
            "order": null,
            "overflow": null,
            "overflow_x": null,
            "overflow_y": null,
            "padding": null,
            "right": null,
            "top": null,
            "visibility": null,
            "width": null
          }
        },
        "37da46cc1dba4cadbc32718d85589fb7": {
          "model_module": "@jupyter-widgets/base",
          "model_module_version": "1.2.0",
          "model_name": "LayoutModel",
          "state": {
            "_model_module": "@jupyter-widgets/base",
            "_model_module_version": "1.2.0",
            "_model_name": "LayoutModel",
            "_view_count": null,
            "_view_module": "@jupyter-widgets/base",
            "_view_module_version": "1.2.0",
            "_view_name": "LayoutView",
            "align_content": null,
            "align_items": null,
            "align_self": null,
            "border": null,
            "bottom": null,
            "display": null,
            "flex": null,
            "flex_flow": null,
            "grid_area": null,
            "grid_auto_columns": null,
            "grid_auto_flow": null,
            "grid_auto_rows": null,
            "grid_column": null,
            "grid_gap": null,
            "grid_row": null,
            "grid_template_areas": null,
            "grid_template_columns": null,
            "grid_template_rows": null,
            "height": null,
            "justify_content": null,
            "justify_items": null,
            "left": null,
            "margin": null,
            "max_height": null,
            "max_width": null,
            "min_height": null,
            "min_width": null,
            "object_fit": null,
            "object_position": null,
            "order": null,
            "overflow": null,
            "overflow_x": null,
            "overflow_y": null,
            "padding": null,
            "right": null,
            "top": null,
            "visibility": null,
            "width": null
          }
        },
        "39e4d01034b94bd6ada1ee6f041934e8": {
          "model_module": "@jupyter-widgets/base",
          "model_module_version": "1.2.0",
          "model_name": "LayoutModel",
          "state": {
            "_model_module": "@jupyter-widgets/base",
            "_model_module_version": "1.2.0",
            "_model_name": "LayoutModel",
            "_view_count": null,
            "_view_module": "@jupyter-widgets/base",
            "_view_module_version": "1.2.0",
            "_view_name": "LayoutView",
            "align_content": null,
            "align_items": null,
            "align_self": null,
            "border": null,
            "bottom": null,
            "display": null,
            "flex": null,
            "flex_flow": null,
            "grid_area": null,
            "grid_auto_columns": null,
            "grid_auto_flow": null,
            "grid_auto_rows": null,
            "grid_column": null,
            "grid_gap": null,
            "grid_row": null,
            "grid_template_areas": null,
            "grid_template_columns": null,
            "grid_template_rows": null,
            "height": null,
            "justify_content": null,
            "justify_items": null,
            "left": null,
            "margin": null,
            "max_height": null,
            "max_width": null,
            "min_height": null,
            "min_width": null,
            "object_fit": null,
            "object_position": null,
            "order": null,
            "overflow": null,
            "overflow_x": null,
            "overflow_y": null,
            "padding": null,
            "right": null,
            "top": null,
            "visibility": null,
            "width": null
          }
        },
        "3bf2d708e6354f3487c299fbe6b0d86c": {
          "model_module": "@jupyter-widgets/controls",
          "model_module_version": "1.5.0",
          "model_name": "DescriptionStyleModel",
          "state": {
            "_model_module": "@jupyter-widgets/controls",
            "_model_module_version": "1.5.0",
            "_model_name": "DescriptionStyleModel",
            "_view_count": null,
            "_view_module": "@jupyter-widgets/base",
            "_view_module_version": "1.2.0",
            "_view_name": "StyleView",
            "description_width": ""
          }
        },
        "402dd67e5a6c40a3b5e9086603ee3792": {
          "model_module": "@jupyter-widgets/controls",
          "model_module_version": "1.5.0",
          "model_name": "DescriptionStyleModel",
          "state": {
            "_model_module": "@jupyter-widgets/controls",
            "_model_module_version": "1.5.0",
            "_model_name": "DescriptionStyleModel",
            "_view_count": null,
            "_view_module": "@jupyter-widgets/base",
            "_view_module_version": "1.2.0",
            "_view_name": "StyleView",
            "description_width": ""
          }
        },
        "410b0aff282044cb8e291afe80ce54da": {
          "model_module": "@jupyter-widgets/controls",
          "model_module_version": "1.5.0",
          "model_name": "ProgressStyleModel",
          "state": {
            "_model_module": "@jupyter-widgets/controls",
            "_model_module_version": "1.5.0",
            "_model_name": "ProgressStyleModel",
            "_view_count": null,
            "_view_module": "@jupyter-widgets/base",
            "_view_module_version": "1.2.0",
            "_view_name": "StyleView",
            "bar_color": null,
            "description_width": ""
          }
        },
        "416fc939230d41b784d5de9d9b0c7430": {
          "model_module": "@jupyter-widgets/base",
          "model_module_version": "1.2.0",
          "model_name": "LayoutModel",
          "state": {
            "_model_module": "@jupyter-widgets/base",
            "_model_module_version": "1.2.0",
            "_model_name": "LayoutModel",
            "_view_count": null,
            "_view_module": "@jupyter-widgets/base",
            "_view_module_version": "1.2.0",
            "_view_name": "LayoutView",
            "align_content": null,
            "align_items": null,
            "align_self": null,
            "border": null,
            "bottom": null,
            "display": null,
            "flex": null,
            "flex_flow": null,
            "grid_area": null,
            "grid_auto_columns": null,
            "grid_auto_flow": null,
            "grid_auto_rows": null,
            "grid_column": null,
            "grid_gap": null,
            "grid_row": null,
            "grid_template_areas": null,
            "grid_template_columns": null,
            "grid_template_rows": null,
            "height": null,
            "justify_content": null,
            "justify_items": null,
            "left": null,
            "margin": null,
            "max_height": null,
            "max_width": null,
            "min_height": null,
            "min_width": null,
            "object_fit": null,
            "object_position": null,
            "order": null,
            "overflow": null,
            "overflow_x": null,
            "overflow_y": null,
            "padding": null,
            "right": null,
            "top": null,
            "visibility": "hidden",
            "width": null
          }
        },
        "4335b452a646465da0425a8a1013a18e": {
          "model_module": "@jupyter-widgets/base",
          "model_module_version": "1.2.0",
          "model_name": "LayoutModel",
          "state": {
            "_model_module": "@jupyter-widgets/base",
            "_model_module_version": "1.2.0",
            "_model_name": "LayoutModel",
            "_view_count": null,
            "_view_module": "@jupyter-widgets/base",
            "_view_module_version": "1.2.0",
            "_view_name": "LayoutView",
            "align_content": null,
            "align_items": null,
            "align_self": null,
            "border": null,
            "bottom": null,
            "display": null,
            "flex": null,
            "flex_flow": null,
            "grid_area": null,
            "grid_auto_columns": null,
            "grid_auto_flow": null,
            "grid_auto_rows": null,
            "grid_column": null,
            "grid_gap": null,
            "grid_row": null,
            "grid_template_areas": null,
            "grid_template_columns": null,
            "grid_template_rows": null,
            "height": null,
            "justify_content": null,
            "justify_items": null,
            "left": null,
            "margin": null,
            "max_height": null,
            "max_width": null,
            "min_height": null,
            "min_width": null,
            "object_fit": null,
            "object_position": null,
            "order": null,
            "overflow": null,
            "overflow_x": null,
            "overflow_y": null,
            "padding": null,
            "right": null,
            "top": null,
            "visibility": null,
            "width": null
          }
        },
        "469372dce758440090a59766eaca2333": {
          "model_module": "@jupyter-widgets/controls",
          "model_module_version": "1.5.0",
          "model_name": "HTMLModel",
          "state": {
            "_dom_classes": [],
            "_model_module": "@jupyter-widgets/controls",
            "_model_module_version": "1.5.0",
            "_model_name": "HTMLModel",
            "_view_count": null,
            "_view_module": "@jupyter-widgets/controls",
            "_view_module_version": "1.5.0",
            "_view_name": "HTMLView",
            "description": "",
            "description_tooltip": null,
            "layout": "IPY_MODEL_2d4c85c6f2904d72b683e690d1c9361b",
            "placeholder": "​",
            "style": "IPY_MODEL_8d23d0470afd46e18e42d66aa36bc38f",
            "value": " 502/502 [00:00&lt;00:00, 19.3kB/s]"
          }
        },
        "4816fd94c7724342bb22d3416038626a": {
          "model_module": "@jupyter-widgets/controls",
          "model_module_version": "1.5.0",
          "model_name": "HTMLModel",
          "state": {
            "_dom_classes": [],
            "_model_module": "@jupyter-widgets/controls",
            "_model_module_version": "1.5.0",
            "_model_name": "HTMLModel",
            "_view_count": null,
            "_view_module": "@jupyter-widgets/controls",
            "_view_module_version": "1.5.0",
            "_view_name": "HTMLView",
            "description": "",
            "description_tooltip": null,
            "layout": "IPY_MODEL_4335b452a646465da0425a8a1013a18e",
            "placeholder": "​",
            "style": "IPY_MODEL_5e66e730afde4996bbde446074c68831",
            "value": " 3/3 [00:00&lt;00:00, 111.23it/s]"
          }
        },
        "49af2bde0ffe464a90cb72dd50096172": {
          "model_module": "@jupyter-widgets/controls",
          "model_module_version": "1.5.0",
          "model_name": "DescriptionStyleModel",
          "state": {
            "_model_module": "@jupyter-widgets/controls",
            "_model_module_version": "1.5.0",
            "_model_name": "DescriptionStyleModel",
            "_view_count": null,
            "_view_module": "@jupyter-widgets/base",
            "_view_module_version": "1.2.0",
            "_view_name": "StyleView",
            "description_width": ""
          }
        },
        "4de910cd2d55454d964efd569fefc9b4": {
          "model_module": "@jupyter-widgets/controls",
          "model_module_version": "1.5.0",
          "model_name": "ProgressStyleModel",
          "state": {
            "_model_module": "@jupyter-widgets/controls",
            "_model_module_version": "1.5.0",
            "_model_name": "ProgressStyleModel",
            "_view_count": null,
            "_view_module": "@jupyter-widgets/base",
            "_view_module_version": "1.2.0",
            "_view_name": "StyleView",
            "bar_color": null,
            "description_width": ""
          }
        },
        "4f75cd78c83e48e6900315881fc3c0d2": {
          "model_module": "@jupyter-widgets/base",
          "model_module_version": "1.2.0",
          "model_name": "LayoutModel",
          "state": {
            "_model_module": "@jupyter-widgets/base",
            "_model_module_version": "1.2.0",
            "_model_name": "LayoutModel",
            "_view_count": null,
            "_view_module": "@jupyter-widgets/base",
            "_view_module_version": "1.2.0",
            "_view_name": "LayoutView",
            "align_content": null,
            "align_items": null,
            "align_self": null,
            "border": null,
            "bottom": null,
            "display": null,
            "flex": null,
            "flex_flow": null,
            "grid_area": null,
            "grid_auto_columns": null,
            "grid_auto_flow": null,
            "grid_auto_rows": null,
            "grid_column": null,
            "grid_gap": null,
            "grid_row": null,
            "grid_template_areas": null,
            "grid_template_columns": null,
            "grid_template_rows": null,
            "height": null,
            "justify_content": null,
            "justify_items": null,
            "left": null,
            "margin": null,
            "max_height": null,
            "max_width": null,
            "min_height": null,
            "min_width": null,
            "object_fit": null,
            "object_position": null,
            "order": null,
            "overflow": null,
            "overflow_x": null,
            "overflow_y": null,
            "padding": null,
            "right": null,
            "top": null,
            "visibility": null,
            "width": null
          }
        },
        "50c7ca8214154392bc50dc5d43a93825": {
          "model_module": "@jupyter-widgets/controls",
          "model_module_version": "1.5.0",
          "model_name": "HTMLModel",
          "state": {
            "_dom_classes": [],
            "_model_module": "@jupyter-widgets/controls",
            "_model_module_version": "1.5.0",
            "_model_name": "HTMLModel",
            "_view_count": null,
            "_view_module": "@jupyter-widgets/controls",
            "_view_module_version": "1.5.0",
            "_view_name": "HTMLView",
            "description": "",
            "description_tooltip": null,
            "layout": "IPY_MODEL_37a9c79d4f9e43cdaa10cadf1da3b53b",
            "placeholder": "​",
            "style": "IPY_MODEL_402dd67e5a6c40a3b5e9086603ee3792",
            "value": "Downloading data: 100%"
          }
        },
        "518e2d57e3cc42c7992c58f790540f53": {
          "model_module": "@jupyter-widgets/base",
          "model_module_version": "1.2.0",
          "model_name": "LayoutModel",
          "state": {
            "_model_module": "@jupyter-widgets/base",
            "_model_module_version": "1.2.0",
            "_model_name": "LayoutModel",
            "_view_count": null,
            "_view_module": "@jupyter-widgets/base",
            "_view_module_version": "1.2.0",
            "_view_name": "LayoutView",
            "align_content": null,
            "align_items": null,
            "align_self": null,
            "border": null,
            "bottom": null,
            "display": null,
            "flex": null,
            "flex_flow": null,
            "grid_area": null,
            "grid_auto_columns": null,
            "grid_auto_flow": null,
            "grid_auto_rows": null,
            "grid_column": null,
            "grid_gap": null,
            "grid_row": null,
            "grid_template_areas": null,
            "grid_template_columns": null,
            "grid_template_rows": null,
            "height": null,
            "justify_content": null,
            "justify_items": null,
            "left": null,
            "margin": null,
            "max_height": null,
            "max_width": null,
            "min_height": null,
            "min_width": null,
            "object_fit": null,
            "object_position": null,
            "order": null,
            "overflow": null,
            "overflow_x": null,
            "overflow_y": null,
            "padding": null,
            "right": null,
            "top": null,
            "visibility": "hidden",
            "width": null
          }
        },
        "52ed4350b22e419397772cec7fab0d50": {
          "model_module": "@jupyter-widgets/base",
          "model_module_version": "1.2.0",
          "model_name": "LayoutModel",
          "state": {
            "_model_module": "@jupyter-widgets/base",
            "_model_module_version": "1.2.0",
            "_model_name": "LayoutModel",
            "_view_count": null,
            "_view_module": "@jupyter-widgets/base",
            "_view_module_version": "1.2.0",
            "_view_name": "LayoutView",
            "align_content": null,
            "align_items": null,
            "align_self": null,
            "border": null,
            "bottom": null,
            "display": null,
            "flex": null,
            "flex_flow": null,
            "grid_area": null,
            "grid_auto_columns": null,
            "grid_auto_flow": null,
            "grid_auto_rows": null,
            "grid_column": null,
            "grid_gap": null,
            "grid_row": null,
            "grid_template_areas": null,
            "grid_template_columns": null,
            "grid_template_rows": null,
            "height": null,
            "justify_content": null,
            "justify_items": null,
            "left": null,
            "margin": null,
            "max_height": null,
            "max_width": null,
            "min_height": null,
            "min_width": null,
            "object_fit": null,
            "object_position": null,
            "order": null,
            "overflow": null,
            "overflow_x": null,
            "overflow_y": null,
            "padding": null,
            "right": null,
            "top": null,
            "visibility": null,
            "width": null
          }
        },
        "5377803e43224421b8c8935fa9121413": {
          "model_module": "@jupyter-widgets/base",
          "model_module_version": "1.2.0",
          "model_name": "LayoutModel",
          "state": {
            "_model_module": "@jupyter-widgets/base",
            "_model_module_version": "1.2.0",
            "_model_name": "LayoutModel",
            "_view_count": null,
            "_view_module": "@jupyter-widgets/base",
            "_view_module_version": "1.2.0",
            "_view_name": "LayoutView",
            "align_content": null,
            "align_items": null,
            "align_self": null,
            "border": null,
            "bottom": null,
            "display": null,
            "flex": null,
            "flex_flow": null,
            "grid_area": null,
            "grid_auto_columns": null,
            "grid_auto_flow": null,
            "grid_auto_rows": null,
            "grid_column": null,
            "grid_gap": null,
            "grid_row": null,
            "grid_template_areas": null,
            "grid_template_columns": null,
            "grid_template_rows": null,
            "height": null,
            "justify_content": null,
            "justify_items": null,
            "left": null,
            "margin": null,
            "max_height": null,
            "max_width": null,
            "min_height": null,
            "min_width": null,
            "object_fit": null,
            "object_position": null,
            "order": null,
            "overflow": null,
            "overflow_x": null,
            "overflow_y": null,
            "padding": null,
            "right": null,
            "top": null,
            "visibility": null,
            "width": null
          }
        },
        "538bdfe5f5654c26945ba1cd003f99cc": {
          "model_module": "@jupyter-widgets/controls",
          "model_module_version": "1.5.0",
          "model_name": "DescriptionStyleModel",
          "state": {
            "_model_module": "@jupyter-widgets/controls",
            "_model_module_version": "1.5.0",
            "_model_name": "DescriptionStyleModel",
            "_view_count": null,
            "_view_module": "@jupyter-widgets/base",
            "_view_module_version": "1.2.0",
            "_view_name": "StyleView",
            "description_width": ""
          }
        },
        "5942c8f3a8ee4082998d0020ca277ed5": {
          "model_module": "@jupyter-widgets/controls",
          "model_module_version": "1.5.0",
          "model_name": "DescriptionStyleModel",
          "state": {
            "_model_module": "@jupyter-widgets/controls",
            "_model_module_version": "1.5.0",
            "_model_name": "DescriptionStyleModel",
            "_view_count": null,
            "_view_module": "@jupyter-widgets/base",
            "_view_module_version": "1.2.0",
            "_view_name": "StyleView",
            "description_width": ""
          }
        },
        "5af92c0b54b44ce9ac92a1d59bb83c23": {
          "model_module": "@jupyter-widgets/controls",
          "model_module_version": "1.5.0",
          "model_name": "DescriptionStyleModel",
          "state": {
            "_model_module": "@jupyter-widgets/controls",
            "_model_module_version": "1.5.0",
            "_model_name": "DescriptionStyleModel",
            "_view_count": null,
            "_view_module": "@jupyter-widgets/base",
            "_view_module_version": "1.2.0",
            "_view_name": "StyleView",
            "description_width": ""
          }
        },
        "5d8d48cce6224feba3b827ec8ef39c04": {
          "model_module": "@jupyter-widgets/controls",
          "model_module_version": "1.5.0",
          "model_name": "FloatProgressModel",
          "state": {
            "_dom_classes": [],
            "_model_module": "@jupyter-widgets/controls",
            "_model_module_version": "1.5.0",
            "_model_name": "FloatProgressModel",
            "_view_count": null,
            "_view_module": "@jupyter-widgets/controls",
            "_view_module_version": "1.5.0",
            "_view_name": "ProgressView",
            "bar_style": "success",
            "description": "",
            "description_tooltip": null,
            "layout": "IPY_MODEL_68acde3714b742d3ac489e0006e2b7df",
            "max": 1693,
            "min": 0,
            "orientation": "horizontal",
            "style": "IPY_MODEL_7fa8cef90216461b90ad021173e5136d",
            "value": 1693
          }
        },
        "5e5624fdf7fd4b3bba742cd6d40e43d7": {
          "model_module": "@jupyter-widgets/controls",
          "model_module_version": "1.5.0",
          "model_name": "HTMLModel",
          "state": {
            "_dom_classes": [],
            "_model_module": "@jupyter-widgets/controls",
            "_model_module_version": "1.5.0",
            "_model_name": "HTMLModel",
            "_view_count": null,
            "_view_module": "@jupyter-widgets/controls",
            "_view_module_version": "1.5.0",
            "_view_name": "HTMLView",
            "description": "",
            "description_tooltip": null,
            "layout": "IPY_MODEL_03d1996bb4694d008a666cb39d265503",
            "placeholder": "​",
            "style": "IPY_MODEL_8c300a8d600042ae871dabbb3fd8a75a",
            "value": " 3.50k/3.50k [00:00&lt;00:00, 147kB/s]"
          }
        },
        "5e66e730afde4996bbde446074c68831": {
          "model_module": "@jupyter-widgets/controls",
          "model_module_version": "1.5.0",
          "model_name": "DescriptionStyleModel",
          "state": {
            "_model_module": "@jupyter-widgets/controls",
            "_model_module_version": "1.5.0",
            "_model_name": "DescriptionStyleModel",
            "_view_count": null,
            "_view_module": "@jupyter-widgets/base",
            "_view_module_version": "1.2.0",
            "_view_name": "StyleView",
            "description_width": ""
          }
        },
        "63a0d79dc9794915b6b14ed81a7a3bcf": {
          "model_module": "@jupyter-widgets/controls",
          "model_module_version": "1.5.0",
          "model_name": "HTMLModel",
          "state": {
            "_dom_classes": [],
            "_model_module": "@jupyter-widgets/controls",
            "_model_module_version": "1.5.0",
            "_model_name": "HTMLModel",
            "_view_count": null,
            "_view_module": "@jupyter-widgets/controls",
            "_view_module_version": "1.5.0",
            "_view_name": "HTMLView",
            "description": "",
            "description_tooltip": null,
            "layout": "IPY_MODEL_193befd758744b5d9fead771abc18971",
            "placeholder": "​",
            "style": "IPY_MODEL_538bdfe5f5654c26945ba1cd003f99cc",
            "value": "Generating train split: "
          }
        },
        "68acde3714b742d3ac489e0006e2b7df": {
          "model_module": "@jupyter-widgets/base",
          "model_module_version": "1.2.0",
          "model_name": "LayoutModel",
          "state": {
            "_model_module": "@jupyter-widgets/base",
            "_model_module_version": "1.2.0",
            "_model_name": "LayoutModel",
            "_view_count": null,
            "_view_module": "@jupyter-widgets/base",
            "_view_module_version": "1.2.0",
            "_view_name": "LayoutView",
            "align_content": null,
            "align_items": null,
            "align_self": null,
            "border": null,
            "bottom": null,
            "display": null,
            "flex": null,
            "flex_flow": null,
            "grid_area": null,
            "grid_auto_columns": null,
            "grid_auto_flow": null,
            "grid_auto_rows": null,
            "grid_column": null,
            "grid_gap": null,
            "grid_row": null,
            "grid_template_areas": null,
            "grid_template_columns": null,
            "grid_template_rows": null,
            "height": null,
            "justify_content": null,
            "justify_items": null,
            "left": null,
            "margin": null,
            "max_height": null,
            "max_width": null,
            "min_height": null,
            "min_width": null,
            "object_fit": null,
            "object_position": null,
            "order": null,
            "overflow": null,
            "overflow_x": null,
            "overflow_y": null,
            "padding": null,
            "right": null,
            "top": null,
            "visibility": null,
            "width": null
          }
        },
        "69a0f737527e42c7910e86fcac7913e2": {
          "model_module": "@jupyter-widgets/base",
          "model_module_version": "1.2.0",
          "model_name": "LayoutModel",
          "state": {
            "_model_module": "@jupyter-widgets/base",
            "_model_module_version": "1.2.0",
            "_model_name": "LayoutModel",
            "_view_count": null,
            "_view_module": "@jupyter-widgets/base",
            "_view_module_version": "1.2.0",
            "_view_name": "LayoutView",
            "align_content": null,
            "align_items": null,
            "align_self": null,
            "border": null,
            "bottom": null,
            "display": null,
            "flex": null,
            "flex_flow": null,
            "grid_area": null,
            "grid_auto_columns": null,
            "grid_auto_flow": null,
            "grid_auto_rows": null,
            "grid_column": null,
            "grid_gap": null,
            "grid_row": null,
            "grid_template_areas": null,
            "grid_template_columns": null,
            "grid_template_rows": null,
            "height": null,
            "justify_content": null,
            "justify_items": null,
            "left": null,
            "margin": null,
            "max_height": null,
            "max_width": null,
            "min_height": null,
            "min_width": null,
            "object_fit": null,
            "object_position": null,
            "order": null,
            "overflow": null,
            "overflow_x": null,
            "overflow_y": null,
            "padding": null,
            "right": null,
            "top": null,
            "visibility": null,
            "width": null
          }
        },
        "6b370e279f3045dbbc3abb2b4d2f043d": {
          "model_module": "@jupyter-widgets/base",
          "model_module_version": "1.2.0",
          "model_name": "LayoutModel",
          "state": {
            "_model_module": "@jupyter-widgets/base",
            "_model_module_version": "1.2.0",
            "_model_name": "LayoutModel",
            "_view_count": null,
            "_view_module": "@jupyter-widgets/base",
            "_view_module_version": "1.2.0",
            "_view_name": "LayoutView",
            "align_content": null,
            "align_items": null,
            "align_self": null,
            "border": null,
            "bottom": null,
            "display": null,
            "flex": null,
            "flex_flow": null,
            "grid_area": null,
            "grid_auto_columns": null,
            "grid_auto_flow": null,
            "grid_auto_rows": null,
            "grid_column": null,
            "grid_gap": null,
            "grid_row": null,
            "grid_template_areas": null,
            "grid_template_columns": null,
            "grid_template_rows": null,
            "height": null,
            "justify_content": null,
            "justify_items": null,
            "left": null,
            "margin": null,
            "max_height": null,
            "max_width": null,
            "min_height": null,
            "min_width": null,
            "object_fit": null,
            "object_position": null,
            "order": null,
            "overflow": null,
            "overflow_x": null,
            "overflow_y": null,
            "padding": null,
            "right": null,
            "top": null,
            "visibility": null,
            "width": null
          }
        },
        "6bd3c0ae89ab433ab13e1e8dd91d96bf": {
          "model_module": "@jupyter-widgets/controls",
          "model_module_version": "1.5.0",
          "model_name": "FloatProgressModel",
          "state": {
            "_dom_classes": [],
            "_model_module": "@jupyter-widgets/controls",
            "_model_module_version": "1.5.0",
            "_model_name": "FloatProgressModel",
            "_view_count": null,
            "_view_module": "@jupyter-widgets/controls",
            "_view_module_version": "1.5.0",
            "_view_name": "ProgressView",
            "bar_style": "info",
            "description": "",
            "description_tooltip": null,
            "layout": "IPY_MODEL_1cc0b5767e7a4f79b0c2b5fb131a1fe2",
            "max": 1,
            "min": 0,
            "orientation": "horizontal",
            "style": "IPY_MODEL_35d9f78dbd5c4a9186e19e7d5a1bbf0b",
            "value": 1
          }
        },
        "6be7cb27614b45a1bbecd2728c161b81": {
          "model_module": "@jupyter-widgets/controls",
          "model_module_version": "1.5.0",
          "model_name": "DescriptionStyleModel",
          "state": {
            "_model_module": "@jupyter-widgets/controls",
            "_model_module_version": "1.5.0",
            "_model_name": "DescriptionStyleModel",
            "_view_count": null,
            "_view_module": "@jupyter-widgets/base",
            "_view_module_version": "1.2.0",
            "_view_name": "StyleView",
            "description_width": ""
          }
        },
        "6cad9749cc0041d783928e7440ce0fb9": {
          "model_module": "@jupyter-widgets/controls",
          "model_module_version": "1.5.0",
          "model_name": "ProgressStyleModel",
          "state": {
            "_model_module": "@jupyter-widgets/controls",
            "_model_module_version": "1.5.0",
            "_model_name": "ProgressStyleModel",
            "_view_count": null,
            "_view_module": "@jupyter-widgets/base",
            "_view_module_version": "1.2.0",
            "_view_name": "StyleView",
            "bar_color": null,
            "description_width": ""
          }
        },
        "7235eb91b41a45878691c9070c22f586": {
          "model_module": "@jupyter-widgets/base",
          "model_module_version": "1.2.0",
          "model_name": "LayoutModel",
          "state": {
            "_model_module": "@jupyter-widgets/base",
            "_model_module_version": "1.2.0",
            "_model_name": "LayoutModel",
            "_view_count": null,
            "_view_module": "@jupyter-widgets/base",
            "_view_module_version": "1.2.0",
            "_view_name": "LayoutView",
            "align_content": null,
            "align_items": null,
            "align_self": null,
            "border": null,
            "bottom": null,
            "display": null,
            "flex": null,
            "flex_flow": null,
            "grid_area": null,
            "grid_auto_columns": null,
            "grid_auto_flow": null,
            "grid_auto_rows": null,
            "grid_column": null,
            "grid_gap": null,
            "grid_row": null,
            "grid_template_areas": null,
            "grid_template_columns": null,
            "grid_template_rows": null,
            "height": null,
            "justify_content": null,
            "justify_items": null,
            "left": null,
            "margin": null,
            "max_height": null,
            "max_width": null,
            "min_height": null,
            "min_width": null,
            "object_fit": null,
            "object_position": null,
            "order": null,
            "overflow": null,
            "overflow_x": null,
            "overflow_y": null,
            "padding": null,
            "right": null,
            "top": null,
            "visibility": null,
            "width": null
          }
        },
        "7fa8cef90216461b90ad021173e5136d": {
          "model_module": "@jupyter-widgets/controls",
          "model_module_version": "1.5.0",
          "model_name": "ProgressStyleModel",
          "state": {
            "_model_module": "@jupyter-widgets/controls",
            "_model_module_version": "1.5.0",
            "_model_name": "ProgressStyleModel",
            "_view_count": null,
            "_view_module": "@jupyter-widgets/base",
            "_view_module_version": "1.2.0",
            "_view_name": "StyleView",
            "bar_color": null,
            "description_width": ""
          }
        },
        "801fc1ff55884d2ea43b8bbe6d01325f": {
          "model_module": "@jupyter-widgets/controls",
          "model_module_version": "1.5.0",
          "model_name": "HTMLModel",
          "state": {
            "_dom_classes": [],
            "_model_module": "@jupyter-widgets/controls",
            "_model_module_version": "1.5.0",
            "_model_name": "HTMLModel",
            "_view_count": null,
            "_view_module": "@jupyter-widgets/controls",
            "_view_module_version": "1.5.0",
            "_view_name": "HTMLView",
            "description": "",
            "description_tooltip": null,
            "layout": "IPY_MODEL_f0d89f39bdbc4af78d8696ee17f8f91e",
            "placeholder": "​",
            "style": "IPY_MODEL_e377186058564f3d9e7f22f546ff27c4",
            "value": " 955/0 [00:15&lt;00:00, 7386.49 examples/s]"
          }
        },
        "806585e5e8db466f9063e5b6081ae3d8": {
          "model_module": "@jupyter-widgets/controls",
          "model_module_version": "1.5.0",
          "model_name": "HTMLModel",
          "state": {
            "_dom_classes": [],
            "_model_module": "@jupyter-widgets/controls",
            "_model_module_version": "1.5.0",
            "_model_name": "HTMLModel",
            "_view_count": null,
            "_view_module": "@jupyter-widgets/controls",
            "_view_module_version": "1.5.0",
            "_view_name": "HTMLView",
            "description": "",
            "description_tooltip": null,
            "layout": "IPY_MODEL_fbe1126194c34764b21fe98ae8b66a32",
            "placeholder": "​",
            "style": "IPY_MODEL_5942c8f3a8ee4082998d0020ca277ed5",
            "value": "Downloading (…)lve/main/config.json: 100%"
          }
        },
        "8158c3c8d4a54bd983d889e38d7dd421": {
          "model_module": "@jupyter-widgets/controls",
          "model_module_version": "1.5.0",
          "model_name": "DescriptionStyleModel",
          "state": {
            "_model_module": "@jupyter-widgets/controls",
            "_model_module_version": "1.5.0",
            "_model_name": "DescriptionStyleModel",
            "_view_count": null,
            "_view_module": "@jupyter-widgets/base",
            "_view_module_version": "1.2.0",
            "_view_name": "StyleView",
            "description_width": ""
          }
        },
        "885345f70ae04917b414a372ff80cc52": {
          "model_module": "@jupyter-widgets/base",
          "model_module_version": "1.2.0",
          "model_name": "LayoutModel",
          "state": {
            "_model_module": "@jupyter-widgets/base",
            "_model_module_version": "1.2.0",
            "_model_name": "LayoutModel",
            "_view_count": null,
            "_view_module": "@jupyter-widgets/base",
            "_view_module_version": "1.2.0",
            "_view_name": "LayoutView",
            "align_content": null,
            "align_items": null,
            "align_self": null,
            "border": null,
            "bottom": null,
            "display": null,
            "flex": null,
            "flex_flow": null,
            "grid_area": null,
            "grid_auto_columns": null,
            "grid_auto_flow": null,
            "grid_auto_rows": null,
            "grid_column": null,
            "grid_gap": null,
            "grid_row": null,
            "grid_template_areas": null,
            "grid_template_columns": null,
            "grid_template_rows": null,
            "height": null,
            "justify_content": null,
            "justify_items": null,
            "left": null,
            "margin": null,
            "max_height": null,
            "max_width": null,
            "min_height": null,
            "min_width": null,
            "object_fit": null,
            "object_position": null,
            "order": null,
            "overflow": null,
            "overflow_x": null,
            "overflow_y": null,
            "padding": null,
            "right": null,
            "top": null,
            "visibility": null,
            "width": null
          }
        },
        "8c300a8d600042ae871dabbb3fd8a75a": {
          "model_module": "@jupyter-widgets/controls",
          "model_module_version": "1.5.0",
          "model_name": "DescriptionStyleModel",
          "state": {
            "_model_module": "@jupyter-widgets/controls",
            "_model_module_version": "1.5.0",
            "_model_name": "DescriptionStyleModel",
            "_view_count": null,
            "_view_module": "@jupyter-widgets/base",
            "_view_module_version": "1.2.0",
            "_view_name": "StyleView",
            "description_width": ""
          }
        },
        "8d23d0470afd46e18e42d66aa36bc38f": {
          "model_module": "@jupyter-widgets/controls",
          "model_module_version": "1.5.0",
          "model_name": "DescriptionStyleModel",
          "state": {
            "_model_module": "@jupyter-widgets/controls",
            "_model_module_version": "1.5.0",
            "_model_name": "DescriptionStyleModel",
            "_view_count": null,
            "_view_module": "@jupyter-widgets/base",
            "_view_module_version": "1.2.0",
            "_view_name": "StyleView",
            "description_width": ""
          }
        },
        "902f73ed1225450bafad1708de6496c5": {
          "model_module": "@jupyter-widgets/controls",
          "model_module_version": "1.5.0",
          "model_name": "FloatProgressModel",
          "state": {
            "_dom_classes": [],
            "_model_module": "@jupyter-widgets/controls",
            "_model_module_version": "1.5.0",
            "_model_name": "FloatProgressModel",
            "_view_count": null,
            "_view_module": "@jupyter-widgets/controls",
            "_view_module_version": "1.5.0",
            "_view_name": "ProgressView",
            "bar_style": "success",
            "description": "",
            "description_tooltip": null,
            "layout": "IPY_MODEL_6b370e279f3045dbbc3abb2b4d2f043d",
            "max": 3498,
            "min": 0,
            "orientation": "horizontal",
            "style": "IPY_MODEL_f859905534e3465caedda141a02a45a9",
            "value": 3498
          }
        },
        "9282bba456494d7f9cd4e65b2ec6808c": {
          "model_module": "@jupyter-widgets/controls",
          "model_module_version": "1.5.0",
          "model_name": "HBoxModel",
          "state": {
            "_dom_classes": [],
            "_model_module": "@jupyter-widgets/controls",
            "_model_module_version": "1.5.0",
            "_model_name": "HBoxModel",
            "_view_count": null,
            "_view_module": "@jupyter-widgets/controls",
            "_view_module_version": "1.5.0",
            "_view_name": "HBoxView",
            "box_style": "",
            "children": [
              "IPY_MODEL_63a0d79dc9794915b6b14ed81a7a3bcf",
              "IPY_MODEL_965121b6de334c9b80699f1552421aef",
              "IPY_MODEL_f27f0e9e6c284adfa49fca3284ad01b8"
            ],
            "layout": "IPY_MODEL_518e2d57e3cc42c7992c58f790540f53"
          }
        },
        "965121b6de334c9b80699f1552421aef": {
          "model_module": "@jupyter-widgets/controls",
          "model_module_version": "1.5.0",
          "model_name": "FloatProgressModel",
          "state": {
            "_dom_classes": [],
            "_model_module": "@jupyter-widgets/controls",
            "_model_module_version": "1.5.0",
            "_model_name": "FloatProgressModel",
            "_view_count": null,
            "_view_module": "@jupyter-widgets/controls",
            "_view_module_version": "1.5.0",
            "_view_name": "ProgressView",
            "bar_style": "info",
            "description": "",
            "description_tooltip": null,
            "layout": "IPY_MODEL_ffb9ec954aa24e04bc99107665aa4f56",
            "max": 1,
            "min": 0,
            "orientation": "horizontal",
            "style": "IPY_MODEL_4de910cd2d55454d964efd569fefc9b4",
            "value": 1
          }
        },
        "9e4212959d154f249105a833f36a01f3": {
          "model_module": "@jupyter-widgets/controls",
          "model_module_version": "1.5.0",
          "model_name": "ProgressStyleModel",
          "state": {
            "_model_module": "@jupyter-widgets/controls",
            "_model_module_version": "1.5.0",
            "_model_name": "ProgressStyleModel",
            "_view_count": null,
            "_view_module": "@jupyter-widgets/base",
            "_view_module_version": "1.2.0",
            "_view_name": "StyleView",
            "bar_color": null,
            "description_width": ""
          }
        },
        "9f6cba51712d4f89a300d582c996c13f": {
          "model_module": "@jupyter-widgets/controls",
          "model_module_version": "1.5.0",
          "model_name": "HBoxModel",
          "state": {
            "_dom_classes": [],
            "_model_module": "@jupyter-widgets/controls",
            "_model_module_version": "1.5.0",
            "_model_name": "HBoxModel",
            "_view_count": null,
            "_view_module": "@jupyter-widgets/controls",
            "_view_module_version": "1.5.0",
            "_view_name": "HBoxView",
            "box_style": "",
            "children": [
              "IPY_MODEL_ef4d0e75cdbe45dba1f8104d21ba7ced",
              "IPY_MODEL_e19df927c0c14b79bf9db87be8649330",
              "IPY_MODEL_f5e032448cfc4dbaa8b3d711eb276312"
            ],
            "layout": "IPY_MODEL_d72e9efddd0547328b7fa1e1f7468332"
          }
        },
        "a2a7d879333f4090b278c96336b4df27": {
          "model_module": "@jupyter-widgets/controls",
          "model_module_version": "1.5.0",
          "model_name": "DescriptionStyleModel",
          "state": {
            "_model_module": "@jupyter-widgets/controls",
            "_model_module_version": "1.5.0",
            "_model_name": "DescriptionStyleModel",
            "_view_count": null,
            "_view_module": "@jupyter-widgets/base",
            "_view_module_version": "1.2.0",
            "_view_name": "StyleView",
            "description_width": ""
          }
        },
        "a674433ac6cd462886eff4b313727a23": {
          "model_module": "@jupyter-widgets/base",
          "model_module_version": "1.2.0",
          "model_name": "LayoutModel",
          "state": {
            "_model_module": "@jupyter-widgets/base",
            "_model_module_version": "1.2.0",
            "_model_name": "LayoutModel",
            "_view_count": null,
            "_view_module": "@jupyter-widgets/base",
            "_view_module_version": "1.2.0",
            "_view_name": "LayoutView",
            "align_content": null,
            "align_items": null,
            "align_self": null,
            "border": null,
            "bottom": null,
            "display": null,
            "flex": null,
            "flex_flow": null,
            "grid_area": null,
            "grid_auto_columns": null,
            "grid_auto_flow": null,
            "grid_auto_rows": null,
            "grid_column": null,
            "grid_gap": null,
            "grid_row": null,
            "grid_template_areas": null,
            "grid_template_columns": null,
            "grid_template_rows": null,
            "height": null,
            "justify_content": null,
            "justify_items": null,
            "left": null,
            "margin": null,
            "max_height": null,
            "max_width": null,
            "min_height": null,
            "min_width": null,
            "object_fit": null,
            "object_position": null,
            "order": null,
            "overflow": null,
            "overflow_x": null,
            "overflow_y": null,
            "padding": null,
            "right": null,
            "top": null,
            "visibility": null,
            "width": null
          }
        },
        "a82c5053929846928c32d4ac17763781": {
          "model_module": "@jupyter-widgets/base",
          "model_module_version": "1.2.0",
          "model_name": "LayoutModel",
          "state": {
            "_model_module": "@jupyter-widgets/base",
            "_model_module_version": "1.2.0",
            "_model_name": "LayoutModel",
            "_view_count": null,
            "_view_module": "@jupyter-widgets/base",
            "_view_module_version": "1.2.0",
            "_view_name": "LayoutView",
            "align_content": null,
            "align_items": null,
            "align_self": null,
            "border": null,
            "bottom": null,
            "display": null,
            "flex": null,
            "flex_flow": null,
            "grid_area": null,
            "grid_auto_columns": null,
            "grid_auto_flow": null,
            "grid_auto_rows": null,
            "grid_column": null,
            "grid_gap": null,
            "grid_row": null,
            "grid_template_areas": null,
            "grid_template_columns": null,
            "grid_template_rows": null,
            "height": null,
            "justify_content": null,
            "justify_items": null,
            "left": null,
            "margin": null,
            "max_height": null,
            "max_width": null,
            "min_height": null,
            "min_width": null,
            "object_fit": null,
            "object_position": null,
            "order": null,
            "overflow": null,
            "overflow_x": null,
            "overflow_y": null,
            "padding": null,
            "right": null,
            "top": null,
            "visibility": null,
            "width": null
          }
        },
        "a8ebe8c5de2741aeb5595c2944896e66": {
          "model_module": "@jupyter-widgets/controls",
          "model_module_version": "1.5.0",
          "model_name": "FloatProgressModel",
          "state": {
            "_dom_classes": [],
            "_model_module": "@jupyter-widgets/controls",
            "_model_module_version": "1.5.0",
            "_model_name": "FloatProgressModel",
            "_view_count": null,
            "_view_module": "@jupyter-widgets/controls",
            "_view_module_version": "1.5.0",
            "_view_name": "ProgressView",
            "bar_style": "success",
            "description": "",
            "description_tooltip": null,
            "layout": "IPY_MODEL_28b2231c10af48ed960a2ed31fa58432",
            "max": 3,
            "min": 0,
            "orientation": "horizontal",
            "style": "IPY_MODEL_9e4212959d154f249105a833f36a01f3",
            "value": 3
          }
        },
        "b74e6af9da7f49f6bc856fc4fd82b605": {
          "model_module": "@jupyter-widgets/controls",
          "model_module_version": "1.5.0",
          "model_name": "HTMLModel",
          "state": {
            "_dom_classes": [],
            "_model_module": "@jupyter-widgets/controls",
            "_model_module_version": "1.5.0",
            "_model_name": "HTMLModel",
            "_view_count": null,
            "_view_module": "@jupyter-widgets/controls",
            "_view_module_version": "1.5.0",
            "_view_name": "HTMLView",
            "description": "",
            "description_tooltip": null,
            "layout": "IPY_MODEL_f0027ccbc87944a6aa09a906736430bf",
            "placeholder": "​",
            "style": "IPY_MODEL_8158c3c8d4a54bd983d889e38d7dd421",
            "value": " 110M/110M [00:07&lt;00:00, 19.3MB/s]"
          }
        },
        "bd16c54ffe694ce096489c1e06a2102a": {
          "model_module": "@jupyter-widgets/controls",
          "model_module_version": "1.5.0",
          "model_name": "HTMLModel",
          "state": {
            "_dom_classes": [],
            "_model_module": "@jupyter-widgets/controls",
            "_model_module_version": "1.5.0",
            "_model_name": "HTMLModel",
            "_view_count": null,
            "_view_module": "@jupyter-widgets/controls",
            "_view_module_version": "1.5.0",
            "_view_name": "HTMLView",
            "description": "",
            "description_tooltip": null,
            "layout": "IPY_MODEL_7235eb91b41a45878691c9070c22f586",
            "placeholder": "​",
            "style": "IPY_MODEL_c6fe03d2faab41b695ef2a24ed30d23b",
            "value": "100%"
          }
        },
        "c16ad16546234eae8601134fb55f8b72": {
          "model_module": "@jupyter-widgets/base",
          "model_module_version": "1.2.0",
          "model_name": "LayoutModel",
          "state": {
            "_model_module": "@jupyter-widgets/base",
            "_model_module_version": "1.2.0",
            "_model_name": "LayoutModel",
            "_view_count": null,
            "_view_module": "@jupyter-widgets/base",
            "_view_module_version": "1.2.0",
            "_view_name": "LayoutView",
            "align_content": null,
            "align_items": null,
            "align_self": null,
            "border": null,
            "bottom": null,
            "display": null,
            "flex": null,
            "flex_flow": null,
            "grid_area": null,
            "grid_auto_columns": null,
            "grid_auto_flow": null,
            "grid_auto_rows": null,
            "grid_column": null,
            "grid_gap": null,
            "grid_row": null,
            "grid_template_areas": null,
            "grid_template_columns": null,
            "grid_template_rows": null,
            "height": null,
            "justify_content": null,
            "justify_items": null,
            "left": null,
            "margin": null,
            "max_height": null,
            "max_width": null,
            "min_height": null,
            "min_width": null,
            "object_fit": null,
            "object_position": null,
            "order": null,
            "overflow": null,
            "overflow_x": null,
            "overflow_y": null,
            "padding": null,
            "right": null,
            "top": null,
            "visibility": null,
            "width": null
          }
        },
        "c448027889a14b73928e243fd442772f": {
          "model_module": "@jupyter-widgets/controls",
          "model_module_version": "1.5.0",
          "model_name": "HTMLModel",
          "state": {
            "_dom_classes": [],
            "_model_module": "@jupyter-widgets/controls",
            "_model_module_version": "1.5.0",
            "_model_name": "HTMLModel",
            "_view_count": null,
            "_view_module": "@jupyter-widgets/controls",
            "_view_module_version": "1.5.0",
            "_view_name": "HTMLView",
            "description": "",
            "description_tooltip": null,
            "layout": "IPY_MODEL_c16ad16546234eae8601134fb55f8b72",
            "placeholder": "​",
            "style": "IPY_MODEL_6be7cb27614b45a1bbecd2728c161b81",
            "value": " 952/0 [00:15&lt;00:00, 7771.33 examples/s]"
          }
        },
        "c6fe03d2faab41b695ef2a24ed30d23b": {
          "model_module": "@jupyter-widgets/controls",
          "model_module_version": "1.5.0",
          "model_name": "DescriptionStyleModel",
          "state": {
            "_model_module": "@jupyter-widgets/controls",
            "_model_module_version": "1.5.0",
            "_model_name": "DescriptionStyleModel",
            "_view_count": null,
            "_view_module": "@jupyter-widgets/base",
            "_view_module_version": "1.2.0",
            "_view_name": "StyleView",
            "description_width": ""
          }
        },
        "cf73b7e9a0254b1b9a56e471c373c6c8": {
          "model_module": "@jupyter-widgets/controls",
          "model_module_version": "1.5.0",
          "model_name": "DescriptionStyleModel",
          "state": {
            "_model_module": "@jupyter-widgets/controls",
            "_model_module_version": "1.5.0",
            "_model_name": "DescriptionStyleModel",
            "_view_count": null,
            "_view_module": "@jupyter-widgets/base",
            "_view_module_version": "1.2.0",
            "_view_name": "StyleView",
            "description_width": ""
          }
        },
        "d4e4662a846b47599c3cbe8cfbe1a11f": {
          "model_module": "@jupyter-widgets/base",
          "model_module_version": "1.2.0",
          "model_name": "LayoutModel",
          "state": {
            "_model_module": "@jupyter-widgets/base",
            "_model_module_version": "1.2.0",
            "_model_name": "LayoutModel",
            "_view_count": null,
            "_view_module": "@jupyter-widgets/base",
            "_view_module_version": "1.2.0",
            "_view_name": "LayoutView",
            "align_content": null,
            "align_items": null,
            "align_self": null,
            "border": null,
            "bottom": null,
            "display": null,
            "flex": null,
            "flex_flow": null,
            "grid_area": null,
            "grid_auto_columns": null,
            "grid_auto_flow": null,
            "grid_auto_rows": null,
            "grid_column": null,
            "grid_gap": null,
            "grid_row": null,
            "grid_template_areas": null,
            "grid_template_columns": null,
            "grid_template_rows": null,
            "height": null,
            "justify_content": null,
            "justify_items": null,
            "left": null,
            "margin": null,
            "max_height": null,
            "max_width": null,
            "min_height": null,
            "min_width": null,
            "object_fit": null,
            "object_position": null,
            "order": null,
            "overflow": null,
            "overflow_x": null,
            "overflow_y": null,
            "padding": null,
            "right": null,
            "top": null,
            "visibility": null,
            "width": null
          }
        },
        "d6165b537c1941edacc8a96b94e27e76": {
          "model_module": "@jupyter-widgets/controls",
          "model_module_version": "1.5.0",
          "model_name": "HTMLModel",
          "state": {
            "_dom_classes": [],
            "_model_module": "@jupyter-widgets/controls",
            "_model_module_version": "1.5.0",
            "_model_name": "HTMLModel",
            "_view_count": null,
            "_view_module": "@jupyter-widgets/controls",
            "_view_module_version": "1.5.0",
            "_view_name": "HTMLView",
            "description": "",
            "description_tooltip": null,
            "layout": "IPY_MODEL_15005108681e43c0995bab2037da8d84",
            "placeholder": "​",
            "style": "IPY_MODEL_f5f52d60f39f4ff6b860c0c63f4312cc",
            "value": " 1.69k/1.69k [00:00&lt;00:00, 90.5kB/s]"
          }
        },
        "d6869be67180450b87d78f0a1deb0074": {
          "model_module": "@jupyter-widgets/controls",
          "model_module_version": "1.5.0",
          "model_name": "HBoxModel",
          "state": {
            "_dom_classes": [],
            "_model_module": "@jupyter-widgets/controls",
            "_model_module_version": "1.5.0",
            "_model_name": "HBoxModel",
            "_view_count": null,
            "_view_module": "@jupyter-widgets/controls",
            "_view_module_version": "1.5.0",
            "_view_name": "HBoxView",
            "box_style": "",
            "children": [
              "IPY_MODEL_bd16c54ffe694ce096489c1e06a2102a",
              "IPY_MODEL_a8ebe8c5de2741aeb5595c2944896e66",
              "IPY_MODEL_4816fd94c7724342bb22d3416038626a"
            ],
            "layout": "IPY_MODEL_69a0f737527e42c7910e86fcac7913e2"
          }
        },
        "d72e9efddd0547328b7fa1e1f7468332": {
          "model_module": "@jupyter-widgets/base",
          "model_module_version": "1.2.0",
          "model_name": "LayoutModel",
          "state": {
            "_model_module": "@jupyter-widgets/base",
            "_model_module_version": "1.2.0",
            "_model_name": "LayoutModel",
            "_view_count": null,
            "_view_module": "@jupyter-widgets/base",
            "_view_module_version": "1.2.0",
            "_view_name": "LayoutView",
            "align_content": null,
            "align_items": null,
            "align_self": null,
            "border": null,
            "bottom": null,
            "display": null,
            "flex": null,
            "flex_flow": null,
            "grid_area": null,
            "grid_auto_columns": null,
            "grid_auto_flow": null,
            "grid_auto_rows": null,
            "grid_column": null,
            "grid_gap": null,
            "grid_row": null,
            "grid_template_areas": null,
            "grid_template_columns": null,
            "grid_template_rows": null,
            "height": null,
            "justify_content": null,
            "justify_items": null,
            "left": null,
            "margin": null,
            "max_height": null,
            "max_width": null,
            "min_height": null,
            "min_width": null,
            "object_fit": null,
            "object_position": null,
            "order": null,
            "overflow": null,
            "overflow_x": null,
            "overflow_y": null,
            "padding": null,
            "right": null,
            "top": null,
            "visibility": null,
            "width": null
          }
        },
        "d7ae28ba02a04c3e8594f505400cdbdb": {
          "model_module": "@jupyter-widgets/base",
          "model_module_version": "1.2.0",
          "model_name": "LayoutModel",
          "state": {
            "_model_module": "@jupyter-widgets/base",
            "_model_module_version": "1.2.0",
            "_model_name": "LayoutModel",
            "_view_count": null,
            "_view_module": "@jupyter-widgets/base",
            "_view_module_version": "1.2.0",
            "_view_name": "LayoutView",
            "align_content": null,
            "align_items": null,
            "align_self": null,
            "border": null,
            "bottom": null,
            "display": null,
            "flex": null,
            "flex_flow": null,
            "grid_area": null,
            "grid_auto_columns": null,
            "grid_auto_flow": null,
            "grid_auto_rows": null,
            "grid_column": null,
            "grid_gap": null,
            "grid_row": null,
            "grid_template_areas": null,
            "grid_template_columns": null,
            "grid_template_rows": null,
            "height": null,
            "justify_content": null,
            "justify_items": null,
            "left": null,
            "margin": null,
            "max_height": null,
            "max_width": null,
            "min_height": null,
            "min_width": null,
            "object_fit": null,
            "object_position": null,
            "order": null,
            "overflow": null,
            "overflow_x": null,
            "overflow_y": null,
            "padding": null,
            "right": null,
            "top": null,
            "visibility": null,
            "width": "20px"
          }
        },
        "d9a80df378b649b18efe88ca04d2ac46": {
          "model_module": "@jupyter-widgets/controls",
          "model_module_version": "1.5.0",
          "model_name": "HBoxModel",
          "state": {
            "_dom_classes": [],
            "_model_module": "@jupyter-widgets/controls",
            "_model_module_version": "1.5.0",
            "_model_name": "HBoxModel",
            "_view_count": null,
            "_view_module": "@jupyter-widgets/controls",
            "_view_module_version": "1.5.0",
            "_view_name": "HBoxView",
            "box_style": "",
            "children": [
              "IPY_MODEL_f36cebc6d0ed42218d2f4decf3c681f5",
              "IPY_MODEL_5d8d48cce6224feba3b827ec8ef39c04",
              "IPY_MODEL_d6165b537c1941edacc8a96b94e27e76"
            ],
            "layout": "IPY_MODEL_37da46cc1dba4cadbc32718d85589fb7"
          }
        },
        "da2d551d7d0b44f58d7c4a65c9b4f508": {
          "model_module": "@jupyter-widgets/base",
          "model_module_version": "1.2.0",
          "model_name": "LayoutModel",
          "state": {
            "_model_module": "@jupyter-widgets/base",
            "_model_module_version": "1.2.0",
            "_model_name": "LayoutModel",
            "_view_count": null,
            "_view_module": "@jupyter-widgets/base",
            "_view_module_version": "1.2.0",
            "_view_name": "LayoutView",
            "align_content": null,
            "align_items": null,
            "align_self": null,
            "border": null,
            "bottom": null,
            "display": null,
            "flex": null,
            "flex_flow": null,
            "grid_area": null,
            "grid_auto_columns": null,
            "grid_auto_flow": null,
            "grid_auto_rows": null,
            "grid_column": null,
            "grid_gap": null,
            "grid_row": null,
            "grid_template_areas": null,
            "grid_template_columns": null,
            "grid_template_rows": null,
            "height": null,
            "justify_content": null,
            "justify_items": null,
            "left": null,
            "margin": null,
            "max_height": null,
            "max_width": null,
            "min_height": null,
            "min_width": null,
            "object_fit": null,
            "object_position": null,
            "order": null,
            "overflow": null,
            "overflow_x": null,
            "overflow_y": null,
            "padding": null,
            "right": null,
            "top": null,
            "visibility": null,
            "width": null
          }
        },
        "e19df927c0c14b79bf9db87be8649330": {
          "model_module": "@jupyter-widgets/controls",
          "model_module_version": "1.5.0",
          "model_name": "FloatProgressModel",
          "state": {
            "_dom_classes": [],
            "_model_module": "@jupyter-widgets/controls",
            "_model_module_version": "1.5.0",
            "_model_name": "FloatProgressModel",
            "_view_count": null,
            "_view_module": "@jupyter-widgets/controls",
            "_view_module_version": "1.5.0",
            "_view_name": "ProgressView",
            "bar_style": "success",
            "description": "",
            "description_tooltip": null,
            "layout": "IPY_MODEL_fbddfb1d7f4540fda5a161d587acb337",
            "max": 345636463,
            "min": 0,
            "orientation": "horizontal",
            "style": "IPY_MODEL_410b0aff282044cb8e291afe80ce54da",
            "value": 345636463
          }
        },
        "e377186058564f3d9e7f22f546ff27c4": {
          "model_module": "@jupyter-widgets/controls",
          "model_module_version": "1.5.0",
          "model_name": "DescriptionStyleModel",
          "state": {
            "_model_module": "@jupyter-widgets/controls",
            "_model_module_version": "1.5.0",
            "_model_name": "DescriptionStyleModel",
            "_view_count": null,
            "_view_module": "@jupyter-widgets/base",
            "_view_module_version": "1.2.0",
            "_view_name": "StyleView",
            "description_width": ""
          }
        },
        "e611614a9cb543d79438bf87b878f4a9": {
          "model_module": "@jupyter-widgets/controls",
          "model_module_version": "1.5.0",
          "model_name": "ProgressStyleModel",
          "state": {
            "_model_module": "@jupyter-widgets/controls",
            "_model_module_version": "1.5.0",
            "_model_name": "ProgressStyleModel",
            "_view_count": null,
            "_view_module": "@jupyter-widgets/base",
            "_view_module_version": "1.2.0",
            "_view_name": "StyleView",
            "bar_color": null,
            "description_width": ""
          }
        },
        "ea40f80a458f4b4ea5aedca7903302b2": {
          "model_module": "@jupyter-widgets/base",
          "model_module_version": "1.2.0",
          "model_name": "LayoutModel",
          "state": {
            "_model_module": "@jupyter-widgets/base",
            "_model_module_version": "1.2.0",
            "_model_name": "LayoutModel",
            "_view_count": null,
            "_view_module": "@jupyter-widgets/base",
            "_view_module_version": "1.2.0",
            "_view_name": "LayoutView",
            "align_content": null,
            "align_items": null,
            "align_self": null,
            "border": null,
            "bottom": null,
            "display": null,
            "flex": null,
            "flex_flow": null,
            "grid_area": null,
            "grid_auto_columns": null,
            "grid_auto_flow": null,
            "grid_auto_rows": null,
            "grid_column": null,
            "grid_gap": null,
            "grid_row": null,
            "grid_template_areas": null,
            "grid_template_columns": null,
            "grid_template_rows": null,
            "height": null,
            "justify_content": null,
            "justify_items": null,
            "left": null,
            "margin": null,
            "max_height": null,
            "max_width": null,
            "min_height": null,
            "min_width": null,
            "object_fit": null,
            "object_position": null,
            "order": null,
            "overflow": null,
            "overflow_x": null,
            "overflow_y": null,
            "padding": null,
            "right": null,
            "top": null,
            "visibility": null,
            "width": null
          }
        },
        "eb3572613c4f441db5716122cad328dc": {
          "model_module": "@jupyter-widgets/controls",
          "model_module_version": "1.5.0",
          "model_name": "FloatProgressModel",
          "state": {
            "_dom_classes": [],
            "_model_module": "@jupyter-widgets/controls",
            "_model_module_version": "1.5.0",
            "_model_name": "FloatProgressModel",
            "_view_count": null,
            "_view_module": "@jupyter-widgets/controls",
            "_view_module_version": "1.5.0",
            "_view_name": "ProgressView",
            "bar_style": "success",
            "description": "",
            "description_tooltip": null,
            "layout": "IPY_MODEL_5377803e43224421b8c8935fa9121413",
            "max": 502,
            "min": 0,
            "orientation": "horizontal",
            "style": "IPY_MODEL_e611614a9cb543d79438bf87b878f4a9",
            "value": 502
          }
        },
        "ed77186c30dc43279236350029379fd0": {
          "model_module": "@jupyter-widgets/controls",
          "model_module_version": "1.5.0",
          "model_name": "ProgressStyleModel",
          "state": {
            "_model_module": "@jupyter-widgets/controls",
            "_model_module_version": "1.5.0",
            "_model_name": "ProgressStyleModel",
            "_view_count": null,
            "_view_module": "@jupyter-widgets/base",
            "_view_module_version": "1.2.0",
            "_view_name": "StyleView",
            "bar_color": null,
            "description_width": ""
          }
        },
        "eebf47fa01354da3a8c39ec1ae3149c6": {
          "model_module": "@jupyter-widgets/base",
          "model_module_version": "1.2.0",
          "model_name": "LayoutModel",
          "state": {
            "_model_module": "@jupyter-widgets/base",
            "_model_module_version": "1.2.0",
            "_model_name": "LayoutModel",
            "_view_count": null,
            "_view_module": "@jupyter-widgets/base",
            "_view_module_version": "1.2.0",
            "_view_name": "LayoutView",
            "align_content": null,
            "align_items": null,
            "align_self": null,
            "border": null,
            "bottom": null,
            "display": null,
            "flex": null,
            "flex_flow": null,
            "grid_area": null,
            "grid_auto_columns": null,
            "grid_auto_flow": null,
            "grid_auto_rows": null,
            "grid_column": null,
            "grid_gap": null,
            "grid_row": null,
            "grid_template_areas": null,
            "grid_template_columns": null,
            "grid_template_rows": null,
            "height": null,
            "justify_content": null,
            "justify_items": null,
            "left": null,
            "margin": null,
            "max_height": null,
            "max_width": null,
            "min_height": null,
            "min_width": null,
            "object_fit": null,
            "object_position": null,
            "order": null,
            "overflow": null,
            "overflow_x": null,
            "overflow_y": null,
            "padding": null,
            "right": null,
            "top": null,
            "visibility": null,
            "width": null
          }
        },
        "ef4d0e75cdbe45dba1f8104d21ba7ced": {
          "model_module": "@jupyter-widgets/controls",
          "model_module_version": "1.5.0",
          "model_name": "HTMLModel",
          "state": {
            "_dom_classes": [],
            "_model_module": "@jupyter-widgets/controls",
            "_model_module_version": "1.5.0",
            "_model_name": "HTMLModel",
            "_view_count": null,
            "_view_module": "@jupyter-widgets/controls",
            "_view_module_version": "1.5.0",
            "_view_name": "HTMLView",
            "description": "",
            "description_tooltip": null,
            "layout": "IPY_MODEL_d4e4662a846b47599c3cbe8cfbe1a11f",
            "placeholder": "​",
            "style": "IPY_MODEL_3bf2d708e6354f3487c299fbe6b0d86c",
            "value": "Downloading pytorch_model.bin: 100%"
          }
        },
        "f0027ccbc87944a6aa09a906736430bf": {
          "model_module": "@jupyter-widgets/base",
          "model_module_version": "1.2.0",
          "model_name": "LayoutModel",
          "state": {
            "_model_module": "@jupyter-widgets/base",
            "_model_module_version": "1.2.0",
            "_model_name": "LayoutModel",
            "_view_count": null,
            "_view_module": "@jupyter-widgets/base",
            "_view_module_version": "1.2.0",
            "_view_name": "LayoutView",
            "align_content": null,
            "align_items": null,
            "align_self": null,
            "border": null,
            "bottom": null,
            "display": null,
            "flex": null,
            "flex_flow": null,
            "grid_area": null,
            "grid_auto_columns": null,
            "grid_auto_flow": null,
            "grid_auto_rows": null,
            "grid_column": null,
            "grid_gap": null,
            "grid_row": null,
            "grid_template_areas": null,
            "grid_template_columns": null,
            "grid_template_rows": null,
            "height": null,
            "justify_content": null,
            "justify_items": null,
            "left": null,
            "margin": null,
            "max_height": null,
            "max_width": null,
            "min_height": null,
            "min_width": null,
            "object_fit": null,
            "object_position": null,
            "order": null,
            "overflow": null,
            "overflow_x": null,
            "overflow_y": null,
            "padding": null,
            "right": null,
            "top": null,
            "visibility": null,
            "width": null
          }
        },
        "f0d89f39bdbc4af78d8696ee17f8f91e": {
          "model_module": "@jupyter-widgets/base",
          "model_module_version": "1.2.0",
          "model_name": "LayoutModel",
          "state": {
            "_model_module": "@jupyter-widgets/base",
            "_model_module_version": "1.2.0",
            "_model_name": "LayoutModel",
            "_view_count": null,
            "_view_module": "@jupyter-widgets/base",
            "_view_module_version": "1.2.0",
            "_view_name": "LayoutView",
            "align_content": null,
            "align_items": null,
            "align_self": null,
            "border": null,
            "bottom": null,
            "display": null,
            "flex": null,
            "flex_flow": null,
            "grid_area": null,
            "grid_auto_columns": null,
            "grid_auto_flow": null,
            "grid_auto_rows": null,
            "grid_column": null,
            "grid_gap": null,
            "grid_row": null,
            "grid_template_areas": null,
            "grid_template_columns": null,
            "grid_template_rows": null,
            "height": null,
            "justify_content": null,
            "justify_items": null,
            "left": null,
            "margin": null,
            "max_height": null,
            "max_width": null,
            "min_height": null,
            "min_width": null,
            "object_fit": null,
            "object_position": null,
            "order": null,
            "overflow": null,
            "overflow_x": null,
            "overflow_y": null,
            "padding": null,
            "right": null,
            "top": null,
            "visibility": null,
            "width": null
          }
        },
        "f27f0e9e6c284adfa49fca3284ad01b8": {
          "model_module": "@jupyter-widgets/controls",
          "model_module_version": "1.5.0",
          "model_name": "HTMLModel",
          "state": {
            "_dom_classes": [],
            "_model_module": "@jupyter-widgets/controls",
            "_model_module_version": "1.5.0",
            "_model_name": "HTMLModel",
            "_view_count": null,
            "_view_module": "@jupyter-widgets/controls",
            "_view_module_version": "1.5.0",
            "_view_name": "HTMLView",
            "description": "",
            "description_tooltip": null,
            "layout": "IPY_MODEL_39e4d01034b94bd6ada1ee6f041934e8",
            "placeholder": "​",
            "style": "IPY_MODEL_cf73b7e9a0254b1b9a56e471c373c6c8",
            "value": " 4838/0 [00:16&lt;00:00, 10535.63 examples/s]"
          }
        },
        "f36cebc6d0ed42218d2f4decf3c681f5": {
          "model_module": "@jupyter-widgets/controls",
          "model_module_version": "1.5.0",
          "model_name": "HTMLModel",
          "state": {
            "_dom_classes": [],
            "_model_module": "@jupyter-widgets/controls",
            "_model_module_version": "1.5.0",
            "_model_name": "HTMLModel",
            "_view_count": null,
            "_view_module": "@jupyter-widgets/controls",
            "_view_module_version": "1.5.0",
            "_view_name": "HTMLView",
            "description": "",
            "description_tooltip": null,
            "layout": "IPY_MODEL_a82c5053929846928c32d4ac17763781",
            "placeholder": "​",
            "style": "IPY_MODEL_5af92c0b54b44ce9ac92a1d59bb83c23",
            "value": "Downloading readme: 100%"
          }
        },
        "f4738b13a11643a5bde854384d2b762f": {
          "model_module": "@jupyter-widgets/controls",
          "model_module_version": "1.5.0",
          "model_name": "FloatProgressModel",
          "state": {
            "_dom_classes": [],
            "_model_module": "@jupyter-widgets/controls",
            "_model_module_version": "1.5.0",
            "_model_name": "FloatProgressModel",
            "_view_count": null,
            "_view_module": "@jupyter-widgets/controls",
            "_view_module_version": "1.5.0",
            "_view_name": "ProgressView",
            "bar_style": "info",
            "description": "",
            "description_tooltip": null,
            "layout": "IPY_MODEL_d7ae28ba02a04c3e8594f505400cdbdb",
            "max": 1,
            "min": 0,
            "orientation": "horizontal",
            "style": "IPY_MODEL_ed77186c30dc43279236350029379fd0",
            "value": 1
          }
        },
        "f5e032448cfc4dbaa8b3d711eb276312": {
          "model_module": "@jupyter-widgets/controls",
          "model_module_version": "1.5.0",
          "model_name": "HTMLModel",
          "state": {
            "_dom_classes": [],
            "_model_module": "@jupyter-widgets/controls",
            "_model_module_version": "1.5.0",
            "_model_name": "HTMLModel",
            "_view_count": null,
            "_view_module": "@jupyter-widgets/controls",
            "_view_module_version": "1.5.0",
            "_view_name": "HTMLView",
            "description": "",
            "description_tooltip": null,
            "layout": "IPY_MODEL_eebf47fa01354da3a8c39ec1ae3149c6",
            "placeholder": "​",
            "style": "IPY_MODEL_a2a7d879333f4090b278c96336b4df27",
            "value": " 346M/346M [00:03&lt;00:00, 85.7MB/s]"
          }
        },
        "f5f52d60f39f4ff6b860c0c63f4312cc": {
          "model_module": "@jupyter-widgets/controls",
          "model_module_version": "1.5.0",
          "model_name": "DescriptionStyleModel",
          "state": {
            "_model_module": "@jupyter-widgets/controls",
            "_model_module_version": "1.5.0",
            "_model_name": "DescriptionStyleModel",
            "_view_count": null,
            "_view_module": "@jupyter-widgets/base",
            "_view_module_version": "1.2.0",
            "_view_name": "StyleView",
            "description_width": ""
          }
        },
        "f8388358a23d4ebfa852e7ed66815d2b": {
          "model_module": "@jupyter-widgets/controls",
          "model_module_version": "1.5.0",
          "model_name": "HBoxModel",
          "state": {
            "_dom_classes": [],
            "_model_module": "@jupyter-widgets/controls",
            "_model_module_version": "1.5.0",
            "_model_name": "HBoxModel",
            "_view_count": null,
            "_view_module": "@jupyter-widgets/controls",
            "_view_module_version": "1.5.0",
            "_view_name": "HBoxView",
            "box_style": "",
            "children": [
              "IPY_MODEL_806585e5e8db466f9063e5b6081ae3d8",
              "IPY_MODEL_eb3572613c4f441db5716122cad328dc",
              "IPY_MODEL_469372dce758440090a59766eaca2333"
            ],
            "layout": "IPY_MODEL_26b35450bc494c49a86fd46c36b9ab9c"
          }
        },
        "f859905534e3465caedda141a02a45a9": {
          "model_module": "@jupyter-widgets/controls",
          "model_module_version": "1.5.0",
          "model_name": "ProgressStyleModel",
          "state": {
            "_model_module": "@jupyter-widgets/controls",
            "_model_module_version": "1.5.0",
            "_model_name": "ProgressStyleModel",
            "_view_count": null,
            "_view_module": "@jupyter-widgets/base",
            "_view_module_version": "1.2.0",
            "_view_name": "StyleView",
            "bar_color": null,
            "description_width": ""
          }
        },
        "fbddfb1d7f4540fda5a161d587acb337": {
          "model_module": "@jupyter-widgets/base",
          "model_module_version": "1.2.0",
          "model_name": "LayoutModel",
          "state": {
            "_model_module": "@jupyter-widgets/base",
            "_model_module_version": "1.2.0",
            "_model_name": "LayoutModel",
            "_view_count": null,
            "_view_module": "@jupyter-widgets/base",
            "_view_module_version": "1.2.0",
            "_view_name": "LayoutView",
            "align_content": null,
            "align_items": null,
            "align_self": null,
            "border": null,
            "bottom": null,
            "display": null,
            "flex": null,
            "flex_flow": null,
            "grid_area": null,
            "grid_auto_columns": null,
            "grid_auto_flow": null,
            "grid_auto_rows": null,
            "grid_column": null,
            "grid_gap": null,
            "grid_row": null,
            "grid_template_areas": null,
            "grid_template_columns": null,
            "grid_template_rows": null,
            "height": null,
            "justify_content": null,
            "justify_items": null,
            "left": null,
            "margin": null,
            "max_height": null,
            "max_width": null,
            "min_height": null,
            "min_width": null,
            "object_fit": null,
            "object_position": null,
            "order": null,
            "overflow": null,
            "overflow_x": null,
            "overflow_y": null,
            "padding": null,
            "right": null,
            "top": null,
            "visibility": null,
            "width": null
          }
        },
        "fbe1126194c34764b21fe98ae8b66a32": {
          "model_module": "@jupyter-widgets/base",
          "model_module_version": "1.2.0",
          "model_name": "LayoutModel",
          "state": {
            "_model_module": "@jupyter-widgets/base",
            "_model_module_version": "1.2.0",
            "_model_name": "LayoutModel",
            "_view_count": null,
            "_view_module": "@jupyter-widgets/base",
            "_view_module_version": "1.2.0",
            "_view_name": "LayoutView",
            "align_content": null,
            "align_items": null,
            "align_self": null,
            "border": null,
            "bottom": null,
            "display": null,
            "flex": null,
            "flex_flow": null,
            "grid_area": null,
            "grid_auto_columns": null,
            "grid_auto_flow": null,
            "grid_auto_rows": null,
            "grid_column": null,
            "grid_gap": null,
            "grid_row": null,
            "grid_template_areas": null,
            "grid_template_columns": null,
            "grid_template_rows": null,
            "height": null,
            "justify_content": null,
            "justify_items": null,
            "left": null,
            "margin": null,
            "max_height": null,
            "max_width": null,
            "min_height": null,
            "min_width": null,
            "object_fit": null,
            "object_position": null,
            "order": null,
            "overflow": null,
            "overflow_x": null,
            "overflow_y": null,
            "padding": null,
            "right": null,
            "top": null,
            "visibility": null,
            "width": null
          }
        },
        "fdf21c2c812d489daf926d7415fb3563": {
          "model_module": "@jupyter-widgets/controls",
          "model_module_version": "1.5.0",
          "model_name": "DescriptionStyleModel",
          "state": {
            "_model_module": "@jupyter-widgets/controls",
            "_model_module_version": "1.5.0",
            "_model_name": "DescriptionStyleModel",
            "_view_count": null,
            "_view_module": "@jupyter-widgets/base",
            "_view_module_version": "1.2.0",
            "_view_name": "StyleView",
            "description_width": ""
          }
        },
        "fe43da2a8b2c4327858bc67e5dee14f2": {
          "model_module": "@jupyter-widgets/controls",
          "model_module_version": "1.5.0",
          "model_name": "FloatProgressModel",
          "state": {
            "_dom_classes": [],
            "_model_module": "@jupyter-widgets/controls",
            "_model_module_version": "1.5.0",
            "_model_name": "FloatProgressModel",
            "_view_count": null,
            "_view_module": "@jupyter-widgets/controls",
            "_view_module_version": "1.5.0",
            "_view_name": "ProgressView",
            "bar_style": "success",
            "description": "",
            "description_tooltip": null,
            "layout": "IPY_MODEL_885345f70ae04917b414a372ff80cc52",
            "max": 110279045,
            "min": 0,
            "orientation": "horizontal",
            "style": "IPY_MODEL_6cad9749cc0041d783928e7440ce0fb9",
            "value": 110279045
          }
        },
        "ffb9ec954aa24e04bc99107665aa4f56": {
          "model_module": "@jupyter-widgets/base",
          "model_module_version": "1.2.0",
          "model_name": "LayoutModel",
          "state": {
            "_model_module": "@jupyter-widgets/base",
            "_model_module_version": "1.2.0",
            "_model_name": "LayoutModel",
            "_view_count": null,
            "_view_module": "@jupyter-widgets/base",
            "_view_module_version": "1.2.0",
            "_view_name": "LayoutView",
            "align_content": null,
            "align_items": null,
            "align_self": null,
            "border": null,
            "bottom": null,
            "display": null,
            "flex": null,
            "flex_flow": null,
            "grid_area": null,
            "grid_auto_columns": null,
            "grid_auto_flow": null,
            "grid_auto_rows": null,
            "grid_column": null,
            "grid_gap": null,
            "grid_row": null,
            "grid_template_areas": null,
            "grid_template_columns": null,
            "grid_template_rows": null,
            "height": null,
            "justify_content": null,
            "justify_items": null,
            "left": null,
            "margin": null,
            "max_height": null,
            "max_width": null,
            "min_height": null,
            "min_width": null,
            "object_fit": null,
            "object_position": null,
            "order": null,
            "overflow": null,
            "overflow_x": null,
            "overflow_y": null,
            "padding": null,
            "right": null,
            "top": null,
            "visibility": null,
            "width": "20px"
          }
        }
      }
    }
  },
  "nbformat": 4,
  "nbformat_minor": 0
}
